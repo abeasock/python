{
 "cells": [
  {
   "cell_type": "markdown",
   "metadata": {},
   "source": [
    "<br>\n",
    "# Introduction to Machine Learning with Python & Scikit-learn using a Classification Problem\n",
    "\n",
    "### <span style=\"color:red\">This notebook was created using Python 2.7.12 | Anaconda 4.1.1 (64-bit) | Jupyter 4.2.1</span>\n",
    "\n",
    "# Predicting if a Person Makes over $50k\n",
    "\n",
    "### Table of Contents:\n",
    "\n",
    "- [Obective](#objective)\n",
    "- [Import Packages](#import)\n",
    "- [Part I: Data Understanding](#data_understanding)\n",
    "    - [Data Background](#data_background)\n",
    "    - [Data Exploration](#data_exploration)\n",
    "- [Part II: Data Preparation](#data_preparation)\n",
    "    - [Clean Categorical Variables](#clean_cat_var)\n",
    "    - [Missing Data](#missing)\n",
    "    - [Convert Strings to Numeric](#convert)\n",
    "    - [Variable Correlation](#var_corr)\n",
    "    - [Prepare for Modeling](#model_prep)\n",
    "        - [Set Target and Predictor Variables](#set_vars)\n",
    "        - [Partition Data](#partition)\n",
    "- [Part III. Modeling](#modeling)\n",
    "    - [Logistic Regression](#lr)\n",
    "        - [Fit the model](#lr_fit)\n",
    "        - [Model Evaluation using the Test Data](#lr_eval)\n",
    "    - [Decision Tree](#dt)\n",
    "        - [Fit the model](#dt_fit)\n",
    "        - [Model Evaluation using the Test Data](#dt_eval)\n",
    "        - [Visualization of Decision Tree](#dt_visual)\n",
    "        - [Feature Importance](#dt_var_imp)\n",
    "    - [Naive Bayes](#naive)\n",
    "        - [Fit the model](#naive_fit)\n",
    "        - [Model Evaluation using the Test Data](#naive_eval)\n",
    "    - [Support Vector Machines](#svm)\n",
    "        - [Fit the model](#svm_fit)\n",
    "        - [Model Evaluation using the Test Data](#svm_eval)\n",
    "- [Part IV: Evaluation](#evaluation)\n",
    "\t- [Model Performance Comparision](#performance_compare)\n",
    "- [Conclusion](#conclusion)"
   ]
  },
  {
   "cell_type": "markdown",
   "metadata": {},
   "source": [
    "<a name=\"objective\"></a>\n",
    "## Objective: \n",
    "Predict whether a person makes over $50K a year based on census data. "
   ]
  },
  {
   "cell_type": "markdown",
   "metadata": {},
   "source": [
    "<a name=\"import\"></a>\n",
    "#### Import Packages\n",
    "\n",
    "Scikit-learn (`Sklearn`) is a Python library for machine learning. Other major Python libraries used in this tutorial include: `Pandas`, `Numpy`, `Matplotlib`, and `Seaborn`. Note that `Seaborn` is not pre-packed in Anaconda and needs to be installed separately. It can be easily installed through the command line using the command `conda install seaborn`.\n",
    "\n",
    "`Graphviz` package facilitates the creation and rendering of graph descriptions in the DOT language of the Graphviz graph drawing software (repo) from Python. This is used in this notebook to create decision tree visuals. This must be installed separately, but please note that all of the code below will work without installing this except the code block that creates a visual of the decision tree. More info on [Graphviz](https://pypi.python.org/pypi/graphviz)."
   ]
  },
  {
   "cell_type": "code",
   "execution_count": 46,
   "metadata": {
    "collapsed": true
   },
   "outputs": [],
   "source": [
    "# show plots in the notebook\n",
    "%matplotlib inline\n",
    "\n",
    "# Packages\n",
    "import pandas as pd\n",
    "import numpy as np\n",
    "from math import sqrt\n",
    "import matplotlib.pyplot as plt\n",
    "import matplotlib.ticker as ticker\n",
    "import seaborn as sns\n",
    "from collections import defaultdict\n",
    "from os import system\n",
    "from IPython.display import Image\n",
    "from sklearn.preprocessing import LabelEncoder\n",
    "from sklearn.linear_model import LogisticRegression\n",
    "from sklearn.tree import DecisionTreeClassifier, export_graphviz\n",
    "from sklearn.naive_bayes import GaussianNB\n",
    "from sklearn.svm import LinearSVC\n",
    "from sklearn.calibration import CalibratedClassifierCV\n",
    "from sklearn import metrics\n",
    "from sklearn.cross_validation import cross_val_score, StratifiedShuffleSplit"
   ]
  },
  {
   "cell_type": "markdown",
   "metadata": {},
   "source": [
    "<a name=\"data_understanding\"></a>\n",
    "# I. Data Understanding"
   ]
  },
  {
   "cell_type": "markdown",
   "metadata": {},
   "source": [
    "<a name=\"data_background\"></a>\n",
    "### Data Background\n",
    "\n",
    "Data Used: Adult Dataset\n",
    "\n",
    "The \"Adult\" dataset is hosted on the UC Irvine Machine Learning Repository. The data was extracted from 1994 census data. More information on the dataset is available [here](http://archive.ics.uci.edu/ml/machine-learning-databases/adult/adult.names).\n",
    "\n",
    "The data has already been divided into a training dataset containing thirty two thousand records and a test dataset containing sixteen thousand records. Since there is an abundent amount of data in the train dataset we are going to use only this for the analysis and partition it into our own train and test datasets. \n",
    "\n",
    "The data contains 15 variables:\n",
    "- Age: continuous\n",
    "- Workclass: 8 values\n",
    "- Fnlwgt: continuous\n",
    "- Education: 16 values\n",
    "- Education_num: continuous\n",
    "- Marital_status: 7 values\n",
    "- Occupation: 14 values\n",
    "- Relationship: 6 values\n",
    "- Race: 5 values\n",
    "- Sex: Male, Female\n",
    "- Capital_gain: continuous\n",
    "- Capital_loss: continuous\n",
    "- Hours_per_week: continuous\n",
    "- Native_country: 41 values\n",
    "- Income: <=50K, >50K \n",
    "\n",
    "### Import Data\n",
    "The data can be read directly from the url. There are no headers so we have to define them ourselves. Also there is a white space after every comma in the data that we must account for this in `sep` parameter when reading in the data to avoid bring in whitespace.\n",
    "\n",
    "`Pandas` is a popular Python library for data exploration, manipulation, and analysis. I like to use this library to read data into Python."
   ]
  },
  {
   "cell_type": "code",
   "execution_count": 47,
   "metadata": {
    "collapsed": false
   },
   "outputs": [
    {
     "name": "stdout",
     "output_type": "stream",
     "text": [
      "Number of rows: 32561\n",
      "Number of columns: 15\n"
     ]
    },
    {
     "data": {
      "text/html": [
       "<div>\n",
       "<table border=\"1\" class=\"dataframe\">\n",
       "  <thead>\n",
       "    <tr style=\"text-align: right;\">\n",
       "      <th></th>\n",
       "      <th>age</th>\n",
       "      <th>workclass</th>\n",
       "      <th>fnlwgt</th>\n",
       "      <th>education</th>\n",
       "      <th>education_num</th>\n",
       "      <th>martial_status</th>\n",
       "      <th>occupation</th>\n",
       "      <th>relationship</th>\n",
       "      <th>race</th>\n",
       "      <th>sex</th>\n",
       "      <th>capital_gain</th>\n",
       "      <th>capital_loss</th>\n",
       "      <th>hours_per_week</th>\n",
       "      <th>native_country</th>\n",
       "      <th>income</th>\n",
       "    </tr>\n",
       "  </thead>\n",
       "  <tbody>\n",
       "    <tr>\n",
       "      <th>0</th>\n",
       "      <td>39</td>\n",
       "      <td>State-gov</td>\n",
       "      <td>77516</td>\n",
       "      <td>Bachelors</td>\n",
       "      <td>13</td>\n",
       "      <td>Never-married</td>\n",
       "      <td>Adm-clerical</td>\n",
       "      <td>Not-in-family</td>\n",
       "      <td>White</td>\n",
       "      <td>Male</td>\n",
       "      <td>2174</td>\n",
       "      <td>0</td>\n",
       "      <td>40</td>\n",
       "      <td>United-States</td>\n",
       "      <td>&lt;=50K</td>\n",
       "    </tr>\n",
       "    <tr>\n",
       "      <th>1</th>\n",
       "      <td>50</td>\n",
       "      <td>Self-emp-not-inc</td>\n",
       "      <td>83311</td>\n",
       "      <td>Bachelors</td>\n",
       "      <td>13</td>\n",
       "      <td>Married-civ-spouse</td>\n",
       "      <td>Exec-managerial</td>\n",
       "      <td>Husband</td>\n",
       "      <td>White</td>\n",
       "      <td>Male</td>\n",
       "      <td>0</td>\n",
       "      <td>0</td>\n",
       "      <td>13</td>\n",
       "      <td>United-States</td>\n",
       "      <td>&lt;=50K</td>\n",
       "    </tr>\n",
       "    <tr>\n",
       "      <th>2</th>\n",
       "      <td>38</td>\n",
       "      <td>Private</td>\n",
       "      <td>215646</td>\n",
       "      <td>HS-grad</td>\n",
       "      <td>9</td>\n",
       "      <td>Divorced</td>\n",
       "      <td>Handlers-cleaners</td>\n",
       "      <td>Not-in-family</td>\n",
       "      <td>White</td>\n",
       "      <td>Male</td>\n",
       "      <td>0</td>\n",
       "      <td>0</td>\n",
       "      <td>40</td>\n",
       "      <td>United-States</td>\n",
       "      <td>&lt;=50K</td>\n",
       "    </tr>\n",
       "    <tr>\n",
       "      <th>3</th>\n",
       "      <td>53</td>\n",
       "      <td>Private</td>\n",
       "      <td>234721</td>\n",
       "      <td>11th</td>\n",
       "      <td>7</td>\n",
       "      <td>Married-civ-spouse</td>\n",
       "      <td>Handlers-cleaners</td>\n",
       "      <td>Husband</td>\n",
       "      <td>Black</td>\n",
       "      <td>Male</td>\n",
       "      <td>0</td>\n",
       "      <td>0</td>\n",
       "      <td>40</td>\n",
       "      <td>United-States</td>\n",
       "      <td>&lt;=50K</td>\n",
       "    </tr>\n",
       "    <tr>\n",
       "      <th>4</th>\n",
       "      <td>28</td>\n",
       "      <td>Private</td>\n",
       "      <td>338409</td>\n",
       "      <td>Bachelors</td>\n",
       "      <td>13</td>\n",
       "      <td>Married-civ-spouse</td>\n",
       "      <td>Prof-specialty</td>\n",
       "      <td>Wife</td>\n",
       "      <td>Black</td>\n",
       "      <td>Female</td>\n",
       "      <td>0</td>\n",
       "      <td>0</td>\n",
       "      <td>40</td>\n",
       "      <td>Cuba</td>\n",
       "      <td>&lt;=50K</td>\n",
       "    </tr>\n",
       "    <tr>\n",
       "      <th>5</th>\n",
       "      <td>37</td>\n",
       "      <td>Private</td>\n",
       "      <td>284582</td>\n",
       "      <td>Masters</td>\n",
       "      <td>14</td>\n",
       "      <td>Married-civ-spouse</td>\n",
       "      <td>Exec-managerial</td>\n",
       "      <td>Wife</td>\n",
       "      <td>White</td>\n",
       "      <td>Female</td>\n",
       "      <td>0</td>\n",
       "      <td>0</td>\n",
       "      <td>40</td>\n",
       "      <td>United-States</td>\n",
       "      <td>&lt;=50K</td>\n",
       "    </tr>\n",
       "    <tr>\n",
       "      <th>6</th>\n",
       "      <td>49</td>\n",
       "      <td>Private</td>\n",
       "      <td>160187</td>\n",
       "      <td>9th</td>\n",
       "      <td>5</td>\n",
       "      <td>Married-spouse-absent</td>\n",
       "      <td>Other-service</td>\n",
       "      <td>Not-in-family</td>\n",
       "      <td>Black</td>\n",
       "      <td>Female</td>\n",
       "      <td>0</td>\n",
       "      <td>0</td>\n",
       "      <td>16</td>\n",
       "      <td>Jamaica</td>\n",
       "      <td>&lt;=50K</td>\n",
       "    </tr>\n",
       "    <tr>\n",
       "      <th>7</th>\n",
       "      <td>52</td>\n",
       "      <td>Self-emp-not-inc</td>\n",
       "      <td>209642</td>\n",
       "      <td>HS-grad</td>\n",
       "      <td>9</td>\n",
       "      <td>Married-civ-spouse</td>\n",
       "      <td>Exec-managerial</td>\n",
       "      <td>Husband</td>\n",
       "      <td>White</td>\n",
       "      <td>Male</td>\n",
       "      <td>0</td>\n",
       "      <td>0</td>\n",
       "      <td>45</td>\n",
       "      <td>United-States</td>\n",
       "      <td>&gt;50K</td>\n",
       "    </tr>\n",
       "    <tr>\n",
       "      <th>8</th>\n",
       "      <td>31</td>\n",
       "      <td>Private</td>\n",
       "      <td>45781</td>\n",
       "      <td>Masters</td>\n",
       "      <td>14</td>\n",
       "      <td>Never-married</td>\n",
       "      <td>Prof-specialty</td>\n",
       "      <td>Not-in-family</td>\n",
       "      <td>White</td>\n",
       "      <td>Female</td>\n",
       "      <td>14084</td>\n",
       "      <td>0</td>\n",
       "      <td>50</td>\n",
       "      <td>United-States</td>\n",
       "      <td>&gt;50K</td>\n",
       "    </tr>\n",
       "    <tr>\n",
       "      <th>9</th>\n",
       "      <td>42</td>\n",
       "      <td>Private</td>\n",
       "      <td>159449</td>\n",
       "      <td>Bachelors</td>\n",
       "      <td>13</td>\n",
       "      <td>Married-civ-spouse</td>\n",
       "      <td>Exec-managerial</td>\n",
       "      <td>Husband</td>\n",
       "      <td>White</td>\n",
       "      <td>Male</td>\n",
       "      <td>5178</td>\n",
       "      <td>0</td>\n",
       "      <td>40</td>\n",
       "      <td>United-States</td>\n",
       "      <td>&gt;50K</td>\n",
       "    </tr>\n",
       "  </tbody>\n",
       "</table>\n",
       "</div>"
      ],
      "text/plain": [
       "   age         workclass  fnlwgt  education  education_num  \\\n",
       "0   39         State-gov   77516  Bachelors             13   \n",
       "1   50  Self-emp-not-inc   83311  Bachelors             13   \n",
       "2   38           Private  215646    HS-grad              9   \n",
       "3   53           Private  234721       11th              7   \n",
       "4   28           Private  338409  Bachelors             13   \n",
       "5   37           Private  284582    Masters             14   \n",
       "6   49           Private  160187        9th              5   \n",
       "7   52  Self-emp-not-inc  209642    HS-grad              9   \n",
       "8   31           Private   45781    Masters             14   \n",
       "9   42           Private  159449  Bachelors             13   \n",
       "\n",
       "          martial_status         occupation   relationship   race     sex  \\\n",
       "0          Never-married       Adm-clerical  Not-in-family  White    Male   \n",
       "1     Married-civ-spouse    Exec-managerial        Husband  White    Male   \n",
       "2               Divorced  Handlers-cleaners  Not-in-family  White    Male   \n",
       "3     Married-civ-spouse  Handlers-cleaners        Husband  Black    Male   \n",
       "4     Married-civ-spouse     Prof-specialty           Wife  Black  Female   \n",
       "5     Married-civ-spouse    Exec-managerial           Wife  White  Female   \n",
       "6  Married-spouse-absent      Other-service  Not-in-family  Black  Female   \n",
       "7     Married-civ-spouse    Exec-managerial        Husband  White    Male   \n",
       "8          Never-married     Prof-specialty  Not-in-family  White  Female   \n",
       "9     Married-civ-spouse    Exec-managerial        Husband  White    Male   \n",
       "\n",
       "   capital_gain  capital_loss  hours_per_week native_country income  \n",
       "0          2174             0              40  United-States  <=50K  \n",
       "1             0             0              13  United-States  <=50K  \n",
       "2             0             0              40  United-States  <=50K  \n",
       "3             0             0              40  United-States  <=50K  \n",
       "4             0             0              40           Cuba  <=50K  \n",
       "5             0             0              40  United-States  <=50K  \n",
       "6             0             0              16        Jamaica  <=50K  \n",
       "7             0             0              45  United-States   >50K  \n",
       "8         14084             0              50  United-States   >50K  \n",
       "9          5178             0              40  United-States   >50K  "
      ]
     },
     "execution_count": 47,
     "metadata": {},
     "output_type": "execute_result"
    }
   ],
   "source": [
    "# url with data\n",
    "url = \"http://archive.ics.uci.edu/ml/machine-learning-databases/adult/adult.data\"\n",
    "\n",
    "# Define column names\n",
    "col_names = ['age', 'workclass', 'fnlwgt', 'education', 'education_num', 'martial_status', 'occupation', 'relationship', 'race', 'sex', 'capital_gain', 'capital_loss', 'hours_per_week', 'native_country', 'income']\n",
    "\n",
    "# Read the data from the url to a pandas dataframe\n",
    "# Missing values are represented in the data by \"?\". You can define strings to be recognized as NaN by the parameter na_values.\n",
    "df = pd.read_table(url, sep=\", \", header=None, names=col_names, engine='python', na_values='?')\n",
    "    \n",
    "# Prints the number of rows and columns    \n",
    "print \"Number of rows: \" + str(df.shape[0]) + \"\\nNumber of columns: \" + str(df.shape[1])\n",
    "\n",
    "df.head(10)"
   ]
  },
  {
   "cell_type": "markdown",
   "metadata": {},
   "source": [
    "We will need the target variable converted to numeric. If target = '<=50K' then 0, if target = '>50K' then 1. I will wait to drop the original variable because I will alternate between using the string and numeric versions in plotting.\n",
    "\n",
    "Drop unneeded variables: \n",
    "The `education_num` variable is a numerical form of the education variable so we do not need both. The `fnlwgt` variable is the number of people the census takers believe the observation represents. To keep the analysis simple for demonstrative purposes we will not be using it."
   ]
  },
  {
   "cell_type": "code",
   "execution_count": 48,
   "metadata": {
    "collapsed": false
   },
   "outputs": [],
   "source": [
    "df['target'] = df['income'].apply(lambda x: 1 if x == '>50K' else 0)\n",
    "\n",
    "df.drop(['fnlwgt', 'education_num'], axis=1, inplace=True)"
   ]
  },
  {
   "cell_type": "markdown",
   "metadata": {},
   "source": [
    "<a name=\"data_exploration\"></a>\n",
    "### Data Exploration"
   ]
  },
  {
   "cell_type": "code",
   "execution_count": 49,
   "metadata": {
    "collapsed": false
   },
   "outputs": [
    {
     "data": {
      "text/html": [
       "<div>\n",
       "<table border=\"1\" class=\"dataframe\">\n",
       "  <thead>\n",
       "    <tr style=\"text-align: right;\">\n",
       "      <th></th>\n",
       "      <th>age</th>\n",
       "      <th>workclass</th>\n",
       "      <th>education</th>\n",
       "      <th>martial_status</th>\n",
       "      <th>occupation</th>\n",
       "      <th>relationship</th>\n",
       "      <th>race</th>\n",
       "      <th>sex</th>\n",
       "      <th>capital_gain</th>\n",
       "      <th>capital_loss</th>\n",
       "      <th>hours_per_week</th>\n",
       "      <th>native_country</th>\n",
       "      <th>income</th>\n",
       "      <th>target</th>\n",
       "    </tr>\n",
       "  </thead>\n",
       "  <tbody>\n",
       "    <tr>\n",
       "      <th>count</th>\n",
       "      <td>32561.000000</td>\n",
       "      <td>30725</td>\n",
       "      <td>32561</td>\n",
       "      <td>32561</td>\n",
       "      <td>30718</td>\n",
       "      <td>32561</td>\n",
       "      <td>32561</td>\n",
       "      <td>32561</td>\n",
       "      <td>32561.000000</td>\n",
       "      <td>32561.000000</td>\n",
       "      <td>32561.000000</td>\n",
       "      <td>31978</td>\n",
       "      <td>32561</td>\n",
       "      <td>32561.000000</td>\n",
       "    </tr>\n",
       "    <tr>\n",
       "      <th>unique</th>\n",
       "      <td>NaN</td>\n",
       "      <td>8</td>\n",
       "      <td>16</td>\n",
       "      <td>7</td>\n",
       "      <td>14</td>\n",
       "      <td>6</td>\n",
       "      <td>5</td>\n",
       "      <td>2</td>\n",
       "      <td>NaN</td>\n",
       "      <td>NaN</td>\n",
       "      <td>NaN</td>\n",
       "      <td>41</td>\n",
       "      <td>2</td>\n",
       "      <td>NaN</td>\n",
       "    </tr>\n",
       "    <tr>\n",
       "      <th>top</th>\n",
       "      <td>NaN</td>\n",
       "      <td>Private</td>\n",
       "      <td>HS-grad</td>\n",
       "      <td>Married-civ-spouse</td>\n",
       "      <td>Prof-specialty</td>\n",
       "      <td>Husband</td>\n",
       "      <td>White</td>\n",
       "      <td>Male</td>\n",
       "      <td>NaN</td>\n",
       "      <td>NaN</td>\n",
       "      <td>NaN</td>\n",
       "      <td>United-States</td>\n",
       "      <td>&lt;=50K</td>\n",
       "      <td>NaN</td>\n",
       "    </tr>\n",
       "    <tr>\n",
       "      <th>freq</th>\n",
       "      <td>NaN</td>\n",
       "      <td>22696</td>\n",
       "      <td>10501</td>\n",
       "      <td>14976</td>\n",
       "      <td>4140</td>\n",
       "      <td>13193</td>\n",
       "      <td>27816</td>\n",
       "      <td>21790</td>\n",
       "      <td>NaN</td>\n",
       "      <td>NaN</td>\n",
       "      <td>NaN</td>\n",
       "      <td>29170</td>\n",
       "      <td>24720</td>\n",
       "      <td>NaN</td>\n",
       "    </tr>\n",
       "    <tr>\n",
       "      <th>mean</th>\n",
       "      <td>38.581647</td>\n",
       "      <td>NaN</td>\n",
       "      <td>NaN</td>\n",
       "      <td>NaN</td>\n",
       "      <td>NaN</td>\n",
       "      <td>NaN</td>\n",
       "      <td>NaN</td>\n",
       "      <td>NaN</td>\n",
       "      <td>1077.648844</td>\n",
       "      <td>87.303830</td>\n",
       "      <td>40.437456</td>\n",
       "      <td>NaN</td>\n",
       "      <td>NaN</td>\n",
       "      <td>0.240810</td>\n",
       "    </tr>\n",
       "    <tr>\n",
       "      <th>std</th>\n",
       "      <td>13.640433</td>\n",
       "      <td>NaN</td>\n",
       "      <td>NaN</td>\n",
       "      <td>NaN</td>\n",
       "      <td>NaN</td>\n",
       "      <td>NaN</td>\n",
       "      <td>NaN</td>\n",
       "      <td>NaN</td>\n",
       "      <td>7385.292085</td>\n",
       "      <td>402.960219</td>\n",
       "      <td>12.347429</td>\n",
       "      <td>NaN</td>\n",
       "      <td>NaN</td>\n",
       "      <td>0.427581</td>\n",
       "    </tr>\n",
       "    <tr>\n",
       "      <th>min</th>\n",
       "      <td>17.000000</td>\n",
       "      <td>NaN</td>\n",
       "      <td>NaN</td>\n",
       "      <td>NaN</td>\n",
       "      <td>NaN</td>\n",
       "      <td>NaN</td>\n",
       "      <td>NaN</td>\n",
       "      <td>NaN</td>\n",
       "      <td>0.000000</td>\n",
       "      <td>0.000000</td>\n",
       "      <td>1.000000</td>\n",
       "      <td>NaN</td>\n",
       "      <td>NaN</td>\n",
       "      <td>0.000000</td>\n",
       "    </tr>\n",
       "    <tr>\n",
       "      <th>25%</th>\n",
       "      <td>28.000000</td>\n",
       "      <td>NaN</td>\n",
       "      <td>NaN</td>\n",
       "      <td>NaN</td>\n",
       "      <td>NaN</td>\n",
       "      <td>NaN</td>\n",
       "      <td>NaN</td>\n",
       "      <td>NaN</td>\n",
       "      <td>0.000000</td>\n",
       "      <td>0.000000</td>\n",
       "      <td>40.000000</td>\n",
       "      <td>NaN</td>\n",
       "      <td>NaN</td>\n",
       "      <td>0.000000</td>\n",
       "    </tr>\n",
       "    <tr>\n",
       "      <th>50%</th>\n",
       "      <td>37.000000</td>\n",
       "      <td>NaN</td>\n",
       "      <td>NaN</td>\n",
       "      <td>NaN</td>\n",
       "      <td>NaN</td>\n",
       "      <td>NaN</td>\n",
       "      <td>NaN</td>\n",
       "      <td>NaN</td>\n",
       "      <td>0.000000</td>\n",
       "      <td>0.000000</td>\n",
       "      <td>40.000000</td>\n",
       "      <td>NaN</td>\n",
       "      <td>NaN</td>\n",
       "      <td>0.000000</td>\n",
       "    </tr>\n",
       "    <tr>\n",
       "      <th>75%</th>\n",
       "      <td>48.000000</td>\n",
       "      <td>NaN</td>\n",
       "      <td>NaN</td>\n",
       "      <td>NaN</td>\n",
       "      <td>NaN</td>\n",
       "      <td>NaN</td>\n",
       "      <td>NaN</td>\n",
       "      <td>NaN</td>\n",
       "      <td>0.000000</td>\n",
       "      <td>0.000000</td>\n",
       "      <td>45.000000</td>\n",
       "      <td>NaN</td>\n",
       "      <td>NaN</td>\n",
       "      <td>0.000000</td>\n",
       "    </tr>\n",
       "    <tr>\n",
       "      <th>max</th>\n",
       "      <td>90.000000</td>\n",
       "      <td>NaN</td>\n",
       "      <td>NaN</td>\n",
       "      <td>NaN</td>\n",
       "      <td>NaN</td>\n",
       "      <td>NaN</td>\n",
       "      <td>NaN</td>\n",
       "      <td>NaN</td>\n",
       "      <td>99999.000000</td>\n",
       "      <td>4356.000000</td>\n",
       "      <td>99.000000</td>\n",
       "      <td>NaN</td>\n",
       "      <td>NaN</td>\n",
       "      <td>1.000000</td>\n",
       "    </tr>\n",
       "  </tbody>\n",
       "</table>\n",
       "</div>"
      ],
      "text/plain": [
       "                 age workclass education      martial_status      occupation  \\\n",
       "count   32561.000000     30725     32561               32561           30718   \n",
       "unique           NaN         8        16                   7              14   \n",
       "top              NaN   Private   HS-grad  Married-civ-spouse  Prof-specialty   \n",
       "freq             NaN     22696     10501               14976            4140   \n",
       "mean       38.581647       NaN       NaN                 NaN             NaN   \n",
       "std        13.640433       NaN       NaN                 NaN             NaN   \n",
       "min        17.000000       NaN       NaN                 NaN             NaN   \n",
       "25%        28.000000       NaN       NaN                 NaN             NaN   \n",
       "50%        37.000000       NaN       NaN                 NaN             NaN   \n",
       "75%        48.000000       NaN       NaN                 NaN             NaN   \n",
       "max        90.000000       NaN       NaN                 NaN             NaN   \n",
       "\n",
       "       relationship   race    sex  capital_gain  capital_loss  hours_per_week  \\\n",
       "count         32561  32561  32561  32561.000000  32561.000000    32561.000000   \n",
       "unique            6      5      2           NaN           NaN             NaN   \n",
       "top         Husband  White   Male           NaN           NaN             NaN   \n",
       "freq          13193  27816  21790           NaN           NaN             NaN   \n",
       "mean            NaN    NaN    NaN   1077.648844     87.303830       40.437456   \n",
       "std             NaN    NaN    NaN   7385.292085    402.960219       12.347429   \n",
       "min             NaN    NaN    NaN      0.000000      0.000000        1.000000   \n",
       "25%             NaN    NaN    NaN      0.000000      0.000000       40.000000   \n",
       "50%             NaN    NaN    NaN      0.000000      0.000000       40.000000   \n",
       "75%             NaN    NaN    NaN      0.000000      0.000000       45.000000   \n",
       "max             NaN    NaN    NaN  99999.000000   4356.000000       99.000000   \n",
       "\n",
       "       native_country income        target  \n",
       "count           31978  32561  32561.000000  \n",
       "unique             41      2           NaN  \n",
       "top     United-States  <=50K           NaN  \n",
       "freq            29170  24720           NaN  \n",
       "mean              NaN    NaN      0.240810  \n",
       "std               NaN    NaN      0.427581  \n",
       "min               NaN    NaN      0.000000  \n",
       "25%               NaN    NaN      0.000000  \n",
       "50%               NaN    NaN      0.000000  \n",
       "75%               NaN    NaN      0.000000  \n",
       "max               NaN    NaN      1.000000  "
      ]
     },
     "execution_count": 49,
     "metadata": {},
     "output_type": "execute_result"
    }
   ],
   "source": [
    "# Summaries: add the “include=’all’” flag to the describe fucntion to get statistics on the non-numeric column types\n",
    "df.describe(include='all')"
   ]
  },
  {
   "cell_type": "code",
   "execution_count": 50,
   "metadata": {
    "collapsed": false
   },
   "outputs": [
    {
     "name": "stdout",
     "output_type": "stream",
     "text": [
      "              age  capital_gain  capital_loss  hours_per_week\n",
      "target                                                       \n",
      "0       36.783738    148.752468     53.142921       38.840210\n",
      "1       44.249841   4006.142456    195.001530       45.473026\n"
     ]
    }
   ],
   "source": [
    "# Averages of numeric variables grouped by income\n",
    "print df.groupby(['target']).mean()"
   ]
  },
  {
   "cell_type": "markdown",
   "metadata": {},
   "source": [
    "The `capital_gain` and `capital_loss` are significantly greater for those making an income of >50k. This makes sense since how much money one puts into the market is usually correlated with how much you make. So you would expect those making higher incomes to have more investments, and therefore, more gaines/losses. "
   ]
  },
  {
   "cell_type": "markdown",
   "metadata": {},
   "source": [
    "**Note on Plotting:** There are two main plotting libraries in Python, `Matplotlib` and `Seaborn`. While the main plotting library of Python is `Matplotlib`, it can be difficult to tweak and create visually pleasing plots. `Seaborn` is for statistical data visualization built on top of `Matplotlib`. <br> Some benefits to `Seaborn`: \n",
    "- Creates visually pleasing plots by default\n",
    "- Understands the pandas DataFrame so the two work well together\n",
    "- Creates statistically meaniful plots\n",
    "\n",
    "I often switch back and forth between the two libraries. The first section of plots below are done in `Matplotlib` and the second section is `Seaborn`. "
   ]
  },
  {
   "cell_type": "code",
   "execution_count": 51,
   "metadata": {
    "collapsed": false
   },
   "outputs": [
    {
     "data": {
      "text/plain": [
       "<matplotlib.legend.Legend at 0x140da390>"
      ]
     },
     "execution_count": 51,
     "metadata": {},
     "output_type": "execute_result"
    },
    {
     "data": {
      "image/png": "[encoded data removed]",
      "text/plain": [
       "<matplotlib.figure.Figure at 0x13cd06a0>"
      ]
     },
     "metadata": {},
     "output_type": "display_data"
    }
   ],
   "source": [
    "## Plotting using Matplotlib\n",
    "fig = plt.figure(figsize=(18,6)) \n",
    "\n",
    "# lets us plot many diffrent shaped graphs together \n",
    "ax1 = plt.subplot2grid((2,3),(0,0))\n",
    "# plots a bar graph of income             \n",
    "df.target.value_counts().plot(kind='bar')\n",
    "plt.title(\"Distribution of Income (0= <=50k, 1 = >50k)\")\n",
    "plt.xticks(rotation=0)\n",
    "\n",
    "ax2 = plt.subplot2grid((2,3),(0,1))\n",
    "# plots a bar graph of sex               \n",
    "df.sex.value_counts().plot(kind='bar')\n",
    "plt.title(\"Distribution of Sex\")\n",
    "plt.xticks(rotation=0)\n",
    "\n",
    "ax3 = plt.subplot2grid((2,3),(0,2), rowspan=2)\n",
    "# boxplot of hours worked per week by income            \n",
    "less_50 = [df['hours_per_week'][df['target'] == 0]]\n",
    "great_50 =[df['hours_per_week'][df['target'] == 1]]\n",
    "data_to_plot = [less_50, great_50]\n",
    "bp = plt.boxplot(data_to_plot,patch_artist=True, widths=0.5, labels=['<=50k', '>50k'])\n",
    "plt.title(\"Hours Worked per Week\")\n",
    "plt.setp(bp['boxes'], color='red')\n",
    "plt.setp(bp['whiskers'], color='black')\n",
    "plt.setp(bp['fliers'], color='blue', marker='.')\n",
    "\n",
    "ax4 = plt.subplot2grid((2,3),(1,0), colspan=2)\n",
    "# Plot of age distribution within income\n",
    "df.age[df.target == 0].plot(kind='kde')    \n",
    "df.age[df.target == 1].plot(kind='kde')\n",
    "plt.xlabel(\"Age\")    \n",
    "plt.title(\"Age Distribution within income\")\n",
    "plt.legend(('<=50k', '>50k'),loc='best') "
   ]
  },
  {
   "cell_type": "code",
   "execution_count": 52,
   "metadata": {
    "collapsed": false
   },
   "outputs": [
    {
     "data": {
      "image/png": "[encoded data removed]",
      "text/plain": [
       "<matplotlib.figure.Figure at 0x13fe7e10>"
      ]
     },
     "metadata": {},
     "output_type": "display_data"
    }
   ],
   "source": [
    "## Plotting using Seaborn\n",
    "fig = plt.figure(figsize=(14, 10)) \n",
    "ax1 = plt.subplot2grid((6,3),(0,0))\n",
    "sns.countplot(y='sex', hue='income', data=df)\n",
    "ax1.xaxis.set_major_locator(ticker.MultipleLocator(4000))\n",
    "\n",
    "ax2 = plt.subplot2grid((6,3),(0,1))\n",
    "sns.countplot(y='race', hue='income', data=df)\n",
    "plt.legend(loc='lower right')\n",
    "\n",
    "ax3 = plt.subplot2grid((6,3),(0,2))\n",
    "sns.countplot(y='martial_status', hue='income', data=df)\n",
    "\n",
    "ax4 = plt.subplot2grid((6,3),(1,0), rowspan=2)\n",
    "sns.countplot(y='education', hue='income', data=df)\n",
    "plt.legend(loc='lower right')\n",
    "ax4.xaxis.set_major_locator(ticker.MultipleLocator(2000))\n",
    "\n",
    "ax5 = plt.subplot2grid((6,3),(1,1), rowspan=2)\n",
    "sns.countplot(y='occupation', hue='income', data=df)\n",
    "\n",
    "ax6 = plt.subplot2grid((6,3),(1,2), rowspan=2)\n",
    "sns.countplot(y='workclass', hue='income', data=df)\n",
    "plt.legend(loc='lower right')\n",
    "ax6.xaxis.set_major_locator(ticker.MultipleLocator(4000))\n",
    "\n",
    "ax7 = plt.subplot2grid((6,3),(3,0), rowspan=5, colspan=2)\n",
    "sns.countplot(y='native_country', hue='income', data=df)\n",
    "plt.legend(loc='lower right')\n",
    "\n",
    "plt.tight_layout()"
   ]
  },
  {
   "cell_type": "markdown",
   "metadata": {},
   "source": [
    "We learn a lot about the data from the plots above. Roughly 75% of the observations have income <=50k. The hours worked per week is higher for observations where income is >50k. The most frequent age for those making <=50k is in the early to mid-twenties. As age increases, we see a decline in the number making <=50k. The most frequent age for those making >50k is in the mid-thirty to mid-forty range.\n",
    "\n",
    "The vast majority of observations are in the United States. We can also see values \"white\", \"male\", and \"private\" workclass make up a large number of the observations."
   ]
  },
  {
   "cell_type": "markdown",
   "metadata": {},
   "source": [
    "<a name=\"data_preparation\"></a>\n",
    "# II. Data Preparation"
   ]
  },
  {
   "cell_type": "code",
   "execution_count": 53,
   "metadata": {
    "collapsed": true
   },
   "outputs": [],
   "source": [
    "# Drop the income variable, we will be using the numeric version of the variable moving forward.\n",
    "df.drop(['income'], axis=1, inplace=True)"
   ]
  },
  {
   "cell_type": "markdown",
   "metadata": {},
   "source": [
    "<a name=\"clean_cat_var\"></a>\n",
    "#### Clean Categorical Variables\n",
    "The above plots gave us a good visualization of the data, but let's look closer at the actual distribution of values in the categorical variables."
   ]
  },
  {
   "cell_type": "code",
   "execution_count": 54,
   "metadata": {
    "collapsed": false
   },
   "outputs": [
    {
     "name": "stdout",
     "output_type": "stream",
     "text": [
      "\n",
      "Private             22696\n",
      "Self-emp-not-inc     2541\n",
      "Local-gov            2093\n",
      "State-gov            1298\n",
      "Self-emp-inc         1116\n",
      "Federal-gov           960\n",
      "Without-pay            14\n",
      "Never-worked            7\n",
      "Name: workclass, dtype: int64\n",
      "\n",
      "HS-grad         10501\n",
      "Some-college     7291\n",
      "Bachelors        5355\n",
      "Masters          1723\n",
      "Assoc-voc        1382\n",
      "11th             1175\n",
      "Assoc-acdm       1067\n",
      "10th              933\n",
      "7th-8th           646\n",
      "Prof-school       576\n",
      "9th               514\n",
      "12th              433\n",
      "Doctorate         413\n",
      "5th-6th           333\n",
      "1st-4th           168\n",
      "Preschool          51\n",
      "Name: education, dtype: int64\n",
      "\n",
      "Married-civ-spouse       14976\n",
      "Never-married            10683\n",
      "Divorced                  4443\n",
      "Separated                 1025\n",
      "Widowed                    993\n",
      "Married-spouse-absent      418\n",
      "Married-AF-spouse           23\n",
      "Name: martial_status, dtype: int64\n",
      "\n",
      "Prof-specialty       4140\n",
      "Craft-repair         4099\n",
      "Exec-managerial      4066\n",
      "Adm-clerical         3770\n",
      "Sales                3650\n",
      "Other-service        3295\n",
      "Machine-op-inspct    2002\n",
      "Transport-moving     1597\n",
      "Handlers-cleaners    1370\n",
      "Farming-fishing       994\n",
      "Tech-support          928\n",
      "Protective-serv       649\n",
      "Priv-house-serv       149\n",
      "Armed-Forces            9\n",
      "Name: occupation, dtype: int64\n",
      "\n",
      "Husband           13193\n",
      "Not-in-family      8305\n",
      "Own-child          5068\n",
      "Unmarried          3446\n",
      "Wife               1568\n",
      "Other-relative      981\n",
      "Name: relationship, dtype: int64\n",
      "\n",
      "White                 27816\n",
      "Black                  3124\n",
      "Asian-Pac-Islander     1039\n",
      "Amer-Indian-Eskimo      311\n",
      "Other                   271\n",
      "Name: race, dtype: int64\n",
      "\n",
      "Male      21790\n",
      "Female    10771\n",
      "Name: sex, dtype: int64\n",
      "\n",
      "United-States                 29170\n",
      "Mexico                          643\n",
      "Philippines                     198\n",
      "Germany                         137\n",
      "Canada                          121\n",
      "Puerto-Rico                     114\n",
      "El-Salvador                     106\n",
      "India                           100\n",
      "Cuba                             95\n",
      "England                          90\n",
      "Jamaica                          81\n",
      "South                            80\n",
      "China                            75\n",
      "Italy                            73\n",
      "Dominican-Republic               70\n",
      "Vietnam                          67\n",
      "Guatemala                        64\n",
      "Japan                            62\n",
      "Poland                           60\n",
      "Columbia                         59\n",
      "Taiwan                           51\n",
      "Haiti                            44\n",
      "Iran                             43\n",
      "Portugal                         37\n",
      "Nicaragua                        34\n",
      "Peru                             31\n",
      "France                           29\n",
      "Greece                           29\n",
      "Ecuador                          28\n",
      "Ireland                          24\n",
      "Hong                             20\n",
      "Trinadad&Tobago                  19\n",
      "Cambodia                         19\n",
      "Laos                             18\n",
      "Thailand                         18\n",
      "Yugoslavia                       16\n",
      "Outlying-US(Guam-USVI-etc)       14\n",
      "Hungary                          13\n",
      "Honduras                         13\n",
      "Scotland                         12\n",
      "Holand-Netherlands                1\n",
      "Name: native_country, dtype: int64\n"
     ]
    }
   ],
   "source": [
    "# You can easily select all variables within a particular dtype by using the 'select_dtypes' method. This is usually cleaner \n",
    "# than typing out a list of all the variables you want to keep. In this case we want all the object variables.\n",
    "categorical_data = df.select_dtypes(include=[object])\n",
    "\n",
    "for col in categorical_data.columns:\n",
    "    print \"\\n\" + str(categorical_data[col].value_counts())"
   ]
  },
  {
   "cell_type": "markdown",
   "metadata": {},
   "source": [
    "Some of the categorical variables have a lot of different values, which results in some of the values having low frequencies. I want decrease the categories by grouping some of the values together. \n",
    "\n",
    "I tried modeling without any changes and then re-ran the model after making a change in the groupings of each variable. In the modeling I saw improvements with each variable modification, except for after changes to `native-country`.\n",
    "\n",
    "`native_country` is especially an issue since a large percentage of observations are \"United-States\" and other countries typically have a very low count. To keep it simple, I decided to group countries by common regions, for example United-States, Canada, and Mexico will be grouped into North America. A better way to do this may be to group countries by similar economic conditions. "
   ]
  },
  {
   "cell_type": "code",
   "execution_count": 55,
   "metadata": {
    "collapsed": false
   },
   "outputs": [],
   "source": [
    "def education_groupings(df):\n",
    "    if df['education'] == '12th' or df['education'] == '11th' or df['education'] == '10th' or df['education'] == '9th':\n",
    "        group = 'some-HS'\n",
    "    elif df['education'] == 'Preschool' or df['education'] == '1st-4th' or df['education'] == '5th-6th' or df['education'] == '7th-8th':\n",
    "        group = 'dropout-before-HS'\n",
    "    elif df['education'] == 'Assoc-voc' or df['education'] == 'Assoc-acdm':\n",
    "        group = 'associates'\n",
    "    else:\n",
    "        group = df['education']\n",
    "    return group    \n",
    "\n",
    "df['education'] = df.apply(education_groupings, axis=1)"
   ]
  },
  {
   "cell_type": "code",
   "execution_count": 56,
   "metadata": {
    "collapsed": false
   },
   "outputs": [
    {
     "data": {
      "text/plain": [
       "HS-grad              10501\n",
       "Some-college          7291\n",
       "Bachelors             5355\n",
       "some-HS               3055\n",
       "associates            2449\n",
       "Masters               1723\n",
       "dropout-before-HS     1198\n",
       "Prof-school            576\n",
       "Doctorate              413\n",
       "Name: education, dtype: int64"
      ]
     },
     "execution_count": 56,
     "metadata": {},
     "output_type": "execute_result"
    }
   ],
   "source": [
    "df['education'].value_counts()"
   ]
  },
  {
   "cell_type": "code",
   "execution_count": 57,
   "metadata": {
    "collapsed": false
   },
   "outputs": [],
   "source": [
    "def marital_groupings(df):\n",
    "    if df['martial_status'] == 'Married-civ-spouse' or df['martial_status'] == 'Married-AF-spouse' or df['martial_status'] == 'Married-spouse-absent':\n",
    "        group = 'Married'\n",
    "    elif df['martial_status'] == 'Divorced' or df['martial_status'] == 'Separated' or df['martial_status'] == 'Widowed':\n",
    "        group = 'Not-married'\n",
    "    else:\n",
    "        group = df['martial_status']\n",
    "    return group    \n",
    "\n",
    "df['martial_status'] = df.apply(marital_groupings, axis=1)"
   ]
  },
  {
   "cell_type": "code",
   "execution_count": 58,
   "metadata": {
    "collapsed": false
   },
   "outputs": [
    {
     "data": {
      "text/plain": [
       "Married          15417\n",
       "Never-married    10683\n",
       "Not-married       6461\n",
       "Name: martial_status, dtype: int64"
      ]
     },
     "execution_count": 58,
     "metadata": {},
     "output_type": "execute_result"
    }
   ],
   "source": [
    "df['martial_status'].value_counts()"
   ]
  },
  {
   "cell_type": "code",
   "execution_count": 59,
   "metadata": {
    "collapsed": true
   },
   "outputs": [],
   "source": [
    "def workclass_groupings(df):\n",
    "    if df['workclass'] == 'Self-emp-not-inc' or df['workclass'] == 'Self-emp-inc':\n",
    "        group = 'Self-employed'\n",
    "    elif df['workclass'] == 'Local-gov' or df['workclass'] == 'State-gov' or df['workclass'] == 'Federal-gov':\n",
    "        group = 'Government'\n",
    "    elif df['workclass'] == 'Without-pay' or df['workclass'] == 'Never-worked':\n",
    "        group = 'Not-employed'\n",
    "    else:\n",
    "        group = df['workclass']\n",
    "    return group    \n",
    "\n",
    "df['workclass'] = df.apply(workclass_groupings, axis=1)"
   ]
  },
  {
   "cell_type": "code",
   "execution_count": 60,
   "metadata": {
    "collapsed": false
   },
   "outputs": [
    {
     "data": {
      "text/plain": [
       "Private          22696\n",
       "Government        4351\n",
       "Self-employed     3657\n",
       "Not-employed        21\n",
       "Name: workclass, dtype: int64"
      ]
     },
     "execution_count": 60,
     "metadata": {},
     "output_type": "execute_result"
    }
   ],
   "source": [
    "df['workclass'].value_counts()"
   ]
  },
  {
   "cell_type": "code",
   "execution_count": 61,
   "metadata": {
    "collapsed": false
   },
   "outputs": [],
   "source": [
    "def country_groupings(df):     \n",
    "    if (df['native_country'] == 'United-States'\n",
    "        or df['native_country'] == 'Outlying-US(Guam-USVI-etc)'\n",
    "        or df['native_country'] == 'Mexico'\n",
    "        or df['native_country'] == 'Canada'):\n",
    "        group = 'North America'\n",
    "    elif (df['native_country'] == 'Honduras' \n",
    "          or df['native_country'] == 'Guatemala'\n",
    "          or df['native_country'] == 'Nicaragua'\n",
    "          or df['native_country'] == 'El-Salvador'):\n",
    "        group = 'Central America'\n",
    "    elif (df['native_country'] == 'Peru' \n",
    "          or df['native_country'] == 'Ecuador' \n",
    "          or df['native_country'] == 'Columbia'):\n",
    "        group = 'South America'\n",
    "    elif (df['native_country'] == 'Cuba' \n",
    "          or df['native_country'] == 'Dominican-Republic' \n",
    "          or df['native_country'] == 'Haiti'\n",
    "          or df['native_country'] == 'Puerto-Rico'\n",
    "          or df['native_country'] == 'Trinadad&Tobago'\n",
    "          or df['native_country'] == 'Jamaica'):\n",
    "        group = 'Caribbean'\n",
    "    elif (df['native_country'] == 'Germany' \n",
    "          or df['native_country'] == 'England'\n",
    "          or df['native_country'] == 'Portugal'\n",
    "          or df['native_country'] == 'France'\n",
    "          or df['native_country'] == 'Greece'\n",
    "          or df['native_country'] == 'Ireland'\n",
    "          or df['native_country'] == 'Poland'\n",
    "          or df['native_country'] == 'Italy'\n",
    "          or df['native_country'] == 'Hungary'\n",
    "          or df['native_country'] == 'Scotland'\n",
    "          or df['native_country'] == 'Holand-Netherlands'\n",
    "          or df['native_country'] == 'Yugoslavia'):\n",
    "        group = 'Europe'\n",
    "    elif (df['native_country'] == 'Philippines' \n",
    "          or df['native_country'] == 'India' \n",
    "          or df['native_country'] == 'China'\n",
    "          or df['native_country'] == 'Vietnam'\n",
    "          or df['native_country'] == 'Japan'\n",
    "          or df['native_country'] == 'Taiwan'\n",
    "          or df['native_country'] == 'Iran'\n",
    "          or df['native_country'] == 'Hong'\n",
    "          or df['native_country'] == 'Cambodia'\n",
    "          or df['native_country'] == 'Laos'\n",
    "          or df['native_country'] == 'Thailand'\n",
    "          or df['native_country'] == 'Iran'\n",
    "          or df['native_country'] == 'Hong'\n",
    "          or df['native_country'] == 'Cambodia'\n",
    "          or df['native_country'] == 'Laos'):\n",
    "        group = 'Asia'\n",
    "    elif df['native_country'] == 'South':\n",
    "        group = 'Other'\n",
    "    else:\n",
    "        group = df['native_country']\n",
    "    return group    \n",
    "\n",
    "df['native_country'] = df.apply(country_groupings, axis=1)"
   ]
  },
  {
   "cell_type": "code",
   "execution_count": 62,
   "metadata": {
    "collapsed": false
   },
   "outputs": [
    {
     "data": {
      "text/plain": [
       "North America      29948\n",
       "Asia                 671\n",
       "Europe               521\n",
       "Caribbean            423\n",
       "Central America      217\n",
       "South America        118\n",
       "Other                 80\n",
       "Name: native_country, dtype: int64"
      ]
     },
     "execution_count": 62,
     "metadata": {},
     "output_type": "execute_result"
    }
   ],
   "source": [
    "df['native_country'].value_counts()"
   ]
  },
  {
   "cell_type": "markdown",
   "metadata": {},
   "source": [
    "<a name=\"missing\"></a>\n",
    "#### Missing Data"
   ]
  },
  {
   "cell_type": "code",
   "execution_count": 63,
   "metadata": {
    "collapsed": false
   },
   "outputs": [
    {
     "data": {
      "text/plain": [
       "age               0.000000\n",
       "workclass         5.975590\n",
       "education         0.000000\n",
       "martial_status    0.000000\n",
       "occupation        5.999740\n",
       "relationship      0.000000\n",
       "race              0.000000\n",
       "sex               0.000000\n",
       "capital_gain      0.000000\n",
       "capital_loss      0.000000\n",
       "hours_per_week    0.000000\n",
       "native_country    1.823128\n",
       "target            0.000000\n",
       "dtype: float64"
      ]
     },
     "execution_count": 63,
     "metadata": {},
     "output_type": "execute_result"
    }
   ],
   "source": [
    "# Check for missing data\n",
    "def missingPct(df):\n",
    "    num = df.isnull().sum()\n",
    "    den = df.count()\n",
    "    return 100*(num/den)\n",
    "\n",
    "missingPct(df)"
   ]
  },
  {
   "cell_type": "markdown",
   "metadata": {},
   "source": [
    "The missing values are limited to string variables. The label encoder below will convert missing values to 0. If I had numeric variables with missing values then I would consider replacing missing values with the column mean, frequency, etc."
   ]
  },
  {
   "cell_type": "markdown",
   "metadata": {},
   "source": [
    "<a name=\"convert\"></a>\n",
    "#### Convert Strings to Numeric"
   ]
  },
  {
   "cell_type": "code",
   "execution_count": 64,
   "metadata": {
    "collapsed": false
   },
   "outputs": [
    {
     "data": {
      "text/plain": [
       "age                int64\n",
       "workclass         object\n",
       "education         object\n",
       "martial_status    object\n",
       "occupation        object\n",
       "relationship      object\n",
       "race              object\n",
       "sex               object\n",
       "capital_gain       int64\n",
       "capital_loss       int64\n",
       "hours_per_week     int64\n",
       "native_country    object\n",
       "target             int64\n",
       "dtype: object"
      ]
     },
     "execution_count": 64,
     "metadata": {},
     "output_type": "execute_result"
    }
   ],
   "source": [
    "df.dtypes\n",
    "\n",
    "# If you wanted to select only columns of a certain type you could filter like below (this example filters for only numeric columns):\n",
    "#df = df.select_dtypes(include=[np.number])"
   ]
  },
  {
   "cell_type": "markdown",
   "metadata": {},
   "source": [
    "In most cases, models such as decision trees and random forests can handle categorical input variables, but this is not the case when using `Sklearn` in Python. `Sklearn` only handles numeric variables. `Sklearn` inclues several pre-processing tools that offer a few different methods to encode categorical data to numbers. Some methods are `OneHotEncoder`, `LabelEncoder`, and `DictVectorizor`. `Pandas` also offers something similar, `get_dummies`, which converts categorical variable into dummy/indicator variables. This is a bit easier than using `OneHotEncoder` which cannot process string values directly, so you have to convert to integers before using. \n",
    "I recommend doing some research to know which one is appropriate for your particular data. Using functions like `get_dummies` and `OneHotEncoder` can really increase the size of your dataset if your variables have a lot of categories. Also consider how these handle NaN values.\n",
    "\n",
    "A high level overview: <br>\n",
    "One-Hot: creates one column per cateogry with a 1 or 0. The input to this transformer should be a matrix of integers, denoting the values taken on by categorical (discrete) features. <br>\n",
    "LabelEncoder: Encode labels with value between 0 and n_classes-1. <br>\n",
    "DictVectorizor: Transforms lists of feature-value mappings to vectors. <br>\n",
    "Get_dummies: Convert categorical variable into dummy/indicator variables.\n",
    "\n",
    "*I will do two examples of encoding (`get_dummies` and  `LabelEncoder`) for demonstration. However, I'm only going to use one of these methods (`LabelEncoder`) for the modeling to keep this tutorial clean and simple. If you have time, it would be a good exercise to try both ways of encoding and compare the model performance to see which method is better for this data. *"
   ]
  },
  {
   "cell_type": "code",
   "execution_count": 65,
   "metadata": {
    "collapsed": false
   },
   "outputs": [
    {
     "name": "stdout",
     "output_type": "stream",
     "text": [
      "Index([u'age', u'capital_gain', u'capital_loss', u'hours_per_week', u'target',\n",
      "       u'workclass_Government', u'workclass_Not-employed',\n",
      "       u'workclass_Private', u'workclass_Self-employed',\n",
      "       u'education_Bachelors', u'education_Doctorate', u'education_HS-grad',\n",
      "       u'education_Masters', u'education_Prof-school',\n",
      "       u'education_Some-college', u'education_associates',\n",
      "       u'education_dropout-before-HS', u'education_some-HS',\n",
      "       u'martial_status_Married', u'martial_status_Never-married',\n",
      "       u'martial_status_Not-married', u'occupation_Adm-clerical',\n",
      "       u'occupation_Armed-Forces', u'occupation_Craft-repair',\n",
      "       u'occupation_Exec-managerial', u'occupation_Farming-fishing',\n",
      "       u'occupation_Handlers-cleaners', u'occupation_Machine-op-inspct',\n",
      "       u'occupation_Other-service', u'occupation_Priv-house-serv',\n",
      "       u'occupation_Prof-specialty', u'occupation_Protective-serv',\n",
      "       u'occupation_Sales', u'occupation_Tech-support',\n",
      "       u'occupation_Transport-moving', u'relationship_Husband',\n",
      "       u'relationship_Not-in-family', u'relationship_Other-relative',\n",
      "       u'relationship_Own-child', u'relationship_Unmarried',\n",
      "       u'relationship_Wife', u'race_Amer-Indian-Eskimo',\n",
      "       u'race_Asian-Pac-Islander', u'race_Black', u'race_Other', u'race_White',\n",
      "       u'sex_Female', u'sex_Male', u'native_country_Asia',\n",
      "       u'native_country_Caribbean', u'native_country_Central America',\n",
      "       u'native_country_Europe', u'native_country_North America',\n",
      "       u'native_country_Other', u'native_country_South America'],\n",
      "      dtype='object')\n"
     ]
    },
    {
     "data": {
      "text/html": [
       "<div>\n",
       "<table border=\"1\" class=\"dataframe\">\n",
       "  <thead>\n",
       "    <tr style=\"text-align: right;\">\n",
       "      <th></th>\n",
       "      <th>age</th>\n",
       "      <th>capital_gain</th>\n",
       "      <th>capital_loss</th>\n",
       "      <th>hours_per_week</th>\n",
       "      <th>target</th>\n",
       "      <th>workclass_Government</th>\n",
       "      <th>workclass_Not-employed</th>\n",
       "      <th>workclass_Private</th>\n",
       "      <th>workclass_Self-employed</th>\n",
       "      <th>education_Bachelors</th>\n",
       "      <th>...</th>\n",
       "      <th>race_White</th>\n",
       "      <th>sex_Female</th>\n",
       "      <th>sex_Male</th>\n",
       "      <th>native_country_Asia</th>\n",
       "      <th>native_country_Caribbean</th>\n",
       "      <th>native_country_Central America</th>\n",
       "      <th>native_country_Europe</th>\n",
       "      <th>native_country_North America</th>\n",
       "      <th>native_country_Other</th>\n",
       "      <th>native_country_South America</th>\n",
       "    </tr>\n",
       "  </thead>\n",
       "  <tbody>\n",
       "    <tr>\n",
       "      <th>0</th>\n",
       "      <td>39</td>\n",
       "      <td>2174</td>\n",
       "      <td>0</td>\n",
       "      <td>40</td>\n",
       "      <td>0</td>\n",
       "      <td>1.0</td>\n",
       "      <td>0.0</td>\n",
       "      <td>0.0</td>\n",
       "      <td>0.0</td>\n",
       "      <td>1.0</td>\n",
       "      <td>...</td>\n",
       "      <td>1.0</td>\n",
       "      <td>0.0</td>\n",
       "      <td>1.0</td>\n",
       "      <td>0.0</td>\n",
       "      <td>0.0</td>\n",
       "      <td>0.0</td>\n",
       "      <td>0.0</td>\n",
       "      <td>1.0</td>\n",
       "      <td>0.0</td>\n",
       "      <td>0.0</td>\n",
       "    </tr>\n",
       "    <tr>\n",
       "      <th>1</th>\n",
       "      <td>50</td>\n",
       "      <td>0</td>\n",
       "      <td>0</td>\n",
       "      <td>13</td>\n",
       "      <td>0</td>\n",
       "      <td>0.0</td>\n",
       "      <td>0.0</td>\n",
       "      <td>0.0</td>\n",
       "      <td>1.0</td>\n",
       "      <td>1.0</td>\n",
       "      <td>...</td>\n",
       "      <td>1.0</td>\n",
       "      <td>0.0</td>\n",
       "      <td>1.0</td>\n",
       "      <td>0.0</td>\n",
       "      <td>0.0</td>\n",
       "      <td>0.0</td>\n",
       "      <td>0.0</td>\n",
       "      <td>1.0</td>\n",
       "      <td>0.0</td>\n",
       "      <td>0.0</td>\n",
       "    </tr>\n",
       "    <tr>\n",
       "      <th>2</th>\n",
       "      <td>38</td>\n",
       "      <td>0</td>\n",
       "      <td>0</td>\n",
       "      <td>40</td>\n",
       "      <td>0</td>\n",
       "      <td>0.0</td>\n",
       "      <td>0.0</td>\n",
       "      <td>1.0</td>\n",
       "      <td>0.0</td>\n",
       "      <td>0.0</td>\n",
       "      <td>...</td>\n",
       "      <td>1.0</td>\n",
       "      <td>0.0</td>\n",
       "      <td>1.0</td>\n",
       "      <td>0.0</td>\n",
       "      <td>0.0</td>\n",
       "      <td>0.0</td>\n",
       "      <td>0.0</td>\n",
       "      <td>1.0</td>\n",
       "      <td>0.0</td>\n",
       "      <td>0.0</td>\n",
       "    </tr>\n",
       "    <tr>\n",
       "      <th>3</th>\n",
       "      <td>53</td>\n",
       "      <td>0</td>\n",
       "      <td>0</td>\n",
       "      <td>40</td>\n",
       "      <td>0</td>\n",
       "      <td>0.0</td>\n",
       "      <td>0.0</td>\n",
       "      <td>1.0</td>\n",
       "      <td>0.0</td>\n",
       "      <td>0.0</td>\n",
       "      <td>...</td>\n",
       "      <td>0.0</td>\n",
       "      <td>0.0</td>\n",
       "      <td>1.0</td>\n",
       "      <td>0.0</td>\n",
       "      <td>0.0</td>\n",
       "      <td>0.0</td>\n",
       "      <td>0.0</td>\n",
       "      <td>1.0</td>\n",
       "      <td>0.0</td>\n",
       "      <td>0.0</td>\n",
       "    </tr>\n",
       "    <tr>\n",
       "      <th>4</th>\n",
       "      <td>28</td>\n",
       "      <td>0</td>\n",
       "      <td>0</td>\n",
       "      <td>40</td>\n",
       "      <td>0</td>\n",
       "      <td>0.0</td>\n",
       "      <td>0.0</td>\n",
       "      <td>1.0</td>\n",
       "      <td>0.0</td>\n",
       "      <td>1.0</td>\n",
       "      <td>...</td>\n",
       "      <td>0.0</td>\n",
       "      <td>1.0</td>\n",
       "      <td>0.0</td>\n",
       "      <td>0.0</td>\n",
       "      <td>1.0</td>\n",
       "      <td>0.0</td>\n",
       "      <td>0.0</td>\n",
       "      <td>0.0</td>\n",
       "      <td>0.0</td>\n",
       "      <td>0.0</td>\n",
       "    </tr>\n",
       "  </tbody>\n",
       "</table>\n",
       "<p>5 rows × 55 columns</p>\n",
       "</div>"
      ],
      "text/plain": [
       "   age  capital_gain  capital_loss  hours_per_week  target  \\\n",
       "0   39          2174             0              40       0   \n",
       "1   50             0             0              13       0   \n",
       "2   38             0             0              40       0   \n",
       "3   53             0             0              40       0   \n",
       "4   28             0             0              40       0   \n",
       "\n",
       "   workclass_Government  workclass_Not-employed  workclass_Private  \\\n",
       "0                   1.0                     0.0                0.0   \n",
       "1                   0.0                     0.0                0.0   \n",
       "2                   0.0                     0.0                1.0   \n",
       "3                   0.0                     0.0                1.0   \n",
       "4                   0.0                     0.0                1.0   \n",
       "\n",
       "   workclass_Self-employed  education_Bachelors              ...               \\\n",
       "0                      0.0                  1.0              ...                \n",
       "1                      1.0                  1.0              ...                \n",
       "2                      0.0                  0.0              ...                \n",
       "3                      0.0                  0.0              ...                \n",
       "4                      0.0                  1.0              ...                \n",
       "\n",
       "   race_White  sex_Female  sex_Male  native_country_Asia  \\\n",
       "0         1.0         0.0       1.0                  0.0   \n",
       "1         1.0         0.0       1.0                  0.0   \n",
       "2         1.0         0.0       1.0                  0.0   \n",
       "3         0.0         0.0       1.0                  0.0   \n",
       "4         0.0         1.0       0.0                  0.0   \n",
       "\n",
       "   native_country_Caribbean  native_country_Central America  \\\n",
       "0                       0.0                             0.0   \n",
       "1                       0.0                             0.0   \n",
       "2                       0.0                             0.0   \n",
       "3                       0.0                             0.0   \n",
       "4                       1.0                             0.0   \n",
       "\n",
       "   native_country_Europe  native_country_North America  native_country_Other  \\\n",
       "0                    0.0                           1.0                   0.0   \n",
       "1                    0.0                           1.0                   0.0   \n",
       "2                    0.0                           1.0                   0.0   \n",
       "3                    0.0                           1.0                   0.0   \n",
       "4                    0.0                           0.0                   0.0   \n",
       "\n",
       "   native_country_South America  \n",
       "0                           0.0  \n",
       "1                           0.0  \n",
       "2                           0.0  \n",
       "3                           0.0  \n",
       "4                           0.0  \n",
       "\n",
       "[5 rows x 55 columns]"
      ]
     },
     "execution_count": 65,
     "metadata": {},
     "output_type": "execute_result"
    }
   ],
   "source": [
    "# Using `get_dummies` to encode strings. This method ignores NaN values.\n",
    "df_dummies = pd.get_dummies(df, columns = ['workclass', 'education', 'martial_status', 'occupation', 'relationship', 'race', 'sex', 'native_country'])\n",
    "print df_dummies.columns\n",
    "df_dummies.head()"
   ]
  },
  {
   "cell_type": "code",
   "execution_count": 66,
   "metadata": {
    "collapsed": false
   },
   "outputs": [
    {
     "data": {
      "text/html": [
       "<div>\n",
       "<table border=\"1\" class=\"dataframe\">\n",
       "  <thead>\n",
       "    <tr style=\"text-align: right;\">\n",
       "      <th></th>\n",
       "      <th>age</th>\n",
       "      <th>workclass</th>\n",
       "      <th>education</th>\n",
       "      <th>martial_status</th>\n",
       "      <th>occupation</th>\n",
       "      <th>relationship</th>\n",
       "      <th>race</th>\n",
       "      <th>sex</th>\n",
       "      <th>capital_gain</th>\n",
       "      <th>capital_loss</th>\n",
       "      <th>hours_per_week</th>\n",
       "      <th>native_country</th>\n",
       "      <th>target</th>\n",
       "    </tr>\n",
       "  </thead>\n",
       "  <tbody>\n",
       "    <tr>\n",
       "      <th>0</th>\n",
       "      <td>22</td>\n",
       "      <td>1</td>\n",
       "      <td>0</td>\n",
       "      <td>1</td>\n",
       "      <td>1</td>\n",
       "      <td>1</td>\n",
       "      <td>4</td>\n",
       "      <td>1</td>\n",
       "      <td>25</td>\n",
       "      <td>0</td>\n",
       "      <td>39</td>\n",
       "      <td>5</td>\n",
       "      <td>0</td>\n",
       "    </tr>\n",
       "    <tr>\n",
       "      <th>1</th>\n",
       "      <td>33</td>\n",
       "      <td>4</td>\n",
       "      <td>0</td>\n",
       "      <td>0</td>\n",
       "      <td>4</td>\n",
       "      <td>0</td>\n",
       "      <td>4</td>\n",
       "      <td>1</td>\n",
       "      <td>0</td>\n",
       "      <td>0</td>\n",
       "      <td>12</td>\n",
       "      <td>5</td>\n",
       "      <td>0</td>\n",
       "    </tr>\n",
       "    <tr>\n",
       "      <th>2</th>\n",
       "      <td>21</td>\n",
       "      <td>3</td>\n",
       "      <td>2</td>\n",
       "      <td>2</td>\n",
       "      <td>6</td>\n",
       "      <td>1</td>\n",
       "      <td>4</td>\n",
       "      <td>1</td>\n",
       "      <td>0</td>\n",
       "      <td>0</td>\n",
       "      <td>39</td>\n",
       "      <td>5</td>\n",
       "      <td>0</td>\n",
       "    </tr>\n",
       "    <tr>\n",
       "      <th>3</th>\n",
       "      <td>36</td>\n",
       "      <td>3</td>\n",
       "      <td>8</td>\n",
       "      <td>0</td>\n",
       "      <td>6</td>\n",
       "      <td>0</td>\n",
       "      <td>2</td>\n",
       "      <td>1</td>\n",
       "      <td>0</td>\n",
       "      <td>0</td>\n",
       "      <td>39</td>\n",
       "      <td>5</td>\n",
       "      <td>0</td>\n",
       "    </tr>\n",
       "    <tr>\n",
       "      <th>4</th>\n",
       "      <td>11</td>\n",
       "      <td>3</td>\n",
       "      <td>0</td>\n",
       "      <td>0</td>\n",
       "      <td>10</td>\n",
       "      <td>5</td>\n",
       "      <td>2</td>\n",
       "      <td>0</td>\n",
       "      <td>0</td>\n",
       "      <td>0</td>\n",
       "      <td>39</td>\n",
       "      <td>2</td>\n",
       "      <td>0</td>\n",
       "    </tr>\n",
       "  </tbody>\n",
       "</table>\n",
       "</div>"
      ],
      "text/plain": [
       "   age  workclass  education  martial_status  occupation  relationship  race  \\\n",
       "0   22          1          0               1           1             1     4   \n",
       "1   33          4          0               0           4             0     4   \n",
       "2   21          3          2               2           6             1     4   \n",
       "3   36          3          8               0           6             0     2   \n",
       "4   11          3          0               0          10             5     2   \n",
       "\n",
       "   sex  capital_gain  capital_loss  hours_per_week  native_country  target  \n",
       "0    1            25             0              39               5       0  \n",
       "1    1             0             0              12               5       0  \n",
       "2    1             0             0              39               5       0  \n",
       "3    1             0             0              39               5       0  \n",
       "4    0             0             0              39               2       0  "
      ]
     },
     "execution_count": 66,
     "metadata": {},
     "output_type": "execute_result"
    }
   ],
   "source": [
    "# Using `LabelEncoder` to encode strings. This method assigns NaN values to category.\n",
    "d = defaultdict(LabelEncoder)\n",
    "df_le = df.apply(lambda x: d[x.name].fit_transform(x))\n",
    "df_le.head()"
   ]
  },
  {
   "cell_type": "markdown",
   "metadata": {},
   "source": [
    "The code below shows the mapping between the string values and the encoding to integers."
   ]
  },
  {
   "cell_type": "code",
   "execution_count": 67,
   "metadata": {
    "collapsed": false
   },
   "outputs": [
    {
     "name": "stdout",
     "output_type": "stream",
     "text": [
      "     workclass_string  workclass\n",
      "27                NaN          0\n",
      "0          Government          1\n",
      "1901     Not-employed          2\n",
      "2             Private          3\n",
      "1       Self-employed          4\n",
      "\n",
      "     education_string  education\n",
      "0           Bachelors          0\n",
      "20          Doctorate          1\n",
      "2             HS-grad          2\n",
      "5             Masters          3\n",
      "52        Prof-school          4\n",
      "10       Some-college          5\n",
      "13         associates          6\n",
      "15  dropout-before-HS          7\n",
      "3             some-HS          8\n",
      "\n",
      "  martial_status_string  martial_status\n",
      "1               Married               0\n",
      "0         Never-married               1\n",
      "2           Not-married               2\n",
      "\n",
      "     occupation_string  occupation\n",
      "27                 NaN           0\n",
      "0         Adm-clerical           1\n",
      "442       Armed-Forces           2\n",
      "14        Craft-repair           3\n",
      "1      Exec-managerial           4\n",
      "16     Farming-fishing           5\n",
      "2    Handlers-cleaners           6\n",
      "17   Machine-op-inspct           7\n",
      "6        Other-service           8\n",
      "536    Priv-house-serv           9\n",
      "4       Prof-specialty          10\n",
      "30     Protective-serv          11\n",
      "13               Sales          12\n",
      "24        Tech-support          13\n",
      "15    Transport-moving          14\n",
      "\n",
      "   relationship_string  relationship\n",
      "1              Husband             0\n",
      "0        Not-in-family             1\n",
      "74      Other-relative             2\n",
      "12           Own-child             3\n",
      "17           Unmarried             4\n",
      "4                 Wife             5\n",
      "\n",
      "           race_string  race\n",
      "15  Amer-Indian-Eskimo     0\n",
      "11  Asian-Pac-Islander     1\n",
      "3                Black     2\n",
      "50               Other     3\n",
      "0                White     4\n",
      "\n",
      "  sex_string  sex\n",
      "4     Female    0\n",
      "0       Male    1\n",
      "\n",
      "    native_country_string  native_country\n",
      "14                    NaN               0\n",
      "11                   Asia               1\n",
      "4               Caribbean               2\n",
      "52        Central America               3\n",
      "98                 Europe               4\n",
      "0           North America               5\n",
      "27                  Other               6\n",
      "228         South America               7\n"
     ]
    }
   ],
   "source": [
    "# New dataframe with only the categorical variables\n",
    "df_cat_vars = df[['workclass', 'education', 'martial_status', 'occupation', 'relationship', 'race', 'sex', 'native_country']]\n",
    "# Rename columns before concatenating the two dataframes\n",
    "df_cat_vars.columns = [str(col) + '_string' for col in df_cat_vars.columns]\n",
    "\n",
    "# Concatenate the dataframe with the categorical variables that are still in string format with the new enconded dataframe \n",
    "df_map = pd.concat([df_cat_vars, df_le], axis=1)\n",
    "\n",
    "# Take the pair of variables and get the distinct mapping. \n",
    "print str(df_map[['workclass_string', 'workclass']].drop_duplicates().sort_values('workclass')) + '\\n' + \\\n",
    "      '\\n' + str(df_map[['education_string', 'education']].drop_duplicates().sort_values('education'))  + '\\n' + \\\n",
    "      '\\n' + str(df_map[['martial_status_string', 'martial_status']].drop_duplicates().sort_values('martial_status')) + '\\n' + \\\n",
    "      '\\n' + str(df_map[['occupation_string', 'occupation']].drop_duplicates().sort_values('occupation')) + '\\n' + \\\n",
    "      '\\n' + str(df_map[['relationship_string', 'relationship']].drop_duplicates().sort_values('relationship')) + '\\n' + \\\n",
    "      '\\n' + str(df_map[['race_string', 'race']].drop_duplicates().sort_values('race')) + '\\n' + \\\n",
    "      '\\n' + str(df_map[['sex_string', 'sex']].drop_duplicates().sort_values('sex')) + '\\n' + \\\n",
    "      '\\n' + str(df_map[['native_country_string', 'native_country']].drop_duplicates().sort_values('native_country'))"
   ]
  },
  {
   "cell_type": "markdown",
   "metadata": {},
   "source": [
    "<a name=\"var_corr\"></a>\n",
    "#### Variable Correlation"
   ]
  },
  {
   "cell_type": "code",
   "execution_count": 68,
   "metadata": {
    "collapsed": false
   },
   "outputs": [
    {
     "data": {
      "text/html": [
       "<div>\n",
       "<table border=\"1\" class=\"dataframe\">\n",
       "  <thead>\n",
       "    <tr style=\"text-align: right;\">\n",
       "      <th></th>\n",
       "      <th>age</th>\n",
       "      <th>workclass</th>\n",
       "      <th>education</th>\n",
       "      <th>martial_status</th>\n",
       "      <th>occupation</th>\n",
       "      <th>relationship</th>\n",
       "      <th>race</th>\n",
       "      <th>sex</th>\n",
       "      <th>capital_gain</th>\n",
       "      <th>capital_loss</th>\n",
       "      <th>hours_per_week</th>\n",
       "      <th>native_country</th>\n",
       "      <th>target</th>\n",
       "    </tr>\n",
       "  </thead>\n",
       "  <tbody>\n",
       "    <tr>\n",
       "      <th>age</th>\n",
       "      <td>1.000000</td>\n",
       "      <td>-0.025818</td>\n",
       "      <td>-0.064541</td>\n",
       "      <td>-0.086672</td>\n",
       "      <td>-0.020930</td>\n",
       "      <td>-0.263783</td>\n",
       "      <td>0.028752</td>\n",
       "      <td>0.088863</td>\n",
       "      <td>0.125916</td>\n",
       "      <td>0.065058</td>\n",
       "      <td>0.069123</td>\n",
       "      <td>-0.001043</td>\n",
       "      <td>0.234134</td>\n",
       "    </tr>\n",
       "    <tr>\n",
       "      <th>workclass</th>\n",
       "      <td>-0.025818</td>\n",
       "      <td>1.000000</td>\n",
       "      <td>-0.015815</td>\n",
       "      <td>-0.072888</td>\n",
       "      <td>0.238362</td>\n",
       "      <td>-0.092006</td>\n",
       "      <td>0.067558</td>\n",
       "      <td>0.112791</td>\n",
       "      <td>0.032230</td>\n",
       "      <td>0.016290</td>\n",
       "      <td>0.161596</td>\n",
       "      <td>-0.015442</td>\n",
       "      <td>0.044685</td>\n",
       "    </tr>\n",
       "    <tr>\n",
       "      <th>education</th>\n",
       "      <td>-0.064541</td>\n",
       "      <td>-0.015815</td>\n",
       "      <td>1.000000</td>\n",
       "      <td>0.068765</td>\n",
       "      <td>-0.051015</td>\n",
       "      <td>0.091789</td>\n",
       "      <td>-0.021760</td>\n",
       "      <td>-0.034860</td>\n",
       "      <td>-0.075749</td>\n",
       "      <td>-0.043733</td>\n",
       "      <td>-0.135556</td>\n",
       "      <td>0.010988</td>\n",
       "      <td>-0.184411</td>\n",
       "    </tr>\n",
       "    <tr>\n",
       "      <th>martial_status</th>\n",
       "      <td>-0.086672</td>\n",
       "      <td>-0.072888</td>\n",
       "      <td>0.068765</td>\n",
       "      <td>1.000000</td>\n",
       "      <td>-0.051019</td>\n",
       "      <td>0.457735</td>\n",
       "      <td>-0.066238</td>\n",
       "      <td>-0.440807</td>\n",
       "      <td>-0.117467</td>\n",
       "      <td>-0.067906</td>\n",
       "      <td>-0.153703</td>\n",
       "      <td>0.036509</td>\n",
       "      <td>-0.368851</td>\n",
       "    </tr>\n",
       "    <tr>\n",
       "      <th>occupation</th>\n",
       "      <td>-0.020930</td>\n",
       "      <td>0.238362</td>\n",
       "      <td>-0.051015</td>\n",
       "      <td>-0.051019</td>\n",
       "      <td>1.000000</td>\n",
       "      <td>-0.075607</td>\n",
       "      <td>0.006763</td>\n",
       "      <td>0.080296</td>\n",
       "      <td>0.026252</td>\n",
       "      <td>0.017342</td>\n",
       "      <td>0.080621</td>\n",
       "      <td>-0.009944</td>\n",
       "      <td>0.075468</td>\n",
       "    </tr>\n",
       "    <tr>\n",
       "      <th>relationship</th>\n",
       "      <td>-0.263783</td>\n",
       "      <td>-0.092006</td>\n",
       "      <td>0.091789</td>\n",
       "      <td>0.457735</td>\n",
       "      <td>-0.075607</td>\n",
       "      <td>1.000000</td>\n",
       "      <td>-0.116055</td>\n",
       "      <td>-0.582454</td>\n",
       "      <td>-0.093147</td>\n",
       "      <td>-0.064284</td>\n",
       "      <td>-0.251352</td>\n",
       "      <td>-0.009207</td>\n",
       "      <td>-0.250918</td>\n",
       "    </tr>\n",
       "    <tr>\n",
       "      <th>race</th>\n",
       "      <td>0.028752</td>\n",
       "      <td>0.067558</td>\n",
       "      <td>-0.021760</td>\n",
       "      <td>-0.066238</td>\n",
       "      <td>0.006763</td>\n",
       "      <td>-0.116055</td>\n",
       "      <td>1.000000</td>\n",
       "      <td>0.087204</td>\n",
       "      <td>0.024960</td>\n",
       "      <td>0.019363</td>\n",
       "      <td>0.042318</td>\n",
       "      <td>0.294879</td>\n",
       "      <td>0.071846</td>\n",
       "    </tr>\n",
       "    <tr>\n",
       "      <th>sex</th>\n",
       "      <td>0.088863</td>\n",
       "      <td>0.112791</td>\n",
       "      <td>-0.034860</td>\n",
       "      <td>-0.440807</td>\n",
       "      <td>0.080296</td>\n",
       "      <td>-0.582454</td>\n",
       "      <td>0.087204</td>\n",
       "      <td>1.000000</td>\n",
       "      <td>0.077589</td>\n",
       "      <td>0.049544</td>\n",
       "      <td>0.231355</td>\n",
       "      <td>-0.004283</td>\n",
       "      <td>0.215980</td>\n",
       "    </tr>\n",
       "    <tr>\n",
       "      <th>capital_gain</th>\n",
       "      <td>0.125916</td>\n",
       "      <td>0.032230</td>\n",
       "      <td>-0.075749</td>\n",
       "      <td>-0.117467</td>\n",
       "      <td>0.026252</td>\n",
       "      <td>-0.093147</td>\n",
       "      <td>0.024960</td>\n",
       "      <td>0.077589</td>\n",
       "      <td>1.000000</td>\n",
       "      <td>-0.056970</td>\n",
       "      <td>0.101365</td>\n",
       "      <td>0.000322</td>\n",
       "      <td>0.340016</td>\n",
       "    </tr>\n",
       "    <tr>\n",
       "      <th>capital_loss</th>\n",
       "      <td>0.065058</td>\n",
       "      <td>0.016290</td>\n",
       "      <td>-0.043733</td>\n",
       "      <td>-0.067906</td>\n",
       "      <td>0.017342</td>\n",
       "      <td>-0.064284</td>\n",
       "      <td>0.019363</td>\n",
       "      <td>0.049544</td>\n",
       "      <td>-0.056970</td>\n",
       "      <td>1.000000</td>\n",
       "      <td>0.058826</td>\n",
       "      <td>-0.006140</td>\n",
       "      <td>0.162514</td>\n",
       "    </tr>\n",
       "    <tr>\n",
       "      <th>hours_per_week</th>\n",
       "      <td>0.069123</td>\n",
       "      <td>0.161596</td>\n",
       "      <td>-0.135556</td>\n",
       "      <td>-0.153703</td>\n",
       "      <td>0.080621</td>\n",
       "      <td>-0.251352</td>\n",
       "      <td>0.042318</td>\n",
       "      <td>0.231355</td>\n",
       "      <td>0.101365</td>\n",
       "      <td>0.058826</td>\n",
       "      <td>1.000000</td>\n",
       "      <td>-0.001761</td>\n",
       "      <td>0.232393</td>\n",
       "    </tr>\n",
       "    <tr>\n",
       "      <th>native_country</th>\n",
       "      <td>-0.001043</td>\n",
       "      <td>-0.015442</td>\n",
       "      <td>0.010988</td>\n",
       "      <td>0.036509</td>\n",
       "      <td>-0.009944</td>\n",
       "      <td>-0.009207</td>\n",
       "      <td>0.294879</td>\n",
       "      <td>-0.004283</td>\n",
       "      <td>0.000322</td>\n",
       "      <td>-0.006140</td>\n",
       "      <td>-0.001761</td>\n",
       "      <td>1.000000</td>\n",
       "      <td>-0.004635</td>\n",
       "    </tr>\n",
       "    <tr>\n",
       "      <th>target</th>\n",
       "      <td>0.234134</td>\n",
       "      <td>0.044685</td>\n",
       "      <td>-0.184411</td>\n",
       "      <td>-0.368851</td>\n",
       "      <td>0.075468</td>\n",
       "      <td>-0.250918</td>\n",
       "      <td>0.071846</td>\n",
       "      <td>0.215980</td>\n",
       "      <td>0.340016</td>\n",
       "      <td>0.162514</td>\n",
       "      <td>0.232393</td>\n",
       "      <td>-0.004635</td>\n",
       "      <td>1.000000</td>\n",
       "    </tr>\n",
       "  </tbody>\n",
       "</table>\n",
       "</div>"
      ],
      "text/plain": [
       "                     age  workclass  education  martial_status  occupation  \\\n",
       "age             1.000000  -0.025818  -0.064541       -0.086672   -0.020930   \n",
       "workclass      -0.025818   1.000000  -0.015815       -0.072888    0.238362   \n",
       "education      -0.064541  -0.015815   1.000000        0.068765   -0.051015   \n",
       "martial_status -0.086672  -0.072888   0.068765        1.000000   -0.051019   \n",
       "occupation     -0.020930   0.238362  -0.051015       -0.051019    1.000000   \n",
       "relationship   -0.263783  -0.092006   0.091789        0.457735   -0.075607   \n",
       "race            0.028752   0.067558  -0.021760       -0.066238    0.006763   \n",
       "sex             0.088863   0.112791  -0.034860       -0.440807    0.080296   \n",
       "capital_gain    0.125916   0.032230  -0.075749       -0.117467    0.026252   \n",
       "capital_loss    0.065058   0.016290  -0.043733       -0.067906    0.017342   \n",
       "hours_per_week  0.069123   0.161596  -0.135556       -0.153703    0.080621   \n",
       "native_country -0.001043  -0.015442   0.010988        0.036509   -0.009944   \n",
       "target          0.234134   0.044685  -0.184411       -0.368851    0.075468   \n",
       "\n",
       "                relationship      race       sex  capital_gain  capital_loss  \\\n",
       "age                -0.263783  0.028752  0.088863      0.125916      0.065058   \n",
       "workclass          -0.092006  0.067558  0.112791      0.032230      0.016290   \n",
       "education           0.091789 -0.021760 -0.034860     -0.075749     -0.043733   \n",
       "martial_status      0.457735 -0.066238 -0.440807     -0.117467     -0.067906   \n",
       "occupation         -0.075607  0.006763  0.080296      0.026252      0.017342   \n",
       "relationship        1.000000 -0.116055 -0.582454     -0.093147     -0.064284   \n",
       "race               -0.116055  1.000000  0.087204      0.024960      0.019363   \n",
       "sex                -0.582454  0.087204  1.000000      0.077589      0.049544   \n",
       "capital_gain       -0.093147  0.024960  0.077589      1.000000     -0.056970   \n",
       "capital_loss       -0.064284  0.019363  0.049544     -0.056970      1.000000   \n",
       "hours_per_week     -0.251352  0.042318  0.231355      0.101365      0.058826   \n",
       "native_country     -0.009207  0.294879 -0.004283      0.000322     -0.006140   \n",
       "target             -0.250918  0.071846  0.215980      0.340016      0.162514   \n",
       "\n",
       "                hours_per_week  native_country    target  \n",
       "age                   0.069123       -0.001043  0.234134  \n",
       "workclass             0.161596       -0.015442  0.044685  \n",
       "education            -0.135556        0.010988 -0.184411  \n",
       "martial_status       -0.153703        0.036509 -0.368851  \n",
       "occupation            0.080621       -0.009944  0.075468  \n",
       "relationship         -0.251352       -0.009207 -0.250918  \n",
       "race                  0.042318        0.294879  0.071846  \n",
       "sex                   0.231355       -0.004283  0.215980  \n",
       "capital_gain          0.101365        0.000322  0.340016  \n",
       "capital_loss          0.058826       -0.006140  0.162514  \n",
       "hours_per_week        1.000000       -0.001761  0.232393  \n",
       "native_country       -0.001761        1.000000 -0.004635  \n",
       "target                0.232393       -0.004635  1.000000  "
      ]
     },
     "execution_count": 68,
     "metadata": {},
     "output_type": "execute_result"
    }
   ],
   "source": [
    "# Correlation matrix \n",
    "corr = df_le.corr()\n",
    "corr"
   ]
  },
  {
   "cell_type": "code",
   "execution_count": 69,
   "metadata": {
    "collapsed": false
   },
   "outputs": [
    {
     "data": {
      "text/plain": [
       "<matplotlib.axes._subplots.AxesSubplot at 0x13de1470>"
      ]
     },
     "execution_count": 69,
     "metadata": {},
     "output_type": "execute_result"
    },
    {
     "data": {
      "image/png": "[encoded data removed]",
      "text/plain": [
       "<matplotlib.figure.Figure at 0x13de1be0>"
      ]
     },
     "metadata": {},
     "output_type": "display_data"
    }
   ],
   "source": [
    "# Correlation matrix heat map\n",
    "plt.figure(figsize=(8, 8))\n",
    "sns.heatmap(corr, vmax=1, square=True)"
   ]
  },
  {
   "cell_type": "markdown",
   "metadata": {},
   "source": [
    "There are no highly correlated variables in the data."
   ]
  },
  {
   "cell_type": "markdown",
   "metadata": {},
   "source": [
    "<a name=\"model_prep\"></a>\n",
    "### Prepare for Modeling\n",
    "<a name=\"set_vars\"></a>\n",
    "#### Set target and predictor variables"
   ]
  },
  {
   "cell_type": "code",
   "execution_count": 70,
   "metadata": {
    "collapsed": true
   },
   "outputs": [],
   "source": [
    "# Set the predictor variables and target variable\n",
    "target = df_le['target']\n",
    "predictors = df_le.drop(['target'], axis=1)"
   ]
  },
  {
   "cell_type": "markdown",
   "metadata": {},
   "source": [
    "<a name=\"partition\"></a>\n",
    "#### Partition Data\n",
    "The Stratified Shufflesplit returns stratified randomized folds with equal percentages of the target variable in the train and test datasets.\n",
    "\n",
    "* **X_train** - Training Predictors \n",
    "* **y_train** - Training Target\n",
    "* **X_test** - Testing Predictors\n",
    "* **y_test** - Testing Target"
   ]
  },
  {
   "cell_type": "code",
   "execution_count": 71,
   "metadata": {
    "collapsed": false
   },
   "outputs": [
    {
     "name": "stdout",
     "output_type": "stream",
     "text": [
      "\n",
      "24.082% of people with an income >50k in training data\n",
      "24.075% of people with an income >50k in testing data\n",
      "\n",
      "0    19775\n",
      "1     6273\n",
      "Name: target, dtype: int64\n",
      "0    4945\n",
      "1    1568\n",
      "Name: target, dtype: int64\n",
      "\n",
      "32561 total records split into: \n",
      "26048 records - 80% train \n",
      "6513 records - 20% test\n"
     ]
    }
   ],
   "source": [
    "# Partition modeling_df into TRAIN and TEST datasets (80% Train VS 20% Test)\n",
    "seed = 2342\n",
    "\n",
    "sss = StratifiedShuffleSplit(target, n_iter=1, test_size=0.2, random_state=seed)\n",
    "\n",
    "for train_index, test_index in sss:\n",
    "    X_train, X_test = predictors.iloc[train_index], predictors.iloc[test_index]\n",
    "    y_train, y_test = target[train_index], target[test_index]\n",
    "\n",
    "# What percentage of people have income >50k\n",
    "print \"\\n\" + str(format(y_train.mean() * 100,'.3f')) + \"% of people with an income >50k in training data\\n\" + \\\n",
    "      str(format(y_test.mean() * 100,'.3f')) + \"% of people with an income >50k in testing data\\n\"\n",
    "\n",
    "# Check target series for distribution of classes\n",
    "print y_train.value_counts()\n",
    "print y_test.value_counts()    \n",
    "\n",
    "print \"\\n\" + str(len(predictors)) + \" total records split into: \\n\" + \\\n",
    "      str(len(X_train)) + \" records - 80% train \\n\" + \\\n",
    "      str(len(X_test)) + \" records - 20% test\""
   ]
  },
  {
   "cell_type": "markdown",
   "metadata": {},
   "source": [
    "<a name=\"modeling\"></a>\n",
    "# III. Modeling\n",
    "\n",
    "There are many different ways to evaluate model performance and these will differ based on if your building a regression or classification model. I've provided several methods in each of my model evaluations for demonstration purposes. The sklearn metrics module provides various functions for model evaluation.\n",
    "\n",
    "`accuracy_score` function computes the accuracy classification score.\n",
    "\n",
    "Error Rate is just 1 minus the accuracy score.\n",
    "\n",
    "`roc_auc_score` computes the Area Under the Curve (AUC) from prediction scores.\n",
    "\n",
    "`mean_squared_error` function computes mean square error, a risk metric corresponding to the expected value of the squared (quadratic) error loss or loss.\n",
    "\n",
    "Root Mean Squared Error (RMSE) can easily be calculated by taking the square root of the `mean_squared_error`. Import `sqrt` by calling `from math import sqrt`\n",
    "\n",
    "`r2_score` (R Squared) metric provides an indication of the goodness of fit of a set of predictions to the actual values. Best possible score is 1.0 and it can be negative (because the model can be arbitrarily worse). A constant model that always predicts the expected value of y, disregarding the input features, would get a R^2 score of 0.0.\n",
    "\n",
    "Gini Coefficient can be derived from the AUC as 2*AUC-1. Gini above 60% is a good model.\n",
    "\n",
    "`confusion_matrix` is the count of true negatives, false negatives, true positives, and false positives.\n",
    "\n",
    "`classification_report` function builds a report with the main classification metrics. Metrics included:\n",
    "- Precision computes the proportion of instances predicted as positives that were correctly evaluated (it measures how right is our classifier when it says that an instance is positive).\n",
    "- Recall counts the proportion of positive instances that were correctly evaluated (measuring how right our classifier is when faced with a positive instance).\n",
    "- F1-score is the harmonic mean of precision and recall, and tries to combine both in a single number.\n",
    "\n",
    "**ROC Chart ** <br>\n",
    "The ROC chart is similar to the gain or lift charts in that they provide a means of comparison between classification models. The ROC chart shows false positive rate (1-specificity) on X-axis, the probability of target=1 when its true value is 0, against true positive rate (sensitivity) on Y-axis, the probability of target=1 when its true value is 1. Ideally, the curve will climb quickly toward the top-left meaning the model correctly predicted the cases. The diagonal red line is for a random model\n",
    "\n",
    "**Area Under the Curve (AUC)** <br>\n",
    "Area under ROC curve is often used as a measure of quality of the classification models. A random classifier has an area under the curve of 0.5, while AUC for a perfect classifier is equal to 1. In practice, most of the classification models have an AUC between 0.5 and 1."
   ]
  },
  {
   "cell_type": "markdown",
   "metadata": {},
   "source": [
    "<a name=\"lr\"></a>\n",
    "## Logistic Regression\n",
    "\n",
    "Sklearn documenation on [logistic regression](http://scikit-learn.org/stable/modules/generated/sklearn.linear_model.LogisticRegression.html).\n",
    "\n",
    "<a name=\"lr_fit\"></a>\n",
    "#### Fit the model"
   ]
  },
  {
   "cell_type": "code",
   "execution_count": 72,
   "metadata": {
    "collapsed": false
   },
   "outputs": [
    {
     "name": "stdout",
     "output_type": "stream",
     "text": [
      "\n",
      "81.200% training model accuracy\n"
     ]
    }
   ],
   "source": [
    "lr = LogisticRegression()\n",
    "\n",
    "# fit the model\n",
    "lr.fit(X_train, y_train)\n",
    "\n",
    "# check the accuracy on the training set\n",
    "lr.score(X_train, y_train)\n",
    "print \"\\n\" + str(format(lr.score(X_train, y_train) * 100, '.3f')) + \"% training model accuracy\""
   ]
  },
  {
   "cell_type": "markdown",
   "metadata": {},
   "source": [
    "<a name=\"lr_eval\"></a>\n",
    "#### Model Evaluation using the Test Data"
   ]
  },
  {
   "cell_type": "code",
   "execution_count": 73,
   "metadata": {
    "collapsed": false
   },
   "outputs": [
    {
     "name": "stdout",
     "output_type": "stream",
     "text": [
      "\n",
      "Logistic Regression \n",
      "Residual Sum of Squares:  1217\n",
      "Accuracy Score:           0.813\n",
      "Error Rate:               0.187\n",
      "ROC AUC Score:            0.682\n",
      "Mean Squared Error:       0.187\n",
      "RMSE:                     0.432\n",
      "R2:                       -0.022\n",
      "\n",
      "Confusion Matrix: \n",
      "[[4621  324]\n",
      " [ 893  675]]\n",
      "(row=expected, col=predicted)\n",
      "\n",
      "Classification Report: \n",
      "             precision    recall  f1-score   support\n",
      "\n",
      "          0       0.84      0.93      0.88      4945\n",
      "          1       0.68      0.43      0.53      1568\n",
      "\n",
      "avg / total       0.80      0.81      0.80      6513\n",
      "\n"
     ]
    }
   ],
   "source": [
    "# Make Predictions\n",
    "lr_predicted = lr.predict(X_test)\n",
    "\n",
    "print \"\\nLogistic Regression \\nResidual Sum of Squares:  \" + \\\n",
    "    str(((lr.predict(X_test) - y_test) ** 2).sum()) + \\\n",
    "    \"\\nAccuracy Score:           \" + \\\n",
    "    str(format(metrics.accuracy_score(y_test, lr_predicted), '.3f')) + \\\n",
    "    \"\\nError Rate:               \" + \\\n",
    "    str(format((1 - metrics.accuracy_score(y_test, lr_predicted)), '.3f')) + \\\n",
    "    \"\\nROC AUC Score:            \" + \\\n",
    "    str(format(metrics.roc_auc_score(y_test, lr.predict(X_test)), '.3f')) + \\\n",
    "    \"\\nMean Squared Error:       \" + \\\n",
    "    str(format(metrics.mean_squared_error(y_test, lr_predicted), '.3f')) + \\\n",
    "    \"\\nRMSE:                     \" + \\\n",
    "    str(format(sqrt(metrics.mean_squared_error(y_test, lr_predicted)), '.3f')) + \\\n",
    "    \"\\nR2:                       \" + \\\n",
    "    str(format(metrics.r2_score(y_test, lr_predicted), '.3f')) + \\\n",
    "    \"\\n\\nConfusion Matrix: \\n\" + \\\n",
    "    str(metrics.confusion_matrix(y_test, lr_predicted)) + \\\n",
    "    \"\\n(row=expected, col=predicted)\" +     \\\n",
    "    \"\\n\\nClassification Report: \\n\" +\\\n",
    "    str(metrics.classification_report(y_test,lr_predicted))"
   ]
  },
  {
   "cell_type": "code",
   "execution_count": 74,
   "metadata": {
    "collapsed": false
   },
   "outputs": [
    {
     "name": "stdout",
     "output_type": "stream",
     "text": [
      "The Area Under the ROC Curve: 0.856729\n",
      "Gini: 0.713\n"
     ]
    },
    {
     "data": {
      "image/png": "[encoded data removed]",
      "text/plain": [
       "<matplotlib.figure.Figure at 0xce80278>"
      ]
     },
     "metadata": {},
     "output_type": "display_data"
    }
   ],
   "source": [
    "probas = lr.predict_proba(X_test)\n",
    "lr_preds = probas[:,1]\n",
    "\n",
    "# calculate the fpr and tpr for all thresholds of the classification\n",
    "lr_fpr, lr_tpr, lr_threshold = metrics.roc_curve(y_test, lr_preds)\n",
    "lr_roc_auc = metrics.auc(lr_fpr, lr_tpr)\n",
    "\n",
    "print \"The Area Under the ROC Curve: %f\" % lr_roc_auc + \\\n",
    "      \"\\nGini: \" + str(format(2*lr_roc_auc-1, '.3f'))\n",
    "    \n",
    "# plot ROC curve\n",
    "plt.title('ROC Curve')\n",
    "plt.plot(lr_fpr, lr_tpr, 'b', label = 'AUC = %0.2f' % lr_roc_auc)\n",
    "plt.legend(loc = 'lower right')\n",
    "plt.plot([0, 1], [0, 1],'r--')\n",
    "plt.xlim([0, 1])\n",
    "plt.ylim([0, 1])\n",
    "plt.ylabel('True Positive Rate')\n",
    "plt.xlabel('False Positive Rate')\n",
    "plt.show()"
   ]
  },
  {
   "cell_type": "markdown",
   "metadata": {},
   "source": [
    "<a name=\"dt\"></a>\n",
    "## Decision Tree\n",
    "\n",
    "Scikit-learn has several types of Decision Trees. Do research to find the correct one for your data. Scikit-learn uses an optimised version of the CART algorithm. Sklearn documenation on [decision trees](http://scikit-learn.org/stable/modules/tree.html#regression).\n",
    "\n",
    "Use max_depth=3 as an initial tree depth to get a feel for how the tree is fitting to your data, and then increase the depth. Use max_depth to control the size of the tree to prevent overfitting. Use min_samples_split or min_samples_leaf to control the number of samples at a leaf node. A very small number will usually mean the tree will overfit, whereas a large number will prevent the tree from learning the data. Try min_samples_leaf=5 as an initial value.\n",
    "\n",
    "<a name=\"dt_fit\"></a>\n",
    "#### Fit the model"
   ]
  },
  {
   "cell_type": "code",
   "execution_count": 75,
   "metadata": {
    "collapsed": false
   },
   "outputs": [
    {
     "name": "stdout",
     "output_type": "stream",
     "text": [
      "\n",
      "82.417% training model accuracy\n"
     ]
    }
   ],
   "source": [
    "dt = DecisionTreeClassifier(max_depth=3, min_samples_leaf=5, random_state=99)\n",
    "dt.fit(X_train, y_train)\n",
    "\n",
    "print \"\\n\" + str(format(dt.score(X_train, y_train) * 100, '.3f')) + \"% training model accuracy\""
   ]
  },
  {
   "cell_type": "markdown",
   "metadata": {},
   "source": [
    "<a name=\"dt_eval\"></a>\n",
    "#### Model Evaluation using the Test Data"
   ]
  },
  {
   "cell_type": "code",
   "execution_count": 76,
   "metadata": {
    "collapsed": false
   },
   "outputs": [
    {
     "name": "stdout",
     "output_type": "stream",
     "text": [
      "\n",
      "Decision Tree \n",
      "Residual Sum of Squares:  1109\n",
      "Accuracy Score:           0.830\n",
      "Error Rate:               0.170\n",
      "ROC AUC Score:            0.693\n",
      "Mean Squared Error:       0.170\n",
      "RMSE:                     0.413\n",
      "R2:                       0.068\n",
      "\n",
      "Confusion Matrix: \n",
      "[[4732  213]\n",
      " [ 896  672]]\n",
      "(row=expected, col=predicted)\n",
      "\n",
      "Classification Report: \n",
      "             precision    recall  f1-score   support\n",
      "\n",
      "          0       0.84      0.96      0.90      4945\n",
      "          1       0.76      0.43      0.55      1568\n",
      "\n",
      "avg / total       0.82      0.83      0.81      6513\n",
      "\n"
     ]
    }
   ],
   "source": [
    "# Make Predictions\n",
    "dt_predicted = dt.predict(X_test)\n",
    "\n",
    "print \"\\nDecision Tree \\nResidual Sum of Squares:  \" + \\\n",
    "    str(((dt.predict(X_test) - y_test) ** 2).sum()) + \\\n",
    "    \"\\nAccuracy Score:           \" + \\\n",
    "    str(format(metrics.accuracy_score(y_test, dt_predicted), '.3f')) + \\\n",
    "    \"\\nError Rate:               \" + \\\n",
    "    str(format((1 - metrics.accuracy_score(y_test, dt_predicted)), '.3f')) + \\\n",
    "    \"\\nROC AUC Score:            \" + \\\n",
    "    str(format(metrics.roc_auc_score(y_test, dt.predict(X_test)), '.3f')) + \\\n",
    "    \"\\nMean Squared Error:       \" + \\\n",
    "    str(format(metrics.mean_squared_error(y_test, dt_predicted), '.3f')) + \\\n",
    "    \"\\nRMSE:                     \" + \\\n",
    "    str(format(sqrt(metrics.mean_squared_error(y_test, dt_predicted)), '.3f')) + \\\n",
    "    \"\\nR2:                       \" + \\\n",
    "    str(format(metrics.r2_score(y_test, dt_predicted), '.3f')) + \\\n",
    "    \"\\n\\nConfusion Matrix: \\n\" + \\\n",
    "    str(metrics.confusion_matrix(y_test, dt_predicted)) + \\\n",
    "    \"\\n(row=expected, col=predicted)\" +     \\\n",
    "    \"\\n\\nClassification Report: \\n\" + \\\n",
    "    str(metrics.classification_report(y_test,dt_predicted))"
   ]
  },
  {
   "cell_type": "markdown",
   "metadata": {},
   "source": [
    "<a name=\"dt_visual\"></a>\n",
    "#### Visualization of Decision Tree\n",
    "Note: Creating a visual of a decision tree in Jupyter is not easy...still working on the code below. Installation of Graphviz can be difficult so research how to do this carefully. Double click the image below to zoom-in if it appears small and difficult to read."
   ]
  },
  {
   "cell_type": "code",
   "execution_count": 77,
   "metadata": {
    "collapsed": false
   },
   "outputs": [
    {
     "data": {
      "image/jpeg": "[encoded data removed]",
      "text/plain": [
       "<IPython.core.display.Image object>"
      ]
     },
     "execution_count": 77,
     "metadata": {},
     "output_type": "execute_result"
    }
   ],
   "source": [
    "# Output dot language script\n",
    "dotfile = open(\"classification_dtree.dot\", 'w')\n",
    "export_graphviz(dt, out_file = dotfile, feature_names = X_train.columns, filled=True)\n",
    "dotfile.close()\n",
    "\n",
    "# Call system to convert dot file to jpg and then display it in Jupyter.\n",
    "system(\"dot -Tpng classification_dtree.dot -o classification_dtree.jpg\")\n",
    "Image(filename='classification_dtree.jpg') "
   ]
  },
  {
   "cell_type": "markdown",
   "metadata": {},
   "source": [
    "<a name=\"dt_var_imp\"></a>\n",
    "#### Feature Importance"
   ]
  },
  {
   "cell_type": "code",
   "execution_count": 78,
   "metadata": {
    "collapsed": false
   },
   "outputs": [
    {
     "name": "stdout",
     "output_type": "stream",
     "text": [
      "Feature Importance (Top 5): \n",
      "                     Imp\n",
      "martial_status  0.570394\n",
      "capital_gain    0.323735\n",
      "education       0.088786\n",
      "hours_per_week  0.016656\n",
      "age             0.000429\n"
     ]
    }
   ],
   "source": [
    "# Top 5 most important features\n",
    "print \"Feature Importance (Top 5): \"\n",
    "print pd.DataFrame(dt.feature_importances_, columns = [\"Imp\"], index = predictors.columns).sort_values(['Imp'], ascending = False).head(5)"
   ]
  },
  {
   "cell_type": "code",
   "execution_count": 79,
   "metadata": {
    "collapsed": false
   },
   "outputs": [
    {
     "name": "stdout",
     "output_type": "stream",
     "text": [
      "The Area Under the ROC Curve: 0.842372\n",
      "Gini: 0.685\n"
     ]
    },
    {
     "data": {
      "image/png": "[encoded data removed]",
      "text/plain": [
       "<matplotlib.figure.Figure at 0xdf3efd0>"
      ]
     },
     "metadata": {},
     "output_type": "display_data"
    }
   ],
   "source": [
    "# calculate the fpr and tpr for all thresholds of the classification\n",
    "probas = dt.predict_proba(X_test)\n",
    "dt_preds = probas[:,1]\n",
    "dt_fpr, dt_tpr, dt_threshold = metrics.roc_curve(y_test, dt_preds)\n",
    "dt_roc_auc = metrics.auc(dt_fpr, dt_tpr)\n",
    "\n",
    "print \"The Area Under the ROC Curve: %f\" % dt_roc_auc + \\\n",
    "      \"\\nGini: \" + str(format(2*dt_roc_auc-1, '.3f'))\n",
    "    \n",
    "# plot ROC curve\n",
    "plt.title('ROC Curve')\n",
    "plt.plot(dt_fpr, dt_tpr, 'b', label = 'AUC = %0.2f' % dt_roc_auc)\n",
    "plt.legend(loc = 'lower right')\n",
    "plt.plot([0, 1], [0, 1],'r--')\n",
    "plt.xlim([0, 1])\n",
    "plt.ylim([0, 1])\n",
    "plt.ylabel('True Positive Rate')\n",
    "plt.xlabel('False Positive Rate')\n",
    "plt.show()"
   ]
  },
  {
   "cell_type": "markdown",
   "metadata": {},
   "source": [
    "<a name=\"naive\"></a>\n",
    "## Naive Bayes\n",
    "\n",
    "Sklearn has a few different naive bayes algorithms. Below I show the Gaussian Naive Bayes (GaussianNB). Sklearn documenation on [Gaussian naive bayes](http://scikit-learn.org/stable/modules/generated/sklearn.naive_bayes.GaussianNB.html).\n",
    "\n",
    "<a name=\"naive_fit\"></a>\n",
    "#### Fit the model"
   ]
  },
  {
   "cell_type": "code",
   "execution_count": 80,
   "metadata": {
    "collapsed": false
   },
   "outputs": [
    {
     "name": "stdout",
     "output_type": "stream",
     "text": [
      "\n",
      "80.056% training model accuracy\n"
     ]
    }
   ],
   "source": [
    "# GaussianNB implements the Gaussian Naive Bayes algorithm for classification.\n",
    "gnb = GaussianNB()\n",
    "gnb.fit(X_train, y_train)\n",
    "\n",
    "print \"\\n\" + str(format(gnb.score(X_train, y_train) * 100, '.3f')) + \"% training model accuracy\""
   ]
  },
  {
   "cell_type": "markdown",
   "metadata": {},
   "source": [
    "<a name=\"naive_eval\"></a>\n",
    "#### Model Evaluation using the Test Data"
   ]
  },
  {
   "cell_type": "code",
   "execution_count": 81,
   "metadata": {
    "collapsed": false
   },
   "outputs": [
    {
     "name": "stdout",
     "output_type": "stream",
     "text": [
      "\n",
      "Naive Bayes \n",
      "Residual Sum of Squares:  1293\n",
      "Accuracy Score:           0.801\n",
      "Error Rate:               0.199\n",
      "ROC AUC Score:            0.661\n",
      "Mean Squared Error:       0.199\n",
      "RMSE:                     0.446\n",
      "R2:                       -0.086\n",
      "\n",
      "Confusion Matrix: \n",
      "[[4608  337]\n",
      " [ 956  612]]\n",
      "(row=expected, col=predicted)\n",
      "\n",
      "Classification Report: \n",
      "             precision    recall  f1-score   support\n",
      "\n",
      "          0       0.83      0.93      0.88      4945\n",
      "          1       0.64      0.39      0.49      1568\n",
      "\n",
      "avg / total       0.78      0.80      0.78      6513\n",
      "\n"
     ]
    }
   ],
   "source": [
    "# Make Predictions\n",
    "gnb_predicted = gnb.predict(X_test)\n",
    "\n",
    "print \"\\nNaive Bayes \\nResidual Sum of Squares:  \" + \\\n",
    "    str(((gnb.predict(X_test) - y_test) ** 2).sum()) + \\\n",
    "    \"\\nAccuracy Score:           \" + \\\n",
    "    str(format(metrics.accuracy_score(y_test, gnb_predicted), '.3f')) + \\\n",
    "    \"\\nError Rate:               \" + \\\n",
    "    str(format((1 - metrics.accuracy_score(y_test, gnb_predicted)), '.3f')) + \\\n",
    "    \"\\nROC AUC Score:            \" + \\\n",
    "    str(format(metrics.roc_auc_score(y_test, gnb.predict(X_test)), '.3f')) + \\\n",
    "    \"\\nMean Squared Error:       \" + \\\n",
    "    str(format(metrics.mean_squared_error(y_test, gnb_predicted), '.3f')) + \\\n",
    "    \"\\nRMSE:                     \" + \\\n",
    "    str(format(sqrt(metrics.mean_squared_error(y_test, gnb_predicted)), '.3f')) + \\\n",
    "    \"\\nR2:                       \" + \\\n",
    "    str(format(metrics.r2_score(y_test, gnb_predicted), '.3f')) + \\\n",
    "    \"\\n\\nConfusion Matrix: \\n\" + \\\n",
    "    str(metrics.confusion_matrix(y_test, gnb_predicted)) + \\\n",
    "    \"\\n(row=expected, col=predicted)\" +     \\\n",
    "    \"\\n\\nClassification Report: \\n\" +\\\n",
    "    str(metrics.classification_report(y_test,gnb_predicted)) "
   ]
  },
  {
   "cell_type": "code",
   "execution_count": 82,
   "metadata": {
    "collapsed": false
   },
   "outputs": [
    {
     "name": "stdout",
     "output_type": "stream",
     "text": [
      "The Area Under the ROC Curve: 0.832890\n",
      "Gini: 0.666\n"
     ]
    },
    {
     "data": {
      "image/png": "[encoded data removed]",
      "text/plain": [
       "<matplotlib.figure.Figure at 0xd4aa860>"
      ]
     },
     "metadata": {},
     "output_type": "display_data"
    }
   ],
   "source": [
    "# calculate the fpr and tpr for all thresholds of the classification\n",
    "probas = gnb.predict_proba(X_test)\n",
    "gnb_preds = probas[:,1]\n",
    "gnb_fpr, gnb_tpr, gnb_threshold = metrics.roc_curve(y_test, gnb_preds)\n",
    "gnb_roc_auc = metrics.auc(gnb_fpr, gnb_tpr)\n",
    "\n",
    "print \"The Area Under the ROC Curve: %f\" % gnb_roc_auc + \\\n",
    "      \"\\nGini: \" + str(format(2*gnb_roc_auc-1, '.3f'))\n",
    "    \n",
    "# plot ROC curve\n",
    "plt.title('ROC Curve')\n",
    "plt.plot(gnb_fpr, gnb_tpr, 'b', label = 'AUC = %0.2f' % gnb_roc_auc)\n",
    "plt.legend(loc = 'lower right')\n",
    "plt.plot([0, 1], [0, 1],'r--')\n",
    "plt.xlim([0, 1])\n",
    "plt.ylim([0, 1])\n",
    "plt.ylabel('True Positive Rate')\n",
    "plt.xlabel('False Positive Rate')\n",
    "plt.show()"
   ]
  },
  {
   "cell_type": "markdown",
   "metadata": {},
   "source": [
    "<a name=\"svm\"></a>\n",
    "## Support Vector Machines\n",
    "\n",
    "As with most machine learning algorithms, tuning parameter values effectively improves model performance. So parameters available with SVM:\n",
    "\n",
    "    sklearn.svm.SVC(C=1.0, kernel='rbf', degree=3, gamma=0.0, coef0=0.0, shrinking=True, \n",
    "                    probability=False,tol=0.001, cache_size=200, class_weight=None, verbose=False, \n",
    "                    max_iter=-1, random_state=None)\n",
    "\n",
    "The most important parameters having higher impact on model performance:\n",
    "“kernel”, “gamma” and “C”.\n",
    "Example of svc\n",
    "\n",
    "    svc = SVC(kernel='linear', C=1, gamma=1)\n",
    "    \n",
    "Aside from SVC there is also linearSVC. SVC uses a one-against-one approach and linearSVC uses one-against-rest approach linearSVC is similar to SVC with parameter kernel=’linear’, but implemented in terms of liblinear rather than libsvm, so it has more flexibility in the choice of penalties and loss functions and should scale better (to large numbers of samples).\n",
    "LinearSVC tends to be faster to converge the larger the number of samples is. This is due to the fact that the linear kernel is a special case, which is optimized for in Liblinear, but not in Libsvm.\n",
    "\n",
    "Sklearn documentation on [support vector machines](http://scikit-learn.org/stable/modules/svm.html).\n",
    "\n",
    "<a name=\"svm_fit\"></a>\n",
    "#### Fit the model"
   ]
  },
  {
   "cell_type": "code",
   "execution_count": 83,
   "metadata": {
    "collapsed": false
   },
   "outputs": [
    {
     "name": "stdout",
     "output_type": "stream",
     "text": [
      "\n",
      "80.091% training model accuracy\n"
     ]
    }
   ],
   "source": [
    "svm = LinearSVC()\n",
    "svm_clf = CalibratedClassifierCV(svm) \n",
    "# fit the model\n",
    "svm_clf.fit(X_train, y_train)\n",
    "\n",
    "# check the accuracy on the training set\n",
    "print \"\\n\" + str(format(svm_clf.score(X_train, y_train) * 100, '.3f')) + \"% training model accuracy\""
   ]
  },
  {
   "cell_type": "markdown",
   "metadata": {},
   "source": [
    "<a name=\"svm_eval\"></a>\n",
    "#### Model Evaluation using the Test Data"
   ]
  },
  {
   "cell_type": "code",
   "execution_count": 84,
   "metadata": {
    "collapsed": false
   },
   "outputs": [
    {
     "name": "stdout",
     "output_type": "stream",
     "text": [
      "\n",
      "SVC \n",
      "Residual Sum of Squares:  1293\n",
      "Accuracy Score:           0.801\n",
      "Error Rate:               0.199\n",
      "ROC AUC Score:            0.624\n",
      "Mean Squared Error:       0.199\n",
      "RMSE:                     0.446\n",
      "R2:                       -0.086\n",
      "\n",
      "Confusion Matrix: \n",
      "[[4776  169]\n",
      " [1124  444]]\n",
      "(row=expected, col=predicted)\n",
      "\n",
      "Classification Report: \n",
      "             precision    recall  f1-score   support\n",
      "\n",
      "          0       0.81      0.97      0.88      4945\n",
      "          1       0.72      0.28      0.41      1568\n",
      "\n",
      "avg / total       0.79      0.80      0.77      6513\n",
      "\n"
     ]
    }
   ],
   "source": [
    "# Make Predictions\n",
    "svm_predicted = svm_clf.predict(X_test)\n",
    "\n",
    "print \"\\nSVC \\nResidual Sum of Squares:  \" + \\\n",
    "    str(((svm_clf.predict(X_test) - y_test) ** 2).sum()) + \\\n",
    "    \"\\nAccuracy Score:           \" + \\\n",
    "    str(format(metrics.accuracy_score(y_test, svm_predicted), '.3f')) + \\\n",
    "    \"\\nError Rate:               \" + \\\n",
    "    str(format((1 - metrics.accuracy_score(y_test, svm_predicted)), '.3f')) + \\\n",
    "    \"\\nROC AUC Score:            \" + \\\n",
    "    str(format(metrics.roc_auc_score(y_test, svm_clf.predict(X_test)), '.3f')) + \\\n",
    "    \"\\nMean Squared Error:       \" + \\\n",
    "    str(format(metrics.mean_squared_error(y_test, svm_predicted), '.3f')) + \\\n",
    "    \"\\nRMSE:                     \" + \\\n",
    "    str(format(sqrt(metrics.mean_squared_error(y_test, svm_predicted)), '.3f')) + \\\n",
    "    \"\\nR2:                       \" + \\\n",
    "    str(format(metrics.r2_score(y_test, svm_predicted), '.3f')) + \\\n",
    "    \"\\n\\nConfusion Matrix: \\n\" + \\\n",
    "    str(metrics.confusion_matrix(y_test, svm_predicted)) + \\\n",
    "    \"\\n(row=expected, col=predicted)\" +     \\\n",
    "    \"\\n\\nClassification Report: \\n\" +\\\n",
    "    str(metrics.classification_report(y_test,svm_predicted)) "
   ]
  },
  {
   "cell_type": "code",
   "execution_count": 85,
   "metadata": {
    "collapsed": false
   },
   "outputs": [
    {
     "name": "stdout",
     "output_type": "stream",
     "text": [
      "The Area Under the ROC Curve: 0.841240\n",
      "Gini: 0.682\n"
     ]
    },
    {
     "data": {
      "image/png": "[encoded data removed]",
      "text/plain": [
       "<matplotlib.figure.Figure at 0xd7e14e0>"
      ]
     },
     "metadata": {},
     "output_type": "display_data"
    }
   ],
   "source": [
    "# calculate the fpr and tpr for all thresholds of the classification\n",
    "probas = svm_clf.predict_proba(X_test)\n",
    "svm_preds = probas[:,1]\n",
    "svm_fpr, svm_tpr, svc_threshold = metrics.roc_curve(y_test, svm_preds)\n",
    "svm_roc_auc = metrics.auc(svm_fpr, svm_tpr)\n",
    "\n",
    "print \"The Area Under the ROC Curve: %f\" % svm_roc_auc + \\\n",
    "      \"\\nGini: \" + str(format(2*svm_roc_auc-1, '.3f'))\n",
    "    \n",
    "# plot ROC curve\n",
    "plt.title('ROC Curve')\n",
    "plt.plot(svm_fpr, svm_tpr, 'b', label = 'AUC = %0.2f' % svm_roc_auc)\n",
    "plt.legend(loc = 'lower right')\n",
    "plt.plot([0, 1], [0, 1],'r--')\n",
    "plt.xlim([0, 1])\n",
    "plt.ylim([0, 1])\n",
    "plt.ylabel('True Positive Rate')\n",
    "plt.xlabel('False Positive Rate')\n",
    "plt.show()"
   ]
  },
  {
   "cell_type": "markdown",
   "metadata": {},
   "source": [
    "<a name=\"evaluation\"></a>\n",
    "# IV. Evaluation\n",
    "\n",
    "<a name=\"performance_compare\"></a>\n",
    "### Model Performance Comparision"
   ]
  },
  {
   "cell_type": "code",
   "execution_count": 86,
   "metadata": {
    "collapsed": false
   },
   "outputs": [
    {
     "name": "stdout",
     "output_type": "stream",
     "text": [
      "Logisitic Regression: \n",
      "   Accuracy Score:  0.813\n",
      "   RMSE:            0.432\n",
      "\n",
      "Decision Tree: \n",
      "   Accuracy Score:  0.830\n",
      "   RMSE:            0.413\n",
      "\n",
      "Naive Bayes: \n",
      "   Accuracy Score:  0.801\n",
      "   RMSE:            0.446\n",
      "\n",
      "Linear SVC: \n",
      "   Accuracy Score:  0.801\n",
      "   RMSE:            0.446\n"
     ]
    },
    {
     "data": {
      "text/plain": [
       "<matplotlib.legend.Legend at 0xc4a2550>"
      ]
     },
     "execution_count": 86,
     "metadata": {},
     "output_type": "execute_result"
    },
    {
     "data": {
      "image/png": "[encoded data removed]",
      "text/plain": [
       "<matplotlib.figure.Figure at 0xd0ad9e8>"
      ]
     },
     "metadata": {},
     "output_type": "display_data"
    }
   ],
   "source": [
    "print \"Logisitic Regression: \\n   Accuracy Score:  \" + \\\n",
    "      str(format(metrics.accuracy_score(y_test, lr_predicted), '.3f')) + \\\n",
    "      \"\\n   RMSE:            \" + \\\n",
    "      str(format(sqrt(metrics.mean_squared_error(y_test, lr_predicted)), '.3f')) +\\\n",
    "      \"\\n\\nDecision Tree: \\n   Accuracy Score:  \" + \\\n",
    "      str(format(metrics.accuracy_score(y_test, dt_predicted), '.3f')) + \\\n",
    "      \"\\n   RMSE:            \" + \\\n",
    "      str(format(sqrt(metrics.mean_squared_error(y_test, dt_predicted)), '.3f')) +\\\n",
    "      \"\\n\\nNaive Bayes: \\n   Accuracy Score:  \" + \\\n",
    "      str(format(metrics.accuracy_score(y_test, gnb_predicted), '.3f')) + \\\n",
    "      \"\\n   RMSE:            \" + \\\n",
    "      str(format(sqrt(metrics.mean_squared_error(y_test, gnb_predicted)), '.3f')) +\\\n",
    "      \"\\n\\nLinear SVC: \\n   Accuracy Score:  \" + \\\n",
    "      str(format(metrics.accuracy_score(y_test, svm_predicted), '.3f')) + \\\n",
    "      \"\\n   RMSE:            \" + \\\n",
    "      str(format(sqrt(metrics.mean_squared_error(y_test, svm_predicted)), '.3f'))\n",
    "    \n",
    "plt.plot(lr_fpr, lr_tpr, label='Logistic Regression', color='blue')\n",
    "plt.plot(dt_fpr, dt_tpr, label='Decision Tree', color='green')\n",
    "plt.plot(gnb_fpr, gnb_tpr, label='Naive Bayes', color='red')\n",
    "plt.plot(svm_fpr, svm_tpr, label='Linear SVC', color='orange')\n",
    "plt.plot([0, 1], [0, 1],'r--', color='black')\n",
    "plt.xlabel('False Positive Rate')\n",
    "plt.ylabel('True Positive Rate')\n",
    "plt.title('ROC')\n",
    "plt.legend(loc=\"lower right\")"
   ]
  },
  {
   "cell_type": "markdown",
   "metadata": {},
   "source": [
    "<a name=\"conclusion\"></a>\n",
    "## Conclusion\n",
    "\n",
    "This tutorial is intended only to give you a basic introduction to using Python and Scikit-learn for data analysis and modeling. Scikit-learn offers a wide array of machine learning models and data transformation techniques, check out their website for more information and tutorials [Scikit-learn](http://scikit-learn.org/stable/index.html).\n",
    "\n",
    "If you find any mistakes or a better/more efficient way to code something in this tutorial please send me your code. This notebook will be a working progress."
   ]
  }
 ],
 "metadata": {
  "anaconda-cloud": {},
  "kernelspec": {
   "display_name": "Python [Root]",
   "language": "python",
   "name": "Python [Root]"
  },
  "language_info": {
   "codemirror_mode": {
    "name": "ipython",
    "version": 2
   },
   "file_extension": ".py",
   "mimetype": "text/x-python",
   "name": "python",
   "nbconvert_exporter": "python",
   "pygments_lexer": "ipython2",
   "version": "2.7.12"
  }
 },
 "nbformat": 4,
 "nbformat_minor": 0
}

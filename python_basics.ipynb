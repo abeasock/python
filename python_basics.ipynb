{
 "cells": [
  {
   "cell_type": "markdown",
   "metadata": {},
   "source": [
    "# Python Basics"
   ]
  },
  {
   "cell_type": "markdown",
   "metadata": {},
   "source": [
    "### Python as a calculator\n",
    "\n",
    "Python uses the standard order of operations as taught in mathematics. "
   ]
  },
  {
   "cell_type": "code",
   "execution_count": 1,
   "metadata": {
    "collapsed": false
   },
   "outputs": [
    {
     "data": {
      "text/plain": [
       "10"
      ]
     },
     "execution_count": 1,
     "metadata": {},
     "output_type": "execute_result"
    }
   ],
   "source": [
    "3*2+4"
   ]
  },
  {
   "cell_type": "code",
   "execution_count": 2,
   "metadata": {
    "collapsed": false
   },
   "outputs": [
    {
     "data": {
      "text/plain": [
       "8"
      ]
     },
     "execution_count": 2,
     "metadata": {},
     "output_type": "execute_result"
    }
   ],
   "source": [
    "# Exponents are represented by using '**' \n",
    "2**3"
   ]
  },
  {
   "cell_type": "markdown",
   "metadata": {},
   "source": [
    "### Basic Datatypes\n",
    "\n",
    "- **Integers:** 5, 21\n",
    "- **Floats:**   2.76, 10.5\n",
    "- **Strings:**  \"hello\", 'hi'"
   ]
  },
  {
   "cell_type": "markdown",
   "metadata": {},
   "source": [
    "#### Strings\n",
    "\n",
    "- can use \"\" or '' to specify a string\n",
    "             \"hello\"  'hello'   #These are the same\n",
    "     - unmatches can occur if a string contains a quote within it\n",
    "             \"Amber's\"\n",
    "     - if a string contains both a ' and \" within then use triple double quotes\n",
    "             \"\"\"\"He didn't say \"Hi\" to her\"\"\""
   ]
  },
  {
   "cell_type": "markdown",
   "metadata": {},
   "source": [
    "### Comments\n",
    "\n",
    "Add comments by starting with **#**, then the rest of the line will be ignored"
   ]
  },
  {
   "cell_type": "code",
   "execution_count": 3,
   "metadata": {
    "collapsed": false
   },
   "outputs": [
    {
     "data": {
      "text/plain": [
       "5"
      ]
     },
     "execution_count": 3,
     "metadata": {},
     "output_type": "execute_result"
    }
   ],
   "source": [
    "# An ignored comment\n",
    "42/8    # Another comment"
   ]
  },
  {
   "cell_type": "markdown",
   "metadata": {},
   "source": [
    "Multi-line comments can also be created by enclosing the comment by triple double-quotes"
   ]
  },
  {
   "cell_type": "code",
   "execution_count": 4,
   "metadata": {
    "collapsed": false
   },
   "outputs": [
    {
     "data": {
      "text/plain": [
       "'\\nThis is a block of text which will be ignored.\\nThese comments are intended as documentation for anyone reading the code\\n'"
      ]
     },
     "execution_count": 4,
     "metadata": {},
     "output_type": "execute_result"
    }
   ],
   "source": [
    "\"\"\"\n",
    "This is a block of text which will be ignored.\n",
    "These comments are intended as documentation for anyone reading the code\n",
    "\"\"\""
   ]
  },
  {
   "cell_type": "markdown",
   "metadata": {},
   "source": [
    "### Indexing\n",
    "Strings can be indexed to obtain individual characters. The first character having an index 0"
   ]
  },
  {
   "cell_type": "code",
   "execution_count": 5,
   "metadata": {
    "collapsed": false
   },
   "outputs": [
    {
     "data": {
      "text/plain": [
       "'h'"
      ]
     },
     "execution_count": 5,
     "metadata": {},
     "output_type": "execute_result"
    }
   ],
   "source": [
    "word = 'hello'\n",
    "word[0] # character in position 0"
   ]
  },
  {
   "cell_type": "code",
   "execution_count": 6,
   "metadata": {
    "collapsed": false
   },
   "outputs": [
    {
     "data": {
      "text/plain": [
       "'l'"
      ]
     },
     "execution_count": 6,
     "metadata": {},
     "output_type": "execute_result"
    }
   ],
   "source": [
    "word[3]"
   ]
  },
  {
   "cell_type": "markdown",
   "metadata": {},
   "source": [
    "Negative numbers can be used to start counting from the right. These start from -1. -0 is the same as 0."
   ]
  },
  {
   "cell_type": "code",
   "execution_count": 7,
   "metadata": {
    "collapsed": false
   },
   "outputs": [
    {
     "data": {
      "text/plain": [
       "'o'"
      ]
     },
     "execution_count": 7,
     "metadata": {},
     "output_type": "execute_result"
    }
   ],
   "source": [
    "word[-1]"
   ]
  },
  {
   "cell_type": "markdown",
   "metadata": {},
   "source": [
    "### Slicing\n",
    "Strings can be sliced to obtain a substring."
   ]
  },
  {
   "cell_type": "code",
   "execution_count": 8,
   "metadata": {
    "collapsed": false
   },
   "outputs": [
    {
     "data": {
      "text/plain": [
       "'he'"
      ]
     },
     "execution_count": 8,
     "metadata": {},
     "output_type": "execute_result"
    }
   ],
   "source": [
    "word[0:2]    # 2 is excluded"
   ]
  },
  {
   "cell_type": "markdown",
   "metadata": {},
   "source": [
    "An omitted first index defaults to 0 and an omitted second index defaults to the the length of the string being sliced."
   ]
  },
  {
   "cell_type": "code",
   "execution_count": 9,
   "metadata": {
    "collapsed": false
   },
   "outputs": [
    {
     "data": {
      "text/plain": [
       "'hel'"
      ]
     },
     "execution_count": 9,
     "metadata": {},
     "output_type": "execute_result"
    }
   ],
   "source": [
    "word[:3] # characters from the beginning to the position 3 (excluded)"
   ]
  },
  {
   "cell_type": "code",
   "execution_count": 10,
   "metadata": {
    "collapsed": false
   },
   "outputs": [
    {
     "data": {
      "text/plain": [
       "'lo'"
      ]
     },
     "execution_count": 10,
     "metadata": {},
     "output_type": "execute_result"
    }
   ],
   "source": [
    "word[3:] # characters from position 3 (included) to the end"
   ]
  },
  {
   "cell_type": "code",
   "execution_count": 11,
   "metadata": {
    "collapsed": false
   },
   "outputs": [
    {
     "data": {
      "text/plain": [
       "'ello'"
      ]
     },
     "execution_count": 11,
     "metadata": {},
     "output_type": "execute_result"
    }
   ],
   "source": [
    "word[-4:] # characters from the 4th to last (included) to the end"
   ]
  },
  {
   "cell_type": "markdown",
   "metadata": {},
   "source": [
    "Think of indices as pointing between the characters of a string with the left (first character) numbered 0. The right edge (last character) has an index n of a string of n characters.\n",
    " \n",
    "     +---+---+---+---+---+\n",
    "     | h | e | l | l | o |\n",
    "     +---+---+---+---+---+\n",
    "     0   1   2   3   4   5\n",
    "    -5  -4  -3  -2  -1"
   ]
  },
  {
   "cell_type": "markdown",
   "metadata": {},
   "source": [
    "Using an index that is out of range will result in an error"
   ]
  },
  {
   "cell_type": "code",
   "execution_count": 12,
   "metadata": {
    "collapsed": false
   },
   "outputs": [
    {
     "ename": "IndexError",
     "evalue": "string index out of range",
     "output_type": "error",
     "traceback": [
      "\u001b[1;31m---------------------------------------------------------------------------\u001b[0m",
      "\u001b[1;31mIndexError\u001b[0m                                Traceback (most recent call last)",
      "\u001b[1;32m<ipython-input-12-62a77ee4b6ef>\u001b[0m in \u001b[0;36m<module>\u001b[1;34m()\u001b[0m\n\u001b[1;32m----> 1\u001b[1;33m \u001b[0mword\u001b[0m\u001b[1;33m[\u001b[0m\u001b[1;36m20\u001b[0m\u001b[1;33m]\u001b[0m\u001b[1;33m\u001b[0m\u001b[0m\n\u001b[0m",
      "\u001b[1;31mIndexError\u001b[0m: string index out of range"
     ]
    }
   ],
   "source": [
    "word[20]"
   ]
  },
  {
   "cell_type": "markdown",
   "metadata": {},
   "source": [
    "However, out of range slice indexes are handled more elegantly"
   ]
  },
  {
   "cell_type": "code",
   "execution_count": 13,
   "metadata": {
    "collapsed": false
   },
   "outputs": [
    {
     "data": {
      "text/plain": [
       "'llo'"
      ]
     },
     "execution_count": 13,
     "metadata": {},
     "output_type": "execute_result"
    }
   ],
   "source": [
    "word[2:20]"
   ]
  },
  {
   "cell_type": "code",
   "execution_count": 14,
   "metadata": {
    "collapsed": false
   },
   "outputs": [
    {
     "data": {
      "text/plain": [
       "''"
      ]
     },
     "execution_count": 14,
     "metadata": {},
     "output_type": "execute_result"
    }
   ],
   "source": [
    "word[5:]"
   ]
  },
  {
   "cell_type": "markdown",
   "metadata": {},
   "source": [
    "The function `len()` returns the length of a string"
   ]
  },
  {
   "cell_type": "code",
   "execution_count": 15,
   "metadata": {
    "collapsed": false
   },
   "outputs": [
    {
     "data": {
      "text/plain": [
       "5"
      ]
     },
     "execution_count": 15,
     "metadata": {},
     "output_type": "execute_result"
    }
   ],
   "source": [
    "len(word)"
   ]
  },
  {
   "cell_type": "markdown",
   "metadata": {},
   "source": [
    "### Print Command\n",
    "\n",
    "The print command is simply `print`"
   ]
  },
  {
   "cell_type": "code",
   "execution_count": 16,
   "metadata": {
    "collapsed": false
   },
   "outputs": [
    {
     "name": "stdout",
     "output_type": "stream",
     "text": [
      "Hello, World!\n"
     ]
    }
   ],
   "source": [
    "print \"Hello, World!\""
   ]
  },
  {
   "cell_type": "markdown",
   "metadata": {},
   "source": [
    "### Identifiers\n",
    "A Python identifer is a name used to identify a variable, function, class, module, or other object. An identifer can start with a letter or an an underscore, but not a number, followed by zero or more letters, underscores, and/or numbers. \n",
    "\n",
    "    tom  Tom   _tom   _tom_2   tom_2   ToM\n",
    "    \n",
    "Python is a case sensitive language so `tom` and `Tom` would be different identifiers.\n",
    "\n",
    "There are some reserved words in Python that cannot be used as a name:\n",
    "\n",
    "    and, assert, break, class, continue, def, del, elif, else, \n",
    "    except, exec, finally, for, from, global, if, import, in, \n",
    "    is, lambda, not, or, pass, print, raise, return, try, while\n",
    "\n",
    "Binding a variable in Python means setting a name to hold a reference to some object. A variable is created when it receives it's first assignment. Python is automically able to figure out the variable type so it does not need to be declared."
   ]
  },
  {
   "cell_type": "code",
   "execution_count": 17,
   "metadata": {
    "collapsed": false
   },
   "outputs": [],
   "source": [
    "# Set a variable\n",
    "x = 6"
   ]
  },
  {
   "cell_type": "code",
   "execution_count": 18,
   "metadata": {
    "collapsed": false
   },
   "outputs": [
    {
     "data": {
      "text/plain": [
       "6"
      ]
     },
     "execution_count": 18,
     "metadata": {},
     "output_type": "execute_result"
    }
   ],
   "source": [
    "x "
   ]
  },
  {
   "cell_type": "code",
   "execution_count": 19,
   "metadata": {
    "collapsed": false
   },
   "outputs": [
    {
     "data": {
      "text/plain": [
       "int"
      ]
     },
     "execution_count": 19,
     "metadata": {},
     "output_type": "execute_result"
    }
   ],
   "source": [
    "type(x) # variable type"
   ]
  },
  {
   "cell_type": "code",
   "execution_count": 20,
   "metadata": {
    "collapsed": false
   },
   "outputs": [
    {
     "data": {
      "text/plain": [
       "8"
      ]
     },
     "execution_count": 20,
     "metadata": {},
     "output_type": "execute_result"
    }
   ],
   "source": [
    "x + 2"
   ]
  },
  {
   "cell_type": "code",
   "execution_count": 21,
   "metadata": {
    "collapsed": false
   },
   "outputs": [],
   "source": [
    "y = 'hello'"
   ]
  },
  {
   "cell_type": "code",
   "execution_count": 22,
   "metadata": {
    "collapsed": false
   },
   "outputs": [
    {
     "data": {
      "text/plain": [
       "'hello'"
      ]
     },
     "execution_count": 22,
     "metadata": {},
     "output_type": "execute_result"
    }
   ],
   "source": [
    "y"
   ]
  },
  {
   "cell_type": "markdown",
   "metadata": {},
   "source": [
    "Multiple variables can be created at the same time"
   ]
  },
  {
   "cell_type": "code",
   "execution_count": 23,
   "metadata": {
    "collapsed": false
   },
   "outputs": [
    {
     "name": "stdout",
     "output_type": "stream",
     "text": [
      "1\n",
      "2\n"
     ]
    }
   ],
   "source": [
    "s, t = 1, 2\n",
    "\n",
    "print s\n",
    "print t"
   ]
  },
  {
   "cell_type": "markdown",
   "metadata": {},
   "source": [
    "### = vs ==\n",
    "Assignment uses **=** and comparision uses **==**"
   ]
  },
  {
   "cell_type": "code",
   "execution_count": 24,
   "metadata": {
    "collapsed": false
   },
   "outputs": [
    {
     "name": "stdout",
     "output_type": "stream",
     "text": [
      "hello world\n"
     ]
    }
   ],
   "source": [
    "if y == 'hello':\n",
    "    y = y + ' world'\n",
    "    \n",
    "print y"
   ]
  },
  {
   "cell_type": "markdown",
   "metadata": {},
   "source": [
    "### Whitespace & Indentation"
   ]
  },
  {
   "cell_type": "markdown",
   "metadata": {},
   "source": [
    "Python does not use curly braces or explicit keywords like `begin` or `end` to mark where the code starts and stops.\n",
    "Rather, the only delimiter is a colon (:) and line indentation of the code.\n",
    "\n",
    "Code blocks are denoted by line indentation, which is strictly enforced in Python. A \"code block\" is a function: `if` statements, `for` loops, `while` loops, etc.\n",
    "\n",
    "The amount of spacing is not relevant, it just needs to be consistent. Indenting a line starts a block and unindenting ends it. So the first line with *less* indentation is outside the code block and the first line with *more* indentation starts a nested code block.\n",
    "\n",
    "A colon often appears at the start of a new block (ex. for function and class definitions).\n",
    "\n",
    "Here's an example of an `if` statement with proper code indentation (Note: Functions will be explained later):"
   ]
  },
  {
   "cell_type": "code",
   "execution_count": 25,
   "metadata": {
    "collapsed": false
   },
   "outputs": [
    {
     "name": "stdout",
     "output_type": "stream",
     "text": [
      "greater than\n"
     ]
    },
    {
     "data": {
      "text/plain": [
       "11"
      ]
     },
     "execution_count": 25,
     "metadata": {},
     "output_type": "execute_result"
    }
   ],
   "source": [
    "a = 4\n",
    "b = 7\n",
    "\n",
    "def sumExample(a, b):   # This is a function named sumExample that takes two arguments, a and b. All code within a function is indented\n",
    "  if a + b < 10:        # if statements are a type of code block. \n",
    "    print'less than'    # if the if statement is true then this code block is executed, otherwise it moves to the else block\n",
    "  else: \n",
    "    print 'greater than' # if and else blocks can contain multiple lines as long as the indentation is consistent.\n",
    "    return a + b\n",
    "\n",
    "sumExample(a, b)"
   ]
  },
  {
   "cell_type": "markdown",
   "metadata": {},
   "source": [
    "Indentation is ignored when using implicit and explicit continuation lines. \n",
    "\n",
    "Line continuation can be done in two ways: \n",
    "- wrapping expressions in parentheses\n",
    "- backslash to break the line prematurely"
   ]
  },
  {
   "cell_type": "code",
   "execution_count": 26,
   "metadata": {
    "collapsed": false
   },
   "outputs": [
    {
     "name": "stdout",
     "output_type": "stream",
     "text": [
      "('dog', 'cat', 'horse')\n"
     ]
    }
   ],
   "source": [
    "animals = (\n",
    "     'dog',\n",
    "       'cat',\n",
    "    'horse'\n",
    ")\n",
    "\n",
    "print animals"
   ]
  },
  {
   "cell_type": "code",
   "execution_count": 27,
   "metadata": {
    "collapsed": false
   },
   "outputs": [
    {
     "name": "stdout",
     "output_type": "stream",
     "text": [
      "Today I went to the store to buy groceries\n"
     ]
    }
   ],
   "source": [
    "sentence = 'Today I went ' \\\n",
    "             'to the store ' \\\n",
    "           'to buy groceries'\n",
    "\n",
    "print sentence"
   ]
  },
  {
   "cell_type": "markdown",
   "metadata": {},
   "source": [
    "** Best Practices **\n",
    "\n",
    "These suggestions below were taken from PEP 8, which is a style guide for Python code that I highly recommend anyone learning the language to read [[link](https://www.python.org/dev/peps/pep-0008/)]. This is part of the Python Enhancement, Proposals (PEPs) which describe changes to Python or the standards around the language. Other notable ones to consider reading are [PEP 20](https://www.python.org/dev/peps/pep-0020/) (The Zen of Python) and [PEP 257](https://www.python.org/dev/peps/pep-0257/) (Docstring Conventions). \n",
    "\n",
    "Even though line indentation is not required to be consistent, it's best practice to keep it consistent.\n",
    "\n",
    "Use parentheses over backslashes when possible, according to PEP 8, \"The preferred way of wrapping long lines is by using Python's implied line continuation inside parentheses, brackets, and braces. Long lines can be broken over multiple lines by wrapping expression in parenthese. These should be used in preference to using a backslash for line continuation.\"\n",
    "\n",
    "Recommended style is to break lines before binary operators, although it is permissible to break before or after a binary operator as long as the convention stays consistent throughout your code.\n",
    "\n",
    "Example:\n",
    "\n",
    "    net_pay = (gross_pay\n",
    "               + bonus\n",
    "               - taxes\n",
    "               - ira_deduction\n",
    "               - insurance)"
   ]
  },
  {
   "cell_type": "markdown",
   "metadata": {},
   "source": [
    "### Logical Operators\n",
    "\n",
    "There are three logical operators: **and**, **or**, **not**"
   ]
  },
  {
   "cell_type": "code",
   "execution_count": 28,
   "metadata": {
    "collapsed": false
   },
   "outputs": [
    {
     "name": "stdout",
     "output_type": "stream",
     "text": [
      "6\n"
     ]
    }
   ],
   "source": [
    "if x == 4 or y == 'hi':\n",
    "    x = x/2\n",
    "print x"
   ]
  },
  {
   "cell_type": "markdown",
   "metadata": {},
   "source": [
    "### Copy Operations\n",
    "\n",
    "Assignment statements in Python do **not** copy objects, rather they create a binding that references the object"
   ]
  },
  {
   "cell_type": "code",
   "execution_count": 29,
   "metadata": {
    "collapsed": false
   },
   "outputs": [
    {
     "name": "stdout",
     "output_type": "stream",
     "text": [
      "['apple', 'orange', 'banana']\n"
     ]
    }
   ],
   "source": [
    "x = ['apple', 'orange', 'banana']\n",
    "\n",
    "y = x  # this does not make a copy of the object x references, but rather y references the object x references\n",
    "\n",
    "print y  # y now references the list ['apple', 'orange', 'banana']"
   ]
  },
  {
   "cell_type": "code",
   "execution_count": 30,
   "metadata": {
    "collapsed": false
   },
   "outputs": [
    {
     "name": "stdout",
     "output_type": "stream",
     "text": [
      "['apple', 'orange', 'banana', 'grapes']\n"
     ]
    }
   ],
   "source": [
    "x.append('grapes') # this changes the list x references\n",
    "\n",
    "print y #  y has also now changed"
   ]
  },
  {
   "cell_type": "markdown",
   "metadata": {},
   "source": [
    "A copy is sometimes needed so one can change one copy without chaning the other. There is shallow and deep copying, but I will only show a shallow copy example. You can learn more about the difference between them [here](https://docs.python.org/2/library/copy.html)."
   ]
  },
  {
   "cell_type": "code",
   "execution_count": 31,
   "metadata": {
    "collapsed": false
   },
   "outputs": [
    {
     "name": "stdout",
     "output_type": "stream",
     "text": [
      "[1, 2, 3]\n"
     ]
    }
   ],
   "source": [
    "from copy import copy\n",
    "\n",
    "a = [1, 2, 3]\n",
    "\n",
    "b = copy(a)\n",
    "\n",
    "print b"
   ]
  },
  {
   "cell_type": "code",
   "execution_count": 32,
   "metadata": {
    "collapsed": false
   },
   "outputs": [
    {
     "name": "stdout",
     "output_type": "stream",
     "text": [
      "[1, 2, 3]\n"
     ]
    }
   ],
   "source": [
    "a.append(4)\n",
    "\n",
    "print b"
   ]
  },
  {
   "cell_type": "markdown",
   "metadata": {},
   "source": [
    "### Data Structures\n",
    "\n",
    "#### Sequence Types\n",
    "Sequence Types include tuples, strings, and lists are ordered sequences of objects.\n",
    "\n",
    "- Tuple: an immutable (cannot be changed) ordered sequence of items that can be of mixed types. Usually enclosed in parentheses.\n",
    "- Lists: a mutable (can be changed) ordered sequence of items that can be of mixed types. Enclosed by brackets []\n",
    "- Strings: immutable, can contain only characters. Defined using only quotes."
   ]
  },
  {
   "cell_type": "code",
   "execution_count": 33,
   "metadata": {
    "collapsed": true
   },
   "outputs": [],
   "source": [
    "# Tuple Example\n",
    "tu = ('bob', 29, 'pam', 2.63, 65)\n",
    "\n",
    "# List Example\n",
    "li = ['pam', 34, 5.4, 'bob']\n",
    "\n",
    "# String Example\n",
    "st = \"Hello World\""
   ]
  },
  {
   "cell_type": "markdown",
   "metadata": {},
   "source": [
    "We've already seen how you can index strings to get individual characters. We can also access individual members of a tuple or list using square bracket \"array\" notation. \n",
    "\n",
    "Reminder: all are 0 based in Python"
   ]
  },
  {
   "cell_type": "code",
   "execution_count": 34,
   "metadata": {
    "collapsed": false
   },
   "outputs": [
    {
     "data": {
      "text/plain": [
       "'bob'"
      ]
     },
     "execution_count": 34,
     "metadata": {},
     "output_type": "execute_result"
    }
   ],
   "source": [
    "tu[0] # First item in the tuple."
   ]
  },
  {
   "cell_type": "code",
   "execution_count": 35,
   "metadata": {
    "collapsed": false
   },
   "outputs": [
    {
     "data": {
      "text/plain": [
       "5.4"
      ]
     },
     "execution_count": 35,
     "metadata": {},
     "output_type": "execute_result"
    }
   ],
   "source": [
    "li[2] # Third item in the list."
   ]
  },
  {
   "cell_type": "code",
   "execution_count": 36,
   "metadata": {
    "collapsed": false
   },
   "outputs": [
    {
     "data": {
      "text/plain": [
       "'e'"
      ]
     },
     "execution_count": 36,
     "metadata": {},
     "output_type": "execute_result"
    }
   ],
   "source": [
    "st[1] # Second character in the string."
   ]
  },
  {
   "cell_type": "markdown",
   "metadata": {},
   "source": [
    "Like we learning in the indexing of strings, negative lookup can also be used in tuples and lists to count from the right. Remember starting with -1."
   ]
  },
  {
   "cell_type": "code",
   "execution_count": 37,
   "metadata": {
    "collapsed": false
   },
   "outputs": [
    {
     "data": {
      "text/plain": [
       "65"
      ]
     },
     "execution_count": 37,
     "metadata": {},
     "output_type": "execute_result"
    }
   ],
   "source": [
    "tu[-1] # Last item in the tuple"
   ]
  },
  {
   "cell_type": "markdown",
   "metadata": {},
   "source": [
    "#### The + Operator\n",
    "\n",
    "The + operator creates a new tuple, list, or string by concatenation"
   ]
  },
  {
   "cell_type": "code",
   "execution_count": 38,
   "metadata": {
    "collapsed": false
   },
   "outputs": [
    {
     "data": {
      "text/plain": [
       "(1, 2, 3, 4, 5)"
      ]
     },
     "execution_count": 38,
     "metadata": {},
     "output_type": "execute_result"
    }
   ],
   "source": [
    "(1, 2, 3) + (4, 5)"
   ]
  },
  {
   "cell_type": "code",
   "execution_count": 39,
   "metadata": {
    "collapsed": false
   },
   "outputs": [
    {
     "data": {
      "text/plain": [
       "['bob', 2, 34, 6.2, 'pam']"
      ]
     },
     "execution_count": 39,
     "metadata": {},
     "output_type": "execute_result"
    }
   ],
   "source": [
    "['bob', 2, 34] + [6.2, 'pam']"
   ]
  },
  {
   "cell_type": "code",
   "execution_count": 40,
   "metadata": {
    "collapsed": false
   },
   "outputs": [
    {
     "data": {
      "text/plain": [
       "'Hi there'"
      ]
     },
     "execution_count": 40,
     "metadata": {},
     "output_type": "execute_result"
    }
   ],
   "source": [
    "\"Hi\" + \" there\""
   ]
  },
  {
   "cell_type": "markdown",
   "metadata": {},
   "source": [
    "#### The * Operator\n",
    "\n",
    "The * operator creates a new tuple, list, or string that repeats the original content"
   ]
  },
  {
   "cell_type": "code",
   "execution_count": 41,
   "metadata": {
    "collapsed": false
   },
   "outputs": [
    {
     "data": {
      "text/plain": [
       "[1, 2, 3, 1, 2, 3]"
      ]
     },
     "execution_count": 41,
     "metadata": {},
     "output_type": "execute_result"
    }
   ],
   "source": [
    "[1, 2, 3] * 2"
   ]
  },
  {
   "cell_type": "code",
   "execution_count": 42,
   "metadata": {
    "collapsed": false
   },
   "outputs": [
    {
     "data": {
      "text/plain": [
       "'HaHaHa'"
      ]
     },
     "execution_count": 42,
     "metadata": {},
     "output_type": "execute_result"
    }
   ],
   "source": [
    "'Ha' * 3"
   ]
  },
  {
   "cell_type": "markdown",
   "metadata": {},
   "source": [
    "#### The 'in' operator\n",
    "\n",
    "For lists and tuples, the `in` operator boolean tests if a value is inside. For strings, tests for substrings."
   ]
  },
  {
   "cell_type": "code",
   "execution_count": 43,
   "metadata": {
    "collapsed": false
   },
   "outputs": [
    {
     "data": {
      "text/plain": [
       "True"
      ]
     },
     "execution_count": 43,
     "metadata": {},
     "output_type": "execute_result"
    }
   ],
   "source": [
    "li = [1, 2, 3]\n",
    "\n",
    "2 in li"
   ]
  },
  {
   "cell_type": "code",
   "execution_count": 44,
   "metadata": {
    "collapsed": false
   },
   "outputs": [
    {
     "data": {
      "text/plain": [
       "False"
      ]
     },
     "execution_count": 44,
     "metadata": {},
     "output_type": "execute_result"
    }
   ],
   "source": [
    "st = 'hello'\n",
    "\n",
    "'i' in st"
   ]
  },
  {
   "cell_type": "markdown",
   "metadata": {},
   "source": [
    "#### Immutable vs Mutable"
   ]
  },
  {
   "cell_type": "markdown",
   "metadata": {},
   "source": [
    "Tuples are immutable meaning it cannot be changed. However, this does make tuples faster than lists. Attempting to change a tuple will result in the error below."
   ]
  },
  {
   "cell_type": "code",
   "execution_count": 45,
   "metadata": {
    "collapsed": false
   },
   "outputs": [
    {
     "ename": "TypeError",
     "evalue": "'tuple' object does not support item assignment",
     "output_type": "error",
     "traceback": [
      "\u001b[1;31m---------------------------------------------------------------------------\u001b[0m",
      "\u001b[1;31mTypeError\u001b[0m                                 Traceback (most recent call last)",
      "\u001b[1;32m<ipython-input-45-b0e86d7c6af5>\u001b[0m in \u001b[0;36m<module>\u001b[1;34m()\u001b[0m\n\u001b[0;32m      1\u001b[0m \u001b[0mtu\u001b[0m \u001b[1;33m=\u001b[0m \u001b[1;33m(\u001b[0m\u001b[1;34m'apples'\u001b[0m\u001b[1;33m,\u001b[0m \u001b[1;34m'oranges'\u001b[0m\u001b[1;33m,\u001b[0m \u001b[1;34m'bananas'\u001b[0m\u001b[1;33m)\u001b[0m \u001b[1;31m# Create a tuple\u001b[0m\u001b[1;33m\u001b[0m\u001b[0m\n\u001b[0;32m      2\u001b[0m \u001b[1;33m\u001b[0m\u001b[0m\n\u001b[1;32m----> 3\u001b[1;33m \u001b[0mtu\u001b[0m\u001b[1;33m[\u001b[0m\u001b[1;36m1\u001b[0m\u001b[1;33m]\u001b[0m \u001b[1;33m=\u001b[0m \u001b[1;34m'grapes'\u001b[0m \u001b[1;31m# Change the second element in the tuple\u001b[0m\u001b[1;33m\u001b[0m\u001b[0m\n\u001b[0m",
      "\u001b[1;31mTypeError\u001b[0m: 'tuple' object does not support item assignment"
     ]
    }
   ],
   "source": [
    "tu = ('apples', 'oranges', 'bananas') # Create a tuple\n",
    "\n",
    "tu[1] = 'grapes' # Change the second element in the tuple"
   ]
  },
  {
   "cell_type": "markdown",
   "metadata": {},
   "source": [
    "Lists are mutable meaning changes can occur in place. "
   ]
  },
  {
   "cell_type": "code",
   "execution_count": 46,
   "metadata": {
    "collapsed": false
   },
   "outputs": [
    {
     "data": {
      "text/plain": [
       "['apples', 'grapes', 'bananas', 'kiwis']"
      ]
     },
     "execution_count": 46,
     "metadata": {},
     "output_type": "execute_result"
    }
   ],
   "source": [
    "li = ['apples', 'oranges', 'bananas', 'kiwis'] # Create a list\n",
    "\n",
    "li[1] = 'grapes'  # Change the second element in the list\n",
    "\n",
    "li"
   ]
  },
  {
   "cell_type": "code",
   "execution_count": 47,
   "metadata": {
    "collapsed": false
   },
   "outputs": [
    {
     "data": {
      "text/plain": [
       "['apples', 'grapes', 'bananas', 'kiwis', 'apples']"
      ]
     },
     "execution_count": 47,
     "metadata": {},
     "output_type": "execute_result"
    }
   ],
   "source": [
    "# Add to a list\n",
    "li.append('apples')\n",
    "\n",
    "li"
   ]
  },
  {
   "cell_type": "code",
   "execution_count": 48,
   "metadata": {
    "collapsed": false
   },
   "outputs": [
    {
     "data": {
      "text/plain": [
       "2"
      ]
     },
     "execution_count": 48,
     "metadata": {},
     "output_type": "execute_result"
    }
   ],
   "source": [
    "# number of occurrences\n",
    "li.count('apples')"
   ]
  },
  {
   "cell_type": "code",
   "execution_count": 49,
   "metadata": {
    "collapsed": false
   },
   "outputs": [
    {
     "data": {
      "text/plain": [
       "['apples', 'grapes', 'kiwis', 'apples']"
      ]
     },
     "execution_count": 49,
     "metadata": {},
     "output_type": "execute_result"
    }
   ],
   "source": [
    "# Remove from list\n",
    "li.remove('bananas')\n",
    "li"
   ]
  },
  {
   "cell_type": "code",
   "execution_count": 50,
   "metadata": {
    "collapsed": false
   },
   "outputs": [
    {
     "data": {
      "text/plain": [
       "['apples', 'kiwis', 'grapes', 'apples']"
      ]
     },
     "execution_count": 50,
     "metadata": {},
     "output_type": "execute_result"
    }
   ],
   "source": [
    "# Reverse the list\n",
    "li.reverse()\n",
    "\n",
    "li"
   ]
  },
  {
   "cell_type": "code",
   "execution_count": 51,
   "metadata": {
    "collapsed": false
   },
   "outputs": [
    {
     "data": {
      "text/plain": [
       "['apples', 'apples', 'grapes', 'kiwis']"
      ]
     },
     "execution_count": 51,
     "metadata": {},
     "output_type": "execute_result"
    }
   ],
   "source": [
    "# Sort the list\n",
    "li.sort()\n",
    "\n",
    "li"
   ]
  },
  {
   "cell_type": "markdown",
   "metadata": {},
   "source": [
    "Convert between tuples and lists using the `list()` and `tuple()` functions\n",
    "\n",
    "    li = list(tu)\n",
    "    tu = tuple(li)"
   ]
  },
  {
   "cell_type": "markdown",
   "metadata": {},
   "source": [
    "#### Dictionaries\n",
    "\n",
    "A dictionary is a data structure that stores a mapping between a set of keys and a set of values. You cannot have duplicate keys in a dictionary. There's no concept of order among elements."
   ]
  },
  {
   "cell_type": "code",
   "execution_count": 52,
   "metadata": {
    "collapsed": false
   },
   "outputs": [
    {
     "name": "stdout",
     "output_type": "stream",
     "text": [
      "['pswd', 'user']\n",
      "['abc123', 'admin']\n",
      "[('pswd', 'abc123'), ('user', 'admin')]\n"
     ]
    }
   ],
   "source": [
    "d = {'user':'admin', 'pswd':'abc123'}\n",
    "\n",
    "print d.keys() # print the list of keys\n",
    "print d.values() # print the list of values\n",
    "print d.items() # print a list of item tuples"
   ]
  },
  {
   "cell_type": "code",
   "execution_count": 53,
   "metadata": {
    "collapsed": false
   },
   "outputs": [
    {
     "data": {
      "text/plain": [
       "'admin'"
      ]
     },
     "execution_count": 53,
     "metadata": {},
     "output_type": "execute_result"
    }
   ],
   "source": [
    "d['user'] # Lookup a value based on a key"
   ]
  },
  {
   "cell_type": "code",
   "execution_count": 54,
   "metadata": {
    "collapsed": false
   },
   "outputs": [
    {
     "data": {
      "text/plain": [
       "{'id': 3534, 'pswd': 'abc123', 'user': 'admin'}"
      ]
     },
     "execution_count": 54,
     "metadata": {},
     "output_type": "execute_result"
    }
   ],
   "source": [
    "d['id'] = 3534 # Add to a dictionary\n",
    "d"
   ]
  },
  {
   "cell_type": "code",
   "execution_count": 55,
   "metadata": {
    "collapsed": false
   },
   "outputs": [
    {
     "data": {
      "text/plain": [
       "{'id': 3534, 'user': 'admin'}"
      ]
     },
     "execution_count": 55,
     "metadata": {},
     "output_type": "execute_result"
    }
   ],
   "source": [
    "del d[\"pswd\"] # Delete from a dictionary\n",
    "d"
   ]
  },
  {
   "cell_type": "markdown",
   "metadata": {},
   "source": [
    "### Functions\n",
    "\n",
    "#### User Defined Functions\n",
    "A function is a block of code that performs a specific task that can be reused. \n",
    "\n",
    "Functions began with the keyword `def` followed by the function name and parentheses (). If using any input parameters or arguments, these should be placed within the parentheses. These need to be in the same order that they will used in the function. Each code block within a function begans with a colon (:) and is indented. The statement return exits the function and optionally returns an expression to the caller. A docstring is an optional statement that can be added as a first statement to provide a comment explaining the function or any other note.\n",
    "\n",
    "Basic syntax:\n",
    "\n",
    "    def function_name(parameters):\n",
    "        \"function docstring\"\n",
    "        function\n",
    "        return [expression]"
   ]
  },
  {
   "cell_type": "code",
   "execution_count": 56,
   "metadata": {
    "collapsed": false
   },
   "outputs": [
    {
     "data": {
      "text/plain": [
       "5"
      ]
     },
     "execution_count": 56,
     "metadata": {},
     "output_type": "execute_result"
    }
   ],
   "source": [
    "def sum(x,y):\n",
    "    \"This function sums x & y\"\n",
    "    z = x + y\n",
    "    return z\n",
    "\n",
    "sum(2, 3)"
   ]
  },
  {
   "cell_type": "code",
   "execution_count": 57,
   "metadata": {
    "collapsed": false
   },
   "outputs": [
    {
     "name": "stdout",
     "output_type": "stream",
     "text": [
      "Name:  Tom\n",
      "Occupation:  Doctor\n"
     ]
    }
   ],
   "source": [
    "def user_info(name, occupation):\n",
    "    \"This prints info passed into this function\"\n",
    "    print \"Name: \", name\n",
    "    print \"Occupation: \", occupation\n",
    "    return\n",
    "\n",
    "user_info(name=\"Tom\", occupation=\"Doctor\")"
   ]
  },
  {
   "cell_type": "markdown",
   "metadata": {},
   "source": [
    "#### Anonymous Funtions (aka Lambda Functions)\n",
    "\n",
    "Anonymous functions do not have a name and are restricted to a single expression. These are created with the `lambda` keyword. \n",
    "\n",
    "These are often used in conjunction with functional concepts like `filter()`, `map()`, `reduce()`."
   ]
  },
  {
   "cell_type": "code",
   "execution_count": 58,
   "metadata": {
    "collapsed": false
   },
   "outputs": [
    {
     "name": "stdout",
     "output_type": "stream",
     "text": [
      "6\n"
     ]
    }
   ],
   "source": [
    "y = lambda x: x*2\n",
    "\n",
    "print y(3)"
   ]
  },
  {
   "cell_type": "markdown",
   "metadata": {},
   "source": [
    "The `x` is a parameter that is passed into the lambda function. This is always followed by a colon (:). Then the code to the right of the colon is the expression that is executed when the lambda function is called. In the above example the lambda function is assigned to the y variable. The number 3 is passed to the lambda function and returns 6 as the result. Y in this case is not a name for the function, but rather only a variable to which the lambda function was assigned."
   ]
  },
  {
   "cell_type": "code",
   "execution_count": 59,
   "metadata": {
    "collapsed": false
   },
   "outputs": [
    {
     "name": "stdout",
     "output_type": "stream",
     "text": [
      "[74, 52, 12, 37]\n"
     ]
    }
   ],
   "source": [
    "kph = [120, 85, 20, 60]\n",
    "\n",
    "mph = map(lambda a: int(a * 0.621371192), kph)\n",
    "\n",
    "print mph"
   ]
  },
  {
   "cell_type": "markdown",
   "metadata": {},
   "source": [
    "The `map()` function can be used to apply the lambda function to each element in a list. In the above example, a list called \"km\" is created with a list of speed values in Kilometers per hour. A new list \"mph\" is created that contains the computed conversion of KPH to MPH, calculation is wrapped in `int` to get whole numbers."
   ]
  },
  {
   "cell_type": "code",
   "execution_count": 60,
   "metadata": {
    "collapsed": false
   },
   "outputs": [
    {
     "name": "stdout",
     "output_type": "stream",
     "text": [
      "[56, 65]\n"
     ]
    }
   ],
   "source": [
    "age = [34, 56, 12, 65]\n",
    "\n",
    "age_ge_50 = filter(lambda a: a >= 50, age)\n",
    "\n",
    "print age_ge_50"
   ]
  },
  {
   "cell_type": "markdown",
   "metadata": {},
   "source": [
    "The `filter()` function can be used to apply the lambda function to each element in a list and created a new list with only those elements meeting the criteria. In the above example, the list \"age\" is created with a list of values. This is used to create a new list with only those elements greater than or equal to 50."
   ]
  },
  {
   "cell_type": "code",
   "execution_count": 61,
   "metadata": {
    "collapsed": false
   },
   "outputs": [
    {
     "name": "stdout",
     "output_type": "stream",
     "text": [
      "['Hello,', 'how', 'are', 'you']\n"
     ]
    }
   ],
   "source": [
    "# Split a line of text into a list of words\n",
    "text = \"Hello, how are you\"\n",
    "words = lambda x: x.split()\n",
    "\n",
    "print words(text)"
   ]
  }
 ],
 "metadata": {
  "kernelspec": {
   "display_name": "Python [Root]",
   "language": "python",
   "name": "Python [Root]"
  },
  "language_info": {
   "codemirror_mode": {
    "name": "ipython",
    "version": 2
   },
   "file_extension": ".py",
   "mimetype": "text/x-python",
   "name": "python",
   "nbconvert_exporter": "python",
   "pygments_lexer": "ipython2",
   "version": "2.7.12"
  }
 },
 "nbformat": 4,
 "nbformat_minor": 0
}

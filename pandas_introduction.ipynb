{
 "cells": [
  {
   "cell_type": "markdown",
   "metadata": {},
   "source": [
    "# Introduction to Pandas"
   ]
  },
  {
   "cell_type": "markdown",
   "metadata": {},
   "source": [
    "`pandas` is one of the most popular Python libraries used in data science. It makes data analysis fast and easy in Python. \n",
    "\n",
    "First, let's import `pandas` & `numpy`"
   ]
  },
  {
   "cell_type": "code",
   "execution_count": 1,
   "metadata": {
    "collapsed": true
   },
   "outputs": [],
   "source": [
    "import pandas as pd\n",
    "import numpy as np"
   ]
  },
  {
   "cell_type": "markdown",
   "metadata": {},
   "source": [
    "This is the standard way to import `pandas`. We don't want to have to write out 'pandas' everytime, but we do want to keep it clear so 'pd' is the common way to reference it. The same with 'numpy'."
   ]
  },
  {
   "cell_type": "markdown",
   "metadata": {},
   "source": [
    "The data being used for this tutorial is the *Auto MPG* data set available on the UCI Machine Learning Repository. For more information on the data set click [here](https://archive.ics.uci.edu/ml/datasets/Auto+MPG). I saved this data to a csv, but you can also read it in direcly from the website.\n",
    "\n",
    "`Pandas` is a Python library that provides easy to use data structures. The primary data structure of `pandas` is the `DataFrame`. We can load a csv into pandas DataFrame by using the `read_csv`. Since there are no column names in the csv we can specify these while reading in the data. \n",
    "\n",
    "Be aware that missing data is often represented by a \"?\" in the UCI datasets. The `na_values` parameter in `read_csv` can be used to specify strings to be recognized as NaN."
   ]
  },
  {
   "cell_type": "code",
   "execution_count": 2,
   "metadata": {
    "collapsed": false
   },
   "outputs": [],
   "source": [
    "colnames = ['mpg', 'cylinders', 'displacement', 'horsepower', 'weight', 'acceleration', 'model_year', 'origin', 'car_name']\n",
    "\n",
    "df = pd.read_csv('/Users/abeasock/Documents/Data/auto_mpg.csv', names = colnames, na_values='?')"
   ]
  },
  {
   "cell_type": "markdown",
   "metadata": {},
   "source": [
    "## Exploratory"
   ]
  },
  {
   "cell_type": "markdown",
   "metadata": {},
   "source": [
    "You can verify the data was read in correctly by using the function `head`, which will return the first n rows. The default is 5 rows if n is not defined. \n",
    "\n",
    "**Note: I use `head()` in a lot of the examples below just to limit the size of the output printed**"
   ]
  },
  {
   "cell_type": "code",
   "execution_count": 3,
   "metadata": {
    "collapsed": false
   },
   "outputs": [
    {
     "data": {
      "text/html": [
       "<div>\n",
       "<table border=\"1\" class=\"dataframe\">\n",
       "  <thead>\n",
       "    <tr style=\"text-align: right;\">\n",
       "      <th></th>\n",
       "      <th>mpg</th>\n",
       "      <th>cylinders</th>\n",
       "      <th>displacement</th>\n",
       "      <th>horsepower</th>\n",
       "      <th>weight</th>\n",
       "      <th>acceleration</th>\n",
       "      <th>model_year</th>\n",
       "      <th>origin</th>\n",
       "      <th>car_name</th>\n",
       "    </tr>\n",
       "  </thead>\n",
       "  <tbody>\n",
       "    <tr>\n",
       "      <th>0</th>\n",
       "      <td>18.0</td>\n",
       "      <td>8</td>\n",
       "      <td>307.0</td>\n",
       "      <td>130.0</td>\n",
       "      <td>3504</td>\n",
       "      <td>12.0</td>\n",
       "      <td>70</td>\n",
       "      <td>1</td>\n",
       "      <td>chevrolet chevelle malibu</td>\n",
       "    </tr>\n",
       "    <tr>\n",
       "      <th>1</th>\n",
       "      <td>15.0</td>\n",
       "      <td>8</td>\n",
       "      <td>350.0</td>\n",
       "      <td>165.0</td>\n",
       "      <td>3693</td>\n",
       "      <td>11.5</td>\n",
       "      <td>70</td>\n",
       "      <td>1</td>\n",
       "      <td>buick skylark 320</td>\n",
       "    </tr>\n",
       "    <tr>\n",
       "      <th>2</th>\n",
       "      <td>18.0</td>\n",
       "      <td>8</td>\n",
       "      <td>318.0</td>\n",
       "      <td>150.0</td>\n",
       "      <td>3436</td>\n",
       "      <td>11.0</td>\n",
       "      <td>70</td>\n",
       "      <td>1</td>\n",
       "      <td>plymouth satellite</td>\n",
       "    </tr>\n",
       "    <tr>\n",
       "      <th>3</th>\n",
       "      <td>16.0</td>\n",
       "      <td>8</td>\n",
       "      <td>304.0</td>\n",
       "      <td>150.0</td>\n",
       "      <td>3433</td>\n",
       "      <td>12.0</td>\n",
       "      <td>70</td>\n",
       "      <td>1</td>\n",
       "      <td>amc rebel sst</td>\n",
       "    </tr>\n",
       "    <tr>\n",
       "      <th>4</th>\n",
       "      <td>17.0</td>\n",
       "      <td>8</td>\n",
       "      <td>302.0</td>\n",
       "      <td>140.0</td>\n",
       "      <td>3449</td>\n",
       "      <td>10.5</td>\n",
       "      <td>70</td>\n",
       "      <td>1</td>\n",
       "      <td>ford torino</td>\n",
       "    </tr>\n",
       "  </tbody>\n",
       "</table>\n",
       "</div>"
      ],
      "text/plain": [
       "    mpg  cylinders  displacement  horsepower  weight  acceleration  \\\n",
       "0  18.0          8         307.0       130.0    3504          12.0   \n",
       "1  15.0          8         350.0       165.0    3693          11.5   \n",
       "2  18.0          8         318.0       150.0    3436          11.0   \n",
       "3  16.0          8         304.0       150.0    3433          12.0   \n",
       "4  17.0          8         302.0       140.0    3449          10.5   \n",
       "\n",
       "   model_year  origin                   car_name  \n",
       "0          70       1  chevrolet chevelle malibu  \n",
       "1          70       1          buick skylark 320  \n",
       "2          70       1         plymouth satellite  \n",
       "3          70       1              amc rebel sst  \n",
       "4          70       1                ford torino  "
      ]
     },
     "execution_count": 3,
     "metadata": {},
     "output_type": "execute_result"
    }
   ],
   "source": [
    "df.head()"
   ]
  },
  {
   "cell_type": "markdown",
   "metadata": {},
   "source": [
    "There is also the function `tail` to return the last n rows."
   ]
  },
  {
   "cell_type": "code",
   "execution_count": 4,
   "metadata": {
    "collapsed": false
   },
   "outputs": [
    {
     "data": {
      "text/html": [
       "<div>\n",
       "<table border=\"1\" class=\"dataframe\">\n",
       "  <thead>\n",
       "    <tr style=\"text-align: right;\">\n",
       "      <th></th>\n",
       "      <th>mpg</th>\n",
       "      <th>cylinders</th>\n",
       "      <th>displacement</th>\n",
       "      <th>horsepower</th>\n",
       "      <th>weight</th>\n",
       "      <th>acceleration</th>\n",
       "      <th>model_year</th>\n",
       "      <th>origin</th>\n",
       "      <th>car_name</th>\n",
       "    </tr>\n",
       "  </thead>\n",
       "  <tbody>\n",
       "    <tr>\n",
       "      <th>395</th>\n",
       "      <td>32.0</td>\n",
       "      <td>4</td>\n",
       "      <td>135.0</td>\n",
       "      <td>84.0</td>\n",
       "      <td>2295</td>\n",
       "      <td>11.6</td>\n",
       "      <td>82</td>\n",
       "      <td>1</td>\n",
       "      <td>dodge rampage</td>\n",
       "    </tr>\n",
       "    <tr>\n",
       "      <th>396</th>\n",
       "      <td>28.0</td>\n",
       "      <td>4</td>\n",
       "      <td>120.0</td>\n",
       "      <td>79.0</td>\n",
       "      <td>2625</td>\n",
       "      <td>18.6</td>\n",
       "      <td>82</td>\n",
       "      <td>1</td>\n",
       "      <td>ford ranger</td>\n",
       "    </tr>\n",
       "    <tr>\n",
       "      <th>397</th>\n",
       "      <td>31.0</td>\n",
       "      <td>4</td>\n",
       "      <td>119.0</td>\n",
       "      <td>82.0</td>\n",
       "      <td>2720</td>\n",
       "      <td>19.4</td>\n",
       "      <td>82</td>\n",
       "      <td>1</td>\n",
       "      <td>chevy s-10</td>\n",
       "    </tr>\n",
       "  </tbody>\n",
       "</table>\n",
       "</div>"
      ],
      "text/plain": [
       "      mpg  cylinders  displacement  horsepower  weight  acceleration  \\\n",
       "395  32.0          4         135.0        84.0    2295          11.6   \n",
       "396  28.0          4         120.0        79.0    2625          18.6   \n",
       "397  31.0          4         119.0        82.0    2720          19.4   \n",
       "\n",
       "     model_year  origin       car_name  \n",
       "395          82       1  dodge rampage  \n",
       "396          82       1    ford ranger  \n",
       "397          82       1     chevy s-10  "
      ]
     },
     "execution_count": 4,
     "metadata": {},
     "output_type": "execute_result"
    }
   ],
   "source": [
    "df.tail(3)"
   ]
  },
  {
   "cell_type": "markdown",
   "metadata": {},
   "source": [
    "The DataFrame has an attribute `columns` for seeing a list of columns in the DataFrame."
   ]
  },
  {
   "cell_type": "code",
   "execution_count": 5,
   "metadata": {
    "collapsed": false
   },
   "outputs": [
    {
     "data": {
      "text/plain": [
       "Index([u'mpg', u'cylinders', u'displacement', u'horsepower', u'weight',\n",
       "       u'acceleration', u'model_year', u'origin', u'car_name'],\n",
       "      dtype='object')"
      ]
     },
     "execution_count": 5,
     "metadata": {},
     "output_type": "execute_result"
    }
   ],
   "source": [
    "df.columns"
   ]
  },
  {
   "cell_type": "markdown",
   "metadata": {},
   "source": [
    "The `dtypes` function can be used to check the data types of the columns."
   ]
  },
  {
   "cell_type": "code",
   "execution_count": 6,
   "metadata": {
    "collapsed": false
   },
   "outputs": [
    {
     "data": {
      "text/plain": [
       "mpg             float64\n",
       "cylinders         int64\n",
       "displacement    float64\n",
       "horsepower      float64\n",
       "weight            int64\n",
       "acceleration    float64\n",
       "model_year        int64\n",
       "origin            int64\n",
       "car_name         object\n",
       "dtype: object"
      ]
     },
     "execution_count": 6,
     "metadata": {},
     "output_type": "execute_result"
    }
   ],
   "source": [
    "df.dtypes"
   ]
  },
  {
   "cell_type": "markdown",
   "metadata": {},
   "source": [
    "There is also the `info()` function that provides an overview of information."
   ]
  },
  {
   "cell_type": "code",
   "execution_count": 7,
   "metadata": {
    "collapsed": false
   },
   "outputs": [
    {
     "name": "stdout",
     "output_type": "stream",
     "text": [
      "<class 'pandas.core.frame.DataFrame'>\n",
      "RangeIndex: 398 entries, 0 to 397\n",
      "Data columns (total 9 columns):\n",
      "mpg             398 non-null float64\n",
      "cylinders       398 non-null int64\n",
      "displacement    398 non-null float64\n",
      "horsepower      392 non-null float64\n",
      "weight          398 non-null int64\n",
      "acceleration    398 non-null float64\n",
      "model_year      398 non-null int64\n",
      "origin          398 non-null int64\n",
      "car_name        398 non-null object\n",
      "dtypes: float64(4), int64(4), object(1)\n",
      "memory usage: 28.1+ KB\n"
     ]
    }
   ],
   "source": [
    "df.info()"
   ]
  },
  {
   "cell_type": "markdown",
   "metadata": {},
   "source": [
    "The `shape` function will return a tuple of the shape of the Dataframe. The below output shows that we have 398 rows and 9 columns."
   ]
  },
  {
   "cell_type": "code",
   "execution_count": 8,
   "metadata": {
    "collapsed": false
   },
   "outputs": [
    {
     "data": {
      "text/plain": [
       "(398, 9)"
      ]
     },
     "execution_count": 8,
     "metadata": {},
     "output_type": "execute_result"
    }
   ],
   "source": [
    "df.shape"
   ]
  },
  {
   "cell_type": "markdown",
   "metadata": {},
   "source": [
    "You may just want to know how many records are in the dataframe and you can simply take the length by using the `len()` function."
   ]
  },
  {
   "cell_type": "code",
   "execution_count": 9,
   "metadata": {
    "collapsed": false
   },
   "outputs": [
    {
     "data": {
      "text/plain": [
       "398"
      ]
     },
     "execution_count": 9,
     "metadata": {},
     "output_type": "execute_result"
    }
   ],
   "source": [
    "len(df)"
   ]
  },
  {
   "cell_type": "markdown",
   "metadata": {},
   "source": [
    "The `describe` method computes summary statistics for each column. By default it includes numeric columns, but the parameter `include='all'` can be added to include strings."
   ]
  },
  {
   "cell_type": "code",
   "execution_count": 10,
   "metadata": {
    "collapsed": false,
    "scrolled": true
   },
   "outputs": [
    {
     "name": "stderr",
     "output_type": "stream",
     "text": [
      "C:\\Anaconda2\\lib\\site-packages\\numpy\\lib\\function_base.py:3834: RuntimeWarning: Invalid value encountered in percentile\n",
      "  RuntimeWarning)\n"
     ]
    },
    {
     "data": {
      "text/html": [
       "<div>\n",
       "<table border=\"1\" class=\"dataframe\">\n",
       "  <thead>\n",
       "    <tr style=\"text-align: right;\">\n",
       "      <th></th>\n",
       "      <th>mpg</th>\n",
       "      <th>cylinders</th>\n",
       "      <th>displacement</th>\n",
       "      <th>horsepower</th>\n",
       "      <th>weight</th>\n",
       "      <th>acceleration</th>\n",
       "      <th>model_year</th>\n",
       "      <th>origin</th>\n",
       "    </tr>\n",
       "  </thead>\n",
       "  <tbody>\n",
       "    <tr>\n",
       "      <th>count</th>\n",
       "      <td>398.000</td>\n",
       "      <td>398.000</td>\n",
       "      <td>398.000</td>\n",
       "      <td>392.000</td>\n",
       "      <td>398.000</td>\n",
       "      <td>398.000</td>\n",
       "      <td>398.000</td>\n",
       "      <td>398.000</td>\n",
       "    </tr>\n",
       "    <tr>\n",
       "      <th>mean</th>\n",
       "      <td>23.515</td>\n",
       "      <td>5.455</td>\n",
       "      <td>193.426</td>\n",
       "      <td>104.469</td>\n",
       "      <td>2,970.425</td>\n",
       "      <td>15.568</td>\n",
       "      <td>76.010</td>\n",
       "      <td>1.573</td>\n",
       "    </tr>\n",
       "    <tr>\n",
       "      <th>std</th>\n",
       "      <td>7.816</td>\n",
       "      <td>1.701</td>\n",
       "      <td>104.270</td>\n",
       "      <td>38.491</td>\n",
       "      <td>846.842</td>\n",
       "      <td>2.758</td>\n",
       "      <td>3.698</td>\n",
       "      <td>0.802</td>\n",
       "    </tr>\n",
       "    <tr>\n",
       "      <th>min</th>\n",
       "      <td>9.000</td>\n",
       "      <td>3.000</td>\n",
       "      <td>68.000</td>\n",
       "      <td>46.000</td>\n",
       "      <td>1,613.000</td>\n",
       "      <td>8.000</td>\n",
       "      <td>70.000</td>\n",
       "      <td>1.000</td>\n",
       "    </tr>\n",
       "    <tr>\n",
       "      <th>25%</th>\n",
       "      <td>17.500</td>\n",
       "      <td>4.000</td>\n",
       "      <td>104.250</td>\n",
       "      <td>nan</td>\n",
       "      <td>2,223.750</td>\n",
       "      <td>13.825</td>\n",
       "      <td>73.000</td>\n",
       "      <td>1.000</td>\n",
       "    </tr>\n",
       "    <tr>\n",
       "      <th>50%</th>\n",
       "      <td>23.000</td>\n",
       "      <td>4.000</td>\n",
       "      <td>148.500</td>\n",
       "      <td>nan</td>\n",
       "      <td>2,803.500</td>\n",
       "      <td>15.500</td>\n",
       "      <td>76.000</td>\n",
       "      <td>1.000</td>\n",
       "    </tr>\n",
       "    <tr>\n",
       "      <th>75%</th>\n",
       "      <td>29.000</td>\n",
       "      <td>8.000</td>\n",
       "      <td>262.000</td>\n",
       "      <td>nan</td>\n",
       "      <td>3,608.000</td>\n",
       "      <td>17.175</td>\n",
       "      <td>79.000</td>\n",
       "      <td>2.000</td>\n",
       "    </tr>\n",
       "    <tr>\n",
       "      <th>max</th>\n",
       "      <td>46.600</td>\n",
       "      <td>8.000</td>\n",
       "      <td>455.000</td>\n",
       "      <td>230.000</td>\n",
       "      <td>5,140.000</td>\n",
       "      <td>24.800</td>\n",
       "      <td>82.000</td>\n",
       "      <td>3.000</td>\n",
       "    </tr>\n",
       "  </tbody>\n",
       "</table>\n",
       "</div>"
      ],
      "text/plain": [
       "          mpg  cylinders  displacement  horsepower    weight  acceleration  \\\n",
       "count 398.000    398.000       398.000     392.000   398.000       398.000   \n",
       "mean   23.515      5.455       193.426     104.469 2,970.425        15.568   \n",
       "std     7.816      1.701       104.270      38.491   846.842         2.758   \n",
       "min     9.000      3.000        68.000      46.000 1,613.000         8.000   \n",
       "25%    17.500      4.000       104.250         nan 2,223.750        13.825   \n",
       "50%    23.000      4.000       148.500         nan 2,803.500        15.500   \n",
       "75%    29.000      8.000       262.000         nan 3,608.000        17.175   \n",
       "max    46.600      8.000       455.000     230.000 5,140.000        24.800   \n",
       "\n",
       "       model_year  origin  \n",
       "count     398.000 398.000  \n",
       "mean       76.010   1.573  \n",
       "std         3.698   0.802  \n",
       "min        70.000   1.000  \n",
       "25%        73.000   1.000  \n",
       "50%        76.000   1.000  \n",
       "75%        79.000   2.000  \n",
       "max        82.000   3.000  "
      ]
     },
     "execution_count": 10,
     "metadata": {},
     "output_type": "execute_result"
    }
   ],
   "source": [
    "pd.options.display.float_format = '{:,.3f}'.format # Limit output to 3 decimal places.\n",
    "df.describe()"
   ]
  },
  {
   "cell_type": "markdown",
   "metadata": {},
   "source": [
    "#### Other stats methods\n",
    "\n",
    "    df.corr()   # Pairwise correlation columns\n",
    "    df.cov()    # Pairwise covariance columns\n",
    "    df.kurt()   # Kurtosis over columns\n",
    "    df.mad()    # Mean absoluate deviation\n",
    "    df.sem()    # Standard error of mean\n",
    "    df.var()    # Variance over columns\n",
    "    \n",
    "Examples of a few:"
   ]
  },
  {
   "cell_type": "code",
   "execution_count": 11,
   "metadata": {
    "collapsed": false
   },
   "outputs": [
    {
     "data": {
      "text/html": [
       "<div>\n",
       "<table border=\"1\" class=\"dataframe\">\n",
       "  <thead>\n",
       "    <tr style=\"text-align: right;\">\n",
       "      <th></th>\n",
       "      <th>mpg</th>\n",
       "      <th>cylinders</th>\n",
       "      <th>displacement</th>\n",
       "      <th>horsepower</th>\n",
       "      <th>weight</th>\n",
       "      <th>acceleration</th>\n",
       "      <th>model_year</th>\n",
       "      <th>origin</th>\n",
       "    </tr>\n",
       "  </thead>\n",
       "  <tbody>\n",
       "    <tr>\n",
       "      <th>mpg</th>\n",
       "      <td>1.000</td>\n",
       "      <td>-0.775</td>\n",
       "      <td>-0.804</td>\n",
       "      <td>-0.778</td>\n",
       "      <td>-0.832</td>\n",
       "      <td>0.420</td>\n",
       "      <td>0.579</td>\n",
       "      <td>0.563</td>\n",
       "    </tr>\n",
       "    <tr>\n",
       "      <th>cylinders</th>\n",
       "      <td>-0.775</td>\n",
       "      <td>1.000</td>\n",
       "      <td>0.951</td>\n",
       "      <td>0.843</td>\n",
       "      <td>0.896</td>\n",
       "      <td>-0.505</td>\n",
       "      <td>-0.349</td>\n",
       "      <td>-0.563</td>\n",
       "    </tr>\n",
       "    <tr>\n",
       "      <th>displacement</th>\n",
       "      <td>-0.804</td>\n",
       "      <td>0.951</td>\n",
       "      <td>1.000</td>\n",
       "      <td>0.897</td>\n",
       "      <td>0.933</td>\n",
       "      <td>-0.544</td>\n",
       "      <td>-0.370</td>\n",
       "      <td>-0.609</td>\n",
       "    </tr>\n",
       "    <tr>\n",
       "      <th>horsepower</th>\n",
       "      <td>-0.778</td>\n",
       "      <td>0.843</td>\n",
       "      <td>0.897</td>\n",
       "      <td>1.000</td>\n",
       "      <td>0.865</td>\n",
       "      <td>-0.689</td>\n",
       "      <td>-0.416</td>\n",
       "      <td>-0.455</td>\n",
       "    </tr>\n",
       "    <tr>\n",
       "      <th>weight</th>\n",
       "      <td>-0.832</td>\n",
       "      <td>0.896</td>\n",
       "      <td>0.933</td>\n",
       "      <td>0.865</td>\n",
       "      <td>1.000</td>\n",
       "      <td>-0.417</td>\n",
       "      <td>-0.307</td>\n",
       "      <td>-0.581</td>\n",
       "    </tr>\n",
       "    <tr>\n",
       "      <th>acceleration</th>\n",
       "      <td>0.420</td>\n",
       "      <td>-0.505</td>\n",
       "      <td>-0.544</td>\n",
       "      <td>-0.689</td>\n",
       "      <td>-0.417</td>\n",
       "      <td>1.000</td>\n",
       "      <td>0.288</td>\n",
       "      <td>0.206</td>\n",
       "    </tr>\n",
       "    <tr>\n",
       "      <th>model_year</th>\n",
       "      <td>0.579</td>\n",
       "      <td>-0.349</td>\n",
       "      <td>-0.370</td>\n",
       "      <td>-0.416</td>\n",
       "      <td>-0.307</td>\n",
       "      <td>0.288</td>\n",
       "      <td>1.000</td>\n",
       "      <td>0.181</td>\n",
       "    </tr>\n",
       "    <tr>\n",
       "      <th>origin</th>\n",
       "      <td>0.563</td>\n",
       "      <td>-0.563</td>\n",
       "      <td>-0.609</td>\n",
       "      <td>-0.455</td>\n",
       "      <td>-0.581</td>\n",
       "      <td>0.206</td>\n",
       "      <td>0.181</td>\n",
       "      <td>1.000</td>\n",
       "    </tr>\n",
       "  </tbody>\n",
       "</table>\n",
       "</div>"
      ],
      "text/plain": [
       "                mpg  cylinders  displacement  horsepower  weight  \\\n",
       "mpg           1.000     -0.775        -0.804      -0.778  -0.832   \n",
       "cylinders    -0.775      1.000         0.951       0.843   0.896   \n",
       "displacement -0.804      0.951         1.000       0.897   0.933   \n",
       "horsepower   -0.778      0.843         0.897       1.000   0.865   \n",
       "weight       -0.832      0.896         0.933       0.865   1.000   \n",
       "acceleration  0.420     -0.505        -0.544      -0.689  -0.417   \n",
       "model_year    0.579     -0.349        -0.370      -0.416  -0.307   \n",
       "origin        0.563     -0.563        -0.609      -0.455  -0.581   \n",
       "\n",
       "              acceleration  model_year  origin  \n",
       "mpg                  0.420       0.579   0.563  \n",
       "cylinders           -0.505      -0.349  -0.563  \n",
       "displacement        -0.544      -0.370  -0.609  \n",
       "horsepower          -0.689      -0.416  -0.455  \n",
       "weight              -0.417      -0.307  -0.581  \n",
       "acceleration         1.000       0.288   0.206  \n",
       "model_year           0.288       1.000   0.181  \n",
       "origin               0.206       0.181   1.000  "
      ]
     },
     "execution_count": 11,
     "metadata": {},
     "output_type": "execute_result"
    }
   ],
   "source": [
    "df.corr()"
   ]
  },
  {
   "cell_type": "code",
   "execution_count": 12,
   "metadata": {
    "collapsed": false
   },
   "outputs": [
    {
     "data": {
      "text/plain": [
       "mpg            -0.511\n",
       "cylinders      -1.377\n",
       "displacement   -0.747\n",
       "horsepower      0.697\n",
       "weight         -0.786\n",
       "acceleration    0.419\n",
       "model_year     -1.181\n",
       "origin         -0.818\n",
       "dtype: float64"
      ]
     },
     "execution_count": 12,
     "metadata": {},
     "output_type": "execute_result"
    }
   ],
   "source": [
    "df.kurt()"
   ]
  },
  {
   "cell_type": "markdown",
   "metadata": {},
   "source": [
    "## Data Manipulation Techniques"
   ]
  },
  {
   "cell_type": "markdown",
   "metadata": {},
   "source": [
    "### Convert Data Types of a Column\n",
    "\n",
    "The columns mpg, displacement, and horsepower all seem like they can be integers. However, we can't convert horsepower from float to int until the missing values are handled, it currently contains NaN values and this would give us an error."
   ]
  },
  {
   "cell_type": "code",
   "execution_count": 13,
   "metadata": {
    "collapsed": false
   },
   "outputs": [
    {
     "data": {
      "text/plain": [
       "mpg               int32\n",
       "cylinders         int64\n",
       "displacement      int32\n",
       "horsepower      float64\n",
       "weight            int64\n",
       "acceleration    float64\n",
       "model_year        int64\n",
       "origin            int64\n",
       "car_name         object\n",
       "dtype: object"
      ]
     },
     "execution_count": 13,
     "metadata": {},
     "output_type": "execute_result"
    }
   ],
   "source": [
    "df[['mpg', 'displacement']] = df[['mpg', 'displacement']].astype(int)\n",
    "\n",
    "df.dtypes"
   ]
  },
  {
   "cell_type": "markdown",
   "metadata": {},
   "source": [
    "### Renaming a Column"
   ]
  },
  {
   "cell_type": "code",
   "execution_count": 14,
   "metadata": {
    "collapsed": false
   },
   "outputs": [],
   "source": [
    "df.rename(columns={'car_name':'make_model'}, inplace=True)  # Can also rename multiple columns, separate with comma"
   ]
  },
  {
   "cell_type": "markdown",
   "metadata": {},
   "source": [
    "### Sorting"
   ]
  },
  {
   "cell_type": "code",
   "execution_count": 15,
   "metadata": {
    "collapsed": false
   },
   "outputs": [
    {
     "data": {
      "text/html": [
       "<div>\n",
       "<table border=\"1\" class=\"dataframe\">\n",
       "  <thead>\n",
       "    <tr style=\"text-align: right;\">\n",
       "      <th></th>\n",
       "      <th>mpg</th>\n",
       "      <th>cylinders</th>\n",
       "      <th>displacement</th>\n",
       "      <th>horsepower</th>\n",
       "      <th>weight</th>\n",
       "      <th>acceleration</th>\n",
       "      <th>model_year</th>\n",
       "      <th>origin</th>\n",
       "      <th>make_model</th>\n",
       "    </tr>\n",
       "  </thead>\n",
       "  <tbody>\n",
       "    <tr>\n",
       "      <th>96</th>\n",
       "      <td>13</td>\n",
       "      <td>8</td>\n",
       "      <td>360</td>\n",
       "      <td>175.000</td>\n",
       "      <td>3821</td>\n",
       "      <td>11.000</td>\n",
       "      <td>73</td>\n",
       "      <td>1</td>\n",
       "      <td>amc ambassador brougham</td>\n",
       "    </tr>\n",
       "    <tr>\n",
       "      <th>9</th>\n",
       "      <td>15</td>\n",
       "      <td>8</td>\n",
       "      <td>390</td>\n",
       "      <td>190.000</td>\n",
       "      <td>3850</td>\n",
       "      <td>8.500</td>\n",
       "      <td>70</td>\n",
       "      <td>1</td>\n",
       "      <td>amc ambassador dpl</td>\n",
       "    </tr>\n",
       "    <tr>\n",
       "      <th>66</th>\n",
       "      <td>17</td>\n",
       "      <td>8</td>\n",
       "      <td>304</td>\n",
       "      <td>150.000</td>\n",
       "      <td>3672</td>\n",
       "      <td>11.500</td>\n",
       "      <td>72</td>\n",
       "      <td>1</td>\n",
       "      <td>amc ambassador sst</td>\n",
       "    </tr>\n",
       "    <tr>\n",
       "      <th>315</th>\n",
       "      <td>24</td>\n",
       "      <td>4</td>\n",
       "      <td>151</td>\n",
       "      <td>90.000</td>\n",
       "      <td>3003</td>\n",
       "      <td>20.100</td>\n",
       "      <td>80</td>\n",
       "      <td>1</td>\n",
       "      <td>amc concord</td>\n",
       "    </tr>\n",
       "    <tr>\n",
       "      <th>257</th>\n",
       "      <td>19</td>\n",
       "      <td>6</td>\n",
       "      <td>232</td>\n",
       "      <td>90.000</td>\n",
       "      <td>3210</td>\n",
       "      <td>17.200</td>\n",
       "      <td>78</td>\n",
       "      <td>1</td>\n",
       "      <td>amc concord</td>\n",
       "    </tr>\n",
       "  </tbody>\n",
       "</table>\n",
       "</div>"
      ],
      "text/plain": [
       "     mpg  cylinders  displacement  horsepower  weight  acceleration  \\\n",
       "96    13          8           360     175.000    3821        11.000   \n",
       "9     15          8           390     190.000    3850         8.500   \n",
       "66    17          8           304     150.000    3672        11.500   \n",
       "315   24          4           151      90.000    3003        20.100   \n",
       "257   19          6           232      90.000    3210        17.200   \n",
       "\n",
       "     model_year  origin               make_model  \n",
       "96           73       1  amc ambassador brougham  \n",
       "9            70       1       amc ambassador dpl  \n",
       "66           72       1       amc ambassador sst  \n",
       "315          80       1              amc concord  \n",
       "257          78       1              amc concord  "
      ]
     },
     "execution_count": 15,
     "metadata": {},
     "output_type": "execute_result"
    }
   ],
   "source": [
    "# The default is ascending order\n",
    "df.sort_values(['make_model'], inplace=True) # inplace=True performs the operation in-place\n",
    "df.head()"
   ]
  },
  {
   "cell_type": "code",
   "execution_count": 16,
   "metadata": {
    "collapsed": false
   },
   "outputs": [
    {
     "data": {
      "text/html": [
       "<div>\n",
       "<table border=\"1\" class=\"dataframe\">\n",
       "  <thead>\n",
       "    <tr style=\"text-align: right;\">\n",
       "      <th></th>\n",
       "      <th>mpg</th>\n",
       "      <th>cylinders</th>\n",
       "      <th>displacement</th>\n",
       "      <th>horsepower</th>\n",
       "      <th>weight</th>\n",
       "      <th>acceleration</th>\n",
       "      <th>model_year</th>\n",
       "      <th>origin</th>\n",
       "      <th>make_model</th>\n",
       "    </tr>\n",
       "  </thead>\n",
       "  <tbody>\n",
       "    <tr>\n",
       "      <th>293</th>\n",
       "      <td>31</td>\n",
       "      <td>4</td>\n",
       "      <td>89</td>\n",
       "      <td>71.000</td>\n",
       "      <td>1925</td>\n",
       "      <td>14.000</td>\n",
       "      <td>79</td>\n",
       "      <td>2</td>\n",
       "      <td>vw rabbit custom</td>\n",
       "    </tr>\n",
       "    <tr>\n",
       "      <th>325</th>\n",
       "      <td>44</td>\n",
       "      <td>4</td>\n",
       "      <td>90</td>\n",
       "      <td>48.000</td>\n",
       "      <td>2085</td>\n",
       "      <td>21.700</td>\n",
       "      <td>80</td>\n",
       "      <td>2</td>\n",
       "      <td>vw rabbit c (diesel)</td>\n",
       "    </tr>\n",
       "    <tr>\n",
       "      <th>197</th>\n",
       "      <td>29</td>\n",
       "      <td>4</td>\n",
       "      <td>90</td>\n",
       "      <td>70.000</td>\n",
       "      <td>1937</td>\n",
       "      <td>14.200</td>\n",
       "      <td>76</td>\n",
       "      <td>2</td>\n",
       "      <td>vw rabbit</td>\n",
       "    </tr>\n",
       "    <tr>\n",
       "      <th>309</th>\n",
       "      <td>41</td>\n",
       "      <td>4</td>\n",
       "      <td>98</td>\n",
       "      <td>76.000</td>\n",
       "      <td>2144</td>\n",
       "      <td>14.700</td>\n",
       "      <td>80</td>\n",
       "      <td>2</td>\n",
       "      <td>vw rabbit</td>\n",
       "    </tr>\n",
       "    <tr>\n",
       "      <th>394</th>\n",
       "      <td>44</td>\n",
       "      <td>4</td>\n",
       "      <td>97</td>\n",
       "      <td>52.000</td>\n",
       "      <td>2130</td>\n",
       "      <td>24.600</td>\n",
       "      <td>82</td>\n",
       "      <td>2</td>\n",
       "      <td>vw pickup</td>\n",
       "    </tr>\n",
       "  </tbody>\n",
       "</table>\n",
       "</div>"
      ],
      "text/plain": [
       "     mpg  cylinders  displacement  horsepower  weight  acceleration  \\\n",
       "293   31          4            89      71.000    1925        14.000   \n",
       "325   44          4            90      48.000    2085        21.700   \n",
       "197   29          4            90      70.000    1937        14.200   \n",
       "309   41          4            98      76.000    2144        14.700   \n",
       "394   44          4            97      52.000    2130        24.600   \n",
       "\n",
       "     model_year  origin            make_model  \n",
       "293          79       2      vw rabbit custom  \n",
       "325          80       2  vw rabbit c (diesel)  \n",
       "197          76       2             vw rabbit  \n",
       "309          80       2             vw rabbit  \n",
       "394          82       2             vw pickup  "
      ]
     },
     "execution_count": 16,
     "metadata": {},
     "output_type": "execute_result"
    }
   ],
   "source": [
    "# Set parameter ascending=False to sort in descending order\n",
    "df.sort_values(['make_model'], ascending=False).head()  "
   ]
  },
  {
   "cell_type": "markdown",
   "metadata": {},
   "source": [
    "### Selecting Columns\n",
    "\n",
    "A DataFrame column is a pandas Series object.\n",
    "\n",
    "Selecting a single column by label. This returns a series, not a dataframe. Let's add `head()` to keep it from printing out all the records."
   ]
  },
  {
   "cell_type": "code",
   "execution_count": 17,
   "metadata": {
    "collapsed": false
   },
   "outputs": [
    {
     "data": {
      "text/plain": [
       "96     amc ambassador brougham\n",
       "9           amc ambassador dpl\n",
       "66          amc ambassador sst\n",
       "315                amc concord\n",
       "257                amc concord\n",
       "Name: make_model, dtype: object"
      ]
     },
     "execution_count": 17,
     "metadata": {},
     "output_type": "execute_result"
    }
   ],
   "source": [
    "df['make_model'].head()"
   ]
  },
  {
   "cell_type": "markdown",
   "metadata": {},
   "source": [
    "Selecting multiple columns in the same manner as above."
   ]
  },
  {
   "cell_type": "code",
   "execution_count": 18,
   "metadata": {
    "collapsed": false
   },
   "outputs": [
    {
     "data": {
      "text/html": [
       "<div>\n",
       "<table border=\"1\" class=\"dataframe\">\n",
       "  <thead>\n",
       "    <tr style=\"text-align: right;\">\n",
       "      <th></th>\n",
       "      <th>cylinders</th>\n",
       "      <th>make_model</th>\n",
       "    </tr>\n",
       "  </thead>\n",
       "  <tbody>\n",
       "    <tr>\n",
       "      <th>96</th>\n",
       "      <td>8</td>\n",
       "      <td>amc ambassador brougham</td>\n",
       "    </tr>\n",
       "    <tr>\n",
       "      <th>9</th>\n",
       "      <td>8</td>\n",
       "      <td>amc ambassador dpl</td>\n",
       "    </tr>\n",
       "    <tr>\n",
       "      <th>66</th>\n",
       "      <td>8</td>\n",
       "      <td>amc ambassador sst</td>\n",
       "    </tr>\n",
       "    <tr>\n",
       "      <th>315</th>\n",
       "      <td>4</td>\n",
       "      <td>amc concord</td>\n",
       "    </tr>\n",
       "    <tr>\n",
       "      <th>257</th>\n",
       "      <td>6</td>\n",
       "      <td>amc concord</td>\n",
       "    </tr>\n",
       "  </tbody>\n",
       "</table>\n",
       "</div>"
      ],
      "text/plain": [
       "     cylinders               make_model\n",
       "96           8  amc ambassador brougham\n",
       "9            8       amc ambassador dpl\n",
       "66           8       amc ambassador sst\n",
       "315          4              amc concord\n",
       "257          6              amc concord"
      ]
     },
     "execution_count": 18,
     "metadata": {},
     "output_type": "execute_result"
    }
   ],
   "source": [
    "df[['cylinders', 'make_model']].head()"
   ]
  },
  {
   "cell_type": "markdown",
   "metadata": {},
   "source": [
    "Maybe you're unsure of the columns full name or you want to select a group of columns that all partially contain the same name, you can use the 'like' to find column names containing the specified string."
   ]
  },
  {
   "cell_type": "code",
   "execution_count": 19,
   "metadata": {
    "collapsed": false
   },
   "outputs": [
    {
     "data": {
      "text/html": [
       "<div>\n",
       "<table border=\"1\" class=\"dataframe\">\n",
       "  <thead>\n",
       "    <tr style=\"text-align: right;\">\n",
       "      <th></th>\n",
       "      <th>model_year</th>\n",
       "      <th>make_model</th>\n",
       "    </tr>\n",
       "  </thead>\n",
       "  <tbody>\n",
       "    <tr>\n",
       "      <th>96</th>\n",
       "      <td>73</td>\n",
       "      <td>amc ambassador brougham</td>\n",
       "    </tr>\n",
       "    <tr>\n",
       "      <th>9</th>\n",
       "      <td>70</td>\n",
       "      <td>amc ambassador dpl</td>\n",
       "    </tr>\n",
       "    <tr>\n",
       "      <th>66</th>\n",
       "      <td>72</td>\n",
       "      <td>amc ambassador sst</td>\n",
       "    </tr>\n",
       "    <tr>\n",
       "      <th>315</th>\n",
       "      <td>80</td>\n",
       "      <td>amc concord</td>\n",
       "    </tr>\n",
       "    <tr>\n",
       "      <th>257</th>\n",
       "      <td>78</td>\n",
       "      <td>amc concord</td>\n",
       "    </tr>\n",
       "  </tbody>\n",
       "</table>\n",
       "</div>"
      ],
      "text/plain": [
       "     model_year               make_model\n",
       "96           73  amc ambassador brougham\n",
       "9            70       amc ambassador dpl\n",
       "66           72       amc ambassador sst\n",
       "315          80              amc concord\n",
       "257          78              amc concord"
      ]
     },
     "execution_count": 19,
     "metadata": {},
     "output_type": "execute_result"
    }
   ],
   "source": [
    "df.filter(like='model').head()"
   ]
  },
  {
   "cell_type": "markdown",
   "metadata": {},
   "source": [
    "### Add a New Column\n",
    "\n",
    "For demonstration purposes, let's calculated the ratio of horsepower to weight"
   ]
  },
  {
   "cell_type": "code",
   "execution_count": 20,
   "metadata": {
    "collapsed": false
   },
   "outputs": [
    {
     "data": {
      "text/html": [
       "<div>\n",
       "<table border=\"1\" class=\"dataframe\">\n",
       "  <thead>\n",
       "    <tr style=\"text-align: right;\">\n",
       "      <th></th>\n",
       "      <th>mpg</th>\n",
       "      <th>cylinders</th>\n",
       "      <th>displacement</th>\n",
       "      <th>horsepower</th>\n",
       "      <th>weight</th>\n",
       "      <th>acceleration</th>\n",
       "      <th>model_year</th>\n",
       "      <th>origin</th>\n",
       "      <th>make_model</th>\n",
       "      <th>hp_wt_ratio</th>\n",
       "    </tr>\n",
       "  </thead>\n",
       "  <tbody>\n",
       "    <tr>\n",
       "      <th>96</th>\n",
       "      <td>13</td>\n",
       "      <td>8</td>\n",
       "      <td>360</td>\n",
       "      <td>175.000</td>\n",
       "      <td>3821</td>\n",
       "      <td>11.000</td>\n",
       "      <td>73</td>\n",
       "      <td>1</td>\n",
       "      <td>amc ambassador brougham</td>\n",
       "      <td>0.046</td>\n",
       "    </tr>\n",
       "    <tr>\n",
       "      <th>9</th>\n",
       "      <td>15</td>\n",
       "      <td>8</td>\n",
       "      <td>390</td>\n",
       "      <td>190.000</td>\n",
       "      <td>3850</td>\n",
       "      <td>8.500</td>\n",
       "      <td>70</td>\n",
       "      <td>1</td>\n",
       "      <td>amc ambassador dpl</td>\n",
       "      <td>0.049</td>\n",
       "    </tr>\n",
       "    <tr>\n",
       "      <th>66</th>\n",
       "      <td>17</td>\n",
       "      <td>8</td>\n",
       "      <td>304</td>\n",
       "      <td>150.000</td>\n",
       "      <td>3672</td>\n",
       "      <td>11.500</td>\n",
       "      <td>72</td>\n",
       "      <td>1</td>\n",
       "      <td>amc ambassador sst</td>\n",
       "      <td>0.041</td>\n",
       "    </tr>\n",
       "    <tr>\n",
       "      <th>315</th>\n",
       "      <td>24</td>\n",
       "      <td>4</td>\n",
       "      <td>151</td>\n",
       "      <td>90.000</td>\n",
       "      <td>3003</td>\n",
       "      <td>20.100</td>\n",
       "      <td>80</td>\n",
       "      <td>1</td>\n",
       "      <td>amc concord</td>\n",
       "      <td>0.030</td>\n",
       "    </tr>\n",
       "    <tr>\n",
       "      <th>257</th>\n",
       "      <td>19</td>\n",
       "      <td>6</td>\n",
       "      <td>232</td>\n",
       "      <td>90.000</td>\n",
       "      <td>3210</td>\n",
       "      <td>17.200</td>\n",
       "      <td>78</td>\n",
       "      <td>1</td>\n",
       "      <td>amc concord</td>\n",
       "      <td>0.028</td>\n",
       "    </tr>\n",
       "  </tbody>\n",
       "</table>\n",
       "</div>"
      ],
      "text/plain": [
       "     mpg  cylinders  displacement  horsepower  weight  acceleration  \\\n",
       "96    13          8           360     175.000    3821        11.000   \n",
       "9     15          8           390     190.000    3850         8.500   \n",
       "66    17          8           304     150.000    3672        11.500   \n",
       "315   24          4           151      90.000    3003        20.100   \n",
       "257   19          6           232      90.000    3210        17.200   \n",
       "\n",
       "     model_year  origin               make_model  hp_wt_ratio  \n",
       "96           73       1  amc ambassador brougham        0.046  \n",
       "9            70       1       amc ambassador dpl        0.049  \n",
       "66           72       1       amc ambassador sst        0.041  \n",
       "315          80       1              amc concord        0.030  \n",
       "257          78       1              amc concord        0.028  "
      ]
     },
     "execution_count": 20,
     "metadata": {},
     "output_type": "execute_result"
    }
   ],
   "source": [
    "df['hp_wt_ratio'] = df['horsepower']/df['weight']\n",
    "\n",
    "df.head()"
   ]
  },
  {
   "cell_type": "markdown",
   "metadata": {},
   "source": [
    "### Dropping\n",
    "\n",
    "#### Drop a column\n",
    "Note: axis=1 denotes that we are referring to a column and not a row"
   ]
  },
  {
   "cell_type": "code",
   "execution_count": 21,
   "metadata": {
    "collapsed": false
   },
   "outputs": [],
   "source": [
    "df.drop('hp_wt_ratio', axis=1, inplace=True)"
   ]
  },
  {
   "cell_type": "markdown",
   "metadata": {},
   "source": [
    "#### Drop a row if it contains a certain value\n",
    "\n",
    "In this example, let's drop all rows where cyclinders = 3. Remember this statement is written as to what you want to keep, so we need to write it as include all rows where the value of cylinders do not equal 3."
   ]
  },
  {
   "cell_type": "code",
   "execution_count": 22,
   "metadata": {
    "collapsed": false
   },
   "outputs": [
    {
     "name": "stdout",
     "output_type": "stream",
     "text": [
      "Number of rows dropped: 4\n"
     ]
    }
   ],
   "source": [
    "df2 = df[df['cylinders'] != 3]\n",
    "\n",
    "print \"Number of rows dropped: \" + str(len(df)-len(df2))"
   ]
  },
  {
   "cell_type": "markdown",
   "metadata": {},
   "source": [
    "### Filtering"
   ]
  },
  {
   "cell_type": "markdown",
   "metadata": {},
   "source": [
    "Conditional expression can be used to filter a dataframe. Let's filter  the dataframe for cars with greater than 220 horsepower."
   ]
  },
  {
   "cell_type": "code",
   "execution_count": 23,
   "metadata": {
    "collapsed": false
   },
   "outputs": [
    {
     "data": {
      "text/html": [
       "<div>\n",
       "<table border=\"1\" class=\"dataframe\">\n",
       "  <thead>\n",
       "    <tr style=\"text-align: right;\">\n",
       "      <th></th>\n",
       "      <th>mpg</th>\n",
       "      <th>cylinders</th>\n",
       "      <th>displacement</th>\n",
       "      <th>horsepower</th>\n",
       "      <th>weight</th>\n",
       "      <th>acceleration</th>\n",
       "      <th>model_year</th>\n",
       "      <th>origin</th>\n",
       "      <th>make_model</th>\n",
       "    </tr>\n",
       "  </thead>\n",
       "  <tbody>\n",
       "    <tr>\n",
       "      <th>95</th>\n",
       "      <td>12</td>\n",
       "      <td>8</td>\n",
       "      <td>455</td>\n",
       "      <td>225.000</td>\n",
       "      <td>4951</td>\n",
       "      <td>11.000</td>\n",
       "      <td>73</td>\n",
       "      <td>1</td>\n",
       "      <td>buick electra 225 custom</td>\n",
       "    </tr>\n",
       "    <tr>\n",
       "      <th>13</th>\n",
       "      <td>14</td>\n",
       "      <td>8</td>\n",
       "      <td>455</td>\n",
       "      <td>225.000</td>\n",
       "      <td>3086</td>\n",
       "      <td>10.000</td>\n",
       "      <td>70</td>\n",
       "      <td>1</td>\n",
       "      <td>buick estate wagon (sw)</td>\n",
       "    </tr>\n",
       "    <tr>\n",
       "      <th>8</th>\n",
       "      <td>14</td>\n",
       "      <td>8</td>\n",
       "      <td>455</td>\n",
       "      <td>225.000</td>\n",
       "      <td>4425</td>\n",
       "      <td>10.000</td>\n",
       "      <td>70</td>\n",
       "      <td>1</td>\n",
       "      <td>pontiac catalina</td>\n",
       "    </tr>\n",
       "    <tr>\n",
       "      <th>116</th>\n",
       "      <td>16</td>\n",
       "      <td>8</td>\n",
       "      <td>400</td>\n",
       "      <td>230.000</td>\n",
       "      <td>4278</td>\n",
       "      <td>9.500</td>\n",
       "      <td>73</td>\n",
       "      <td>1</td>\n",
       "      <td>pontiac grand prix</td>\n",
       "    </tr>\n",
       "  </tbody>\n",
       "</table>\n",
       "</div>"
      ],
      "text/plain": [
       "     mpg  cylinders  displacement  horsepower  weight  acceleration  \\\n",
       "95    12          8           455     225.000    4951        11.000   \n",
       "13    14          8           455     225.000    3086        10.000   \n",
       "8     14          8           455     225.000    4425        10.000   \n",
       "116   16          8           400     230.000    4278         9.500   \n",
       "\n",
       "     model_year  origin                make_model  \n",
       "95           73       1  buick electra 225 custom  \n",
       "13           70       1   buick estate wagon (sw)  \n",
       "8            70       1          pontiac catalina  \n",
       "116          73       1        pontiac grand prix  "
      ]
     },
     "execution_count": 23,
     "metadata": {},
     "output_type": "execute_result"
    }
   ],
   "source": [
    "df[df.horsepower > 220]"
   ]
  },
  {
   "cell_type": "markdown",
   "metadata": {},
   "source": [
    "A series of booleans can be created based on a condition. If the horsepower is greater than 220 then \"True\" and \"False\" if not."
   ]
  },
  {
   "cell_type": "code",
   "execution_count": 24,
   "metadata": {
    "collapsed": false,
    "scrolled": true
   },
   "outputs": [
    {
     "data": {
      "text/plain": [
       "96     False\n",
       "9      False\n",
       "66     False\n",
       "315    False\n",
       "257    False\n",
       "261    False\n",
       "374    False\n",
       "283    False\n",
       "107    False\n",
       "33     False\n",
       "169    False\n",
       "24     False\n",
       "127    False\n",
       "16     False\n",
       "194    False\n",
       "99     False\n",
       "45     False\n",
       "162    False\n",
       "134    False\n",
       "86     False\n",
       "189    False\n",
       "37     False\n",
       "72     False\n",
       "140    False\n",
       "176    False\n",
       "202    False\n",
       "3      False\n",
       "296    False\n",
       "21     False\n",
       "177    False\n",
       "       ...  \n",
       "82     False\n",
       "335    False\n",
       "332    False\n",
       "19     False\n",
       "77     False\n",
       "172    False\n",
       "142    False\n",
       "240    False\n",
       "353    False\n",
       "55     False\n",
       "175    False\n",
       "203    False\n",
       "233    False\n",
       "244    False\n",
       "375    False\n",
       "278    False\n",
       "102    False\n",
       "59     False\n",
       "120    False\n",
       "76     False\n",
       "179    False\n",
       "207    False\n",
       "275    False\n",
       "360    False\n",
       "326    False\n",
       "394    False\n",
       "309    False\n",
       "197    False\n",
       "325    False\n",
       "293    False\n",
       "Name: horsepower, dtype: bool"
      ]
     },
     "execution_count": 24,
     "metadata": {},
     "output_type": "execute_result"
    }
   ],
   "source": [
    "df.horsepower > 220"
   ]
  },
  {
   "cell_type": "markdown",
   "metadata": {},
   "source": [
    "You can also filter by multiple conditions. Note that each condition must be in parentheses and you cannot use 'and'/'or', use '&'/'|'\n",
    "\n",
    "Let's find records where horsepower is greater than 220 and mpg is greater than 15."
   ]
  },
  {
   "cell_type": "code",
   "execution_count": 25,
   "metadata": {
    "collapsed": false
   },
   "outputs": [
    {
     "data": {
      "text/html": [
       "<div>\n",
       "<table border=\"1\" class=\"dataframe\">\n",
       "  <thead>\n",
       "    <tr style=\"text-align: right;\">\n",
       "      <th></th>\n",
       "      <th>mpg</th>\n",
       "      <th>cylinders</th>\n",
       "      <th>displacement</th>\n",
       "      <th>horsepower</th>\n",
       "      <th>weight</th>\n",
       "      <th>acceleration</th>\n",
       "      <th>model_year</th>\n",
       "      <th>origin</th>\n",
       "      <th>make_model</th>\n",
       "    </tr>\n",
       "  </thead>\n",
       "  <tbody>\n",
       "    <tr>\n",
       "      <th>116</th>\n",
       "      <td>16</td>\n",
       "      <td>8</td>\n",
       "      <td>400</td>\n",
       "      <td>230.000</td>\n",
       "      <td>4278</td>\n",
       "      <td>9.500</td>\n",
       "      <td>73</td>\n",
       "      <td>1</td>\n",
       "      <td>pontiac grand prix</td>\n",
       "    </tr>\n",
       "  </tbody>\n",
       "</table>\n",
       "</div>"
      ],
      "text/plain": [
       "     mpg  cylinders  displacement  horsepower  weight  acceleration  \\\n",
       "116   16          8           400     230.000    4278         9.500   \n",
       "\n",
       "     model_year  origin          make_model  \n",
       "116          73       1  pontiac grand prix  "
      ]
     },
     "execution_count": 25,
     "metadata": {},
     "output_type": "execute_result"
    }
   ],
   "source": [
    "df[(df.horsepower > 220) & (df.mpg > 15)]"
   ]
  },
  {
   "cell_type": "markdown",
   "metadata": {},
   "source": [
    "There is an `isin()` function that allows you to search for multiple values in a column."
   ]
  },
  {
   "cell_type": "code",
   "execution_count": 26,
   "metadata": {
    "collapsed": false
   },
   "outputs": [
    {
     "data": {
      "text/html": [
       "<div>\n",
       "<table border=\"1\" class=\"dataframe\">\n",
       "  <thead>\n",
       "    <tr style=\"text-align: right;\">\n",
       "      <th></th>\n",
       "      <th>mpg</th>\n",
       "      <th>cylinders</th>\n",
       "      <th>displacement</th>\n",
       "      <th>horsepower</th>\n",
       "      <th>weight</th>\n",
       "      <th>acceleration</th>\n",
       "      <th>model_year</th>\n",
       "      <th>origin</th>\n",
       "      <th>make_model</th>\n",
       "    </tr>\n",
       "  </thead>\n",
       "  <tbody>\n",
       "    <tr>\n",
       "      <th>392</th>\n",
       "      <td>27</td>\n",
       "      <td>4</td>\n",
       "      <td>151</td>\n",
       "      <td>90.000</td>\n",
       "      <td>2950</td>\n",
       "      <td>17.300</td>\n",
       "      <td>82</td>\n",
       "      <td>1</td>\n",
       "      <td>chevrolet camaro</td>\n",
       "    </tr>\n",
       "    <tr>\n",
       "      <th>48</th>\n",
       "      <td>18</td>\n",
       "      <td>6</td>\n",
       "      <td>250</td>\n",
       "      <td>88.000</td>\n",
       "      <td>3139</td>\n",
       "      <td>14.500</td>\n",
       "      <td>71</td>\n",
       "      <td>1</td>\n",
       "      <td>ford mustang</td>\n",
       "    </tr>\n",
       "    <tr>\n",
       "      <th>36</th>\n",
       "      <td>19</td>\n",
       "      <td>6</td>\n",
       "      <td>250</td>\n",
       "      <td>88.000</td>\n",
       "      <td>3302</td>\n",
       "      <td>15.500</td>\n",
       "      <td>71</td>\n",
       "      <td>1</td>\n",
       "      <td>ford torino 500</td>\n",
       "    </tr>\n",
       "  </tbody>\n",
       "</table>\n",
       "</div>"
      ],
      "text/plain": [
       "     mpg  cylinders  displacement  horsepower  weight  acceleration  \\\n",
       "392   27          4           151      90.000    2950        17.300   \n",
       "48    18          6           250      88.000    3139        14.500   \n",
       "36    19          6           250      88.000    3302        15.500   \n",
       "\n",
       "     model_year  origin        make_model  \n",
       "392          82       1  chevrolet camaro  \n",
       "48           71       1      ford mustang  \n",
       "36           71       1   ford torino 500  "
      ]
     },
     "execution_count": 26,
     "metadata": {},
     "output_type": "execute_result"
    }
   ],
   "source": [
    "df[df['make_model'].isin(['ford torino 500', 'ford mustang', 'chevrolet camaro'])]"
   ]
  },
  {
   "cell_type": "markdown",
   "metadata": {},
   "source": [
    "The ~ can be used to do a \"not\". So below we filter for values in cylinders that are not equal to 4, 6, or 8"
   ]
  },
  {
   "cell_type": "code",
   "execution_count": 27,
   "metadata": {
    "collapsed": false
   },
   "outputs": [
    {
     "data": {
      "text/html": [
       "<div>\n",
       "<table border=\"1\" class=\"dataframe\">\n",
       "  <thead>\n",
       "    <tr style=\"text-align: right;\">\n",
       "      <th></th>\n",
       "      <th>mpg</th>\n",
       "      <th>cylinders</th>\n",
       "      <th>displacement</th>\n",
       "      <th>horsepower</th>\n",
       "      <th>weight</th>\n",
       "      <th>acceleration</th>\n",
       "      <th>model_year</th>\n",
       "      <th>origin</th>\n",
       "      <th>make_model</th>\n",
       "    </tr>\n",
       "  </thead>\n",
       "  <tbody>\n",
       "    <tr>\n",
       "      <th>274</th>\n",
       "      <td>20</td>\n",
       "      <td>5</td>\n",
       "      <td>131</td>\n",
       "      <td>103.000</td>\n",
       "      <td>2830</td>\n",
       "      <td>15.900</td>\n",
       "      <td>78</td>\n",
       "      <td>2</td>\n",
       "      <td>audi 5000</td>\n",
       "    </tr>\n",
       "    <tr>\n",
       "      <th>327</th>\n",
       "      <td>36</td>\n",
       "      <td>5</td>\n",
       "      <td>121</td>\n",
       "      <td>67.000</td>\n",
       "      <td>2950</td>\n",
       "      <td>19.900</td>\n",
       "      <td>80</td>\n",
       "      <td>2</td>\n",
       "      <td>audi 5000s (diesel)</td>\n",
       "    </tr>\n",
       "    <tr>\n",
       "      <th>111</th>\n",
       "      <td>18</td>\n",
       "      <td>3</td>\n",
       "      <td>70</td>\n",
       "      <td>90.000</td>\n",
       "      <td>2124</td>\n",
       "      <td>13.500</td>\n",
       "      <td>73</td>\n",
       "      <td>3</td>\n",
       "      <td>maxda rx3</td>\n",
       "    </tr>\n",
       "    <tr>\n",
       "      <th>243</th>\n",
       "      <td>21</td>\n",
       "      <td>3</td>\n",
       "      <td>80</td>\n",
       "      <td>110.000</td>\n",
       "      <td>2720</td>\n",
       "      <td>13.500</td>\n",
       "      <td>77</td>\n",
       "      <td>3</td>\n",
       "      <td>mazda rx-4</td>\n",
       "    </tr>\n",
       "    <tr>\n",
       "      <th>334</th>\n",
       "      <td>23</td>\n",
       "      <td>3</td>\n",
       "      <td>70</td>\n",
       "      <td>100.000</td>\n",
       "      <td>2420</td>\n",
       "      <td>12.500</td>\n",
       "      <td>80</td>\n",
       "      <td>3</td>\n",
       "      <td>mazda rx-7 gs</td>\n",
       "    </tr>\n",
       "    <tr>\n",
       "      <th>71</th>\n",
       "      <td>19</td>\n",
       "      <td>3</td>\n",
       "      <td>70</td>\n",
       "      <td>97.000</td>\n",
       "      <td>2330</td>\n",
       "      <td>13.500</td>\n",
       "      <td>72</td>\n",
       "      <td>3</td>\n",
       "      <td>mazda rx2 coupe</td>\n",
       "    </tr>\n",
       "    <tr>\n",
       "      <th>297</th>\n",
       "      <td>25</td>\n",
       "      <td>5</td>\n",
       "      <td>183</td>\n",
       "      <td>77.000</td>\n",
       "      <td>3530</td>\n",
       "      <td>20.100</td>\n",
       "      <td>79</td>\n",
       "      <td>2</td>\n",
       "      <td>mercedes benz 300d</td>\n",
       "    </tr>\n",
       "  </tbody>\n",
       "</table>\n",
       "</div>"
      ],
      "text/plain": [
       "     mpg  cylinders  displacement  horsepower  weight  acceleration  \\\n",
       "274   20          5           131     103.000    2830        15.900   \n",
       "327   36          5           121      67.000    2950        19.900   \n",
       "111   18          3            70      90.000    2124        13.500   \n",
       "243   21          3            80     110.000    2720        13.500   \n",
       "334   23          3            70     100.000    2420        12.500   \n",
       "71    19          3            70      97.000    2330        13.500   \n",
       "297   25          5           183      77.000    3530        20.100   \n",
       "\n",
       "     model_year  origin           make_model  \n",
       "274          78       2            audi 5000  \n",
       "327          80       2  audi 5000s (diesel)  \n",
       "111          73       3            maxda rx3  \n",
       "243          77       3           mazda rx-4  \n",
       "334          80       3        mazda rx-7 gs  \n",
       "71           72       3      mazda rx2 coupe  \n",
       "297          79       2   mercedes benz 300d  "
      ]
     },
     "execution_count": 27,
     "metadata": {},
     "output_type": "execute_result"
    }
   ],
   "source": [
    "df[~df['cylinders'].isin([4, 6, 8])]"
   ]
  },
  {
   "cell_type": "markdown",
   "metadata": {},
   "source": [
    "There are also string methods that can be used to filter strings. Let's find records where the make_model starts with \"saab\""
   ]
  },
  {
   "cell_type": "code",
   "execution_count": 28,
   "metadata": {
    "collapsed": false
   },
   "outputs": [
    {
     "data": {
      "text/html": [
       "<div>\n",
       "<table border=\"1\" class=\"dataframe\">\n",
       "  <thead>\n",
       "    <tr style=\"text-align: right;\">\n",
       "      <th></th>\n",
       "      <th>mpg</th>\n",
       "      <th>cylinders</th>\n",
       "      <th>displacement</th>\n",
       "      <th>horsepower</th>\n",
       "      <th>weight</th>\n",
       "      <th>acceleration</th>\n",
       "      <th>model_year</th>\n",
       "      <th>origin</th>\n",
       "      <th>make_model</th>\n",
       "    </tr>\n",
       "  </thead>\n",
       "  <tbody>\n",
       "    <tr>\n",
       "      <th>22</th>\n",
       "      <td>25</td>\n",
       "      <td>4</td>\n",
       "      <td>104</td>\n",
       "      <td>95.000</td>\n",
       "      <td>2375</td>\n",
       "      <td>17.500</td>\n",
       "      <td>70</td>\n",
       "      <td>2</td>\n",
       "      <td>saab 99e</td>\n",
       "    </tr>\n",
       "    <tr>\n",
       "      <th>276</th>\n",
       "      <td>21</td>\n",
       "      <td>4</td>\n",
       "      <td>121</td>\n",
       "      <td>115.000</td>\n",
       "      <td>2795</td>\n",
       "      <td>15.700</td>\n",
       "      <td>78</td>\n",
       "      <td>2</td>\n",
       "      <td>saab 99gle</td>\n",
       "    </tr>\n",
       "    <tr>\n",
       "      <th>122</th>\n",
       "      <td>24</td>\n",
       "      <td>4</td>\n",
       "      <td>121</td>\n",
       "      <td>110.000</td>\n",
       "      <td>2660</td>\n",
       "      <td>14.000</td>\n",
       "      <td>73</td>\n",
       "      <td>2</td>\n",
       "      <td>saab 99le</td>\n",
       "    </tr>\n",
       "    <tr>\n",
       "      <th>180</th>\n",
       "      <td>25</td>\n",
       "      <td>4</td>\n",
       "      <td>121</td>\n",
       "      <td>115.000</td>\n",
       "      <td>2671</td>\n",
       "      <td>13.500</td>\n",
       "      <td>75</td>\n",
       "      <td>2</td>\n",
       "      <td>saab 99le</td>\n",
       "    </tr>\n",
       "  </tbody>\n",
       "</table>\n",
       "</div>"
      ],
      "text/plain": [
       "     mpg  cylinders  displacement  horsepower  weight  acceleration  \\\n",
       "22    25          4           104      95.000    2375        17.500   \n",
       "276   21          4           121     115.000    2795        15.700   \n",
       "122   24          4           121     110.000    2660        14.000   \n",
       "180   25          4           121     115.000    2671        13.500   \n",
       "\n",
       "     model_year  origin  make_model  \n",
       "22           70       2    saab 99e  \n",
       "276          78       2  saab 99gle  \n",
       "122          73       2   saab 99le  \n",
       "180          75       2   saab 99le  "
      ]
     },
     "execution_count": 28,
     "metadata": {},
     "output_type": "execute_result"
    }
   ],
   "source": [
    "df[df.make_model.str.startswith('saab')]"
   ]
  },
  {
   "cell_type": "markdown",
   "metadata": {},
   "source": [
    "We can also do partial matching. Let's find records where the make_model contains 'reg' or 'sc' anywhere in the string."
   ]
  },
  {
   "cell_type": "code",
   "execution_count": 29,
   "metadata": {
    "collapsed": false
   },
   "outputs": [
    {
     "data": {
      "text/html": [
       "<div>\n",
       "<table border=\"1\" class=\"dataframe\">\n",
       "  <thead>\n",
       "    <tr style=\"text-align: right;\">\n",
       "      <th></th>\n",
       "      <th>mpg</th>\n",
       "      <th>cylinders</th>\n",
       "      <th>displacement</th>\n",
       "      <th>horsepower</th>\n",
       "      <th>weight</th>\n",
       "      <th>acceleration</th>\n",
       "      <th>model_year</th>\n",
       "      <th>origin</th>\n",
       "      <th>make_model</th>\n",
       "    </tr>\n",
       "  </thead>\n",
       "  <tbody>\n",
       "    <tr>\n",
       "      <th>263</th>\n",
       "      <td>17</td>\n",
       "      <td>6</td>\n",
       "      <td>231</td>\n",
       "      <td>165.000</td>\n",
       "      <td>3445</td>\n",
       "      <td>13.400</td>\n",
       "      <td>78</td>\n",
       "      <td>1</td>\n",
       "      <td>buick regal sport coupe (turbo)</td>\n",
       "    </tr>\n",
       "    <tr>\n",
       "      <th>288</th>\n",
       "      <td>18</td>\n",
       "      <td>8</td>\n",
       "      <td>318</td>\n",
       "      <td>135.000</td>\n",
       "      <td>3830</td>\n",
       "      <td>15.200</td>\n",
       "      <td>79</td>\n",
       "      <td>1</td>\n",
       "      <td>dodge st. regis</td>\n",
       "    </tr>\n",
       "    <tr>\n",
       "      <th>352</th>\n",
       "      <td>29</td>\n",
       "      <td>4</td>\n",
       "      <td>98</td>\n",
       "      <td>65.000</td>\n",
       "      <td>2380</td>\n",
       "      <td>20.700</td>\n",
       "      <td>81</td>\n",
       "      <td>1</td>\n",
       "      <td>ford escort 2h</td>\n",
       "    </tr>\n",
       "    <tr>\n",
       "      <th>351</th>\n",
       "      <td>34</td>\n",
       "      <td>4</td>\n",
       "      <td>98</td>\n",
       "      <td>65.000</td>\n",
       "      <td>2045</td>\n",
       "      <td>16.200</td>\n",
       "      <td>81</td>\n",
       "      <td>1</td>\n",
       "      <td>ford escort 4w</td>\n",
       "    </tr>\n",
       "    <tr>\n",
       "      <th>278</th>\n",
       "      <td>31</td>\n",
       "      <td>4</td>\n",
       "      <td>89</td>\n",
       "      <td>71.000</td>\n",
       "      <td>1990</td>\n",
       "      <td>14.900</td>\n",
       "      <td>78</td>\n",
       "      <td>2</td>\n",
       "      <td>volkswagen scirocco</td>\n",
       "    </tr>\n",
       "  </tbody>\n",
       "</table>\n",
       "</div>"
      ],
      "text/plain": [
       "     mpg  cylinders  displacement  horsepower  weight  acceleration  \\\n",
       "263   17          6           231     165.000    3445        13.400   \n",
       "288   18          8           318     135.000    3830        15.200   \n",
       "352   29          4            98      65.000    2380        20.700   \n",
       "351   34          4            98      65.000    2045        16.200   \n",
       "278   31          4            89      71.000    1990        14.900   \n",
       "\n",
       "     model_year  origin                       make_model  \n",
       "263          78       1  buick regal sport coupe (turbo)  \n",
       "288          79       1                  dodge st. regis  \n",
       "352          81       1                   ford escort 2h  \n",
       "351          81       1                   ford escort 4w  \n",
       "278          78       2              volkswagen scirocco  "
      ]
     },
     "execution_count": 29,
     "metadata": {},
     "output_type": "execute_result"
    }
   ],
   "source": [
    "df[df.make_model.str.contains('reg|sc')]"
   ]
  },
  {
   "cell_type": "markdown",
   "metadata": {},
   "source": [
    "A few examples of other regular expressions that can be used:\n",
    "\n",
    "    df.make_model.str.endswith('cobra')\n",
    "    df.make_model.str.replace('chevy', 'cheverlot') # old, new"
   ]
  },
  {
   "cell_type": "markdown",
   "metadata": {},
   "source": [
    "### Missing Values"
   ]
  },
  {
   "cell_type": "markdown",
   "metadata": {},
   "source": [
    "Filter for the rows where horsepower is null"
   ]
  },
  {
   "cell_type": "code",
   "execution_count": 30,
   "metadata": {
    "collapsed": false
   },
   "outputs": [
    {
     "data": {
      "text/html": [
       "<div>\n",
       "<table border=\"1\" class=\"dataframe\">\n",
       "  <thead>\n",
       "    <tr style=\"text-align: right;\">\n",
       "      <th></th>\n",
       "      <th>mpg</th>\n",
       "      <th>cylinders</th>\n",
       "      <th>displacement</th>\n",
       "      <th>horsepower</th>\n",
       "      <th>weight</th>\n",
       "      <th>acceleration</th>\n",
       "      <th>model_year</th>\n",
       "      <th>origin</th>\n",
       "      <th>make_model</th>\n",
       "    </tr>\n",
       "  </thead>\n",
       "  <tbody>\n",
       "    <tr>\n",
       "      <th>374</th>\n",
       "      <td>23</td>\n",
       "      <td>4</td>\n",
       "      <td>151</td>\n",
       "      <td>nan</td>\n",
       "      <td>3035</td>\n",
       "      <td>20.500</td>\n",
       "      <td>82</td>\n",
       "      <td>1</td>\n",
       "      <td>amc concord dl</td>\n",
       "    </tr>\n",
       "    <tr>\n",
       "      <th>126</th>\n",
       "      <td>21</td>\n",
       "      <td>6</td>\n",
       "      <td>200</td>\n",
       "      <td>nan</td>\n",
       "      <td>2875</td>\n",
       "      <td>17.000</td>\n",
       "      <td>74</td>\n",
       "      <td>1</td>\n",
       "      <td>ford maverick</td>\n",
       "    </tr>\n",
       "    <tr>\n",
       "      <th>336</th>\n",
       "      <td>23</td>\n",
       "      <td>4</td>\n",
       "      <td>140</td>\n",
       "      <td>nan</td>\n",
       "      <td>2905</td>\n",
       "      <td>14.300</td>\n",
       "      <td>80</td>\n",
       "      <td>1</td>\n",
       "      <td>ford mustang cobra</td>\n",
       "    </tr>\n",
       "    <tr>\n",
       "      <th>32</th>\n",
       "      <td>25</td>\n",
       "      <td>4</td>\n",
       "      <td>98</td>\n",
       "      <td>nan</td>\n",
       "      <td>2046</td>\n",
       "      <td>19.000</td>\n",
       "      <td>71</td>\n",
       "      <td>1</td>\n",
       "      <td>ford pinto</td>\n",
       "    </tr>\n",
       "    <tr>\n",
       "      <th>354</th>\n",
       "      <td>34</td>\n",
       "      <td>4</td>\n",
       "      <td>100</td>\n",
       "      <td>nan</td>\n",
       "      <td>2320</td>\n",
       "      <td>15.800</td>\n",
       "      <td>81</td>\n",
       "      <td>2</td>\n",
       "      <td>renault 18i</td>\n",
       "    </tr>\n",
       "    <tr>\n",
       "      <th>330</th>\n",
       "      <td>40</td>\n",
       "      <td>4</td>\n",
       "      <td>85</td>\n",
       "      <td>nan</td>\n",
       "      <td>1835</td>\n",
       "      <td>17.300</td>\n",
       "      <td>80</td>\n",
       "      <td>2</td>\n",
       "      <td>renault lecar deluxe</td>\n",
       "    </tr>\n",
       "  </tbody>\n",
       "</table>\n",
       "</div>"
      ],
      "text/plain": [
       "     mpg  cylinders  displacement  horsepower  weight  acceleration  \\\n",
       "374   23          4           151         nan    3035        20.500   \n",
       "126   21          6           200         nan    2875        17.000   \n",
       "336   23          4           140         nan    2905        14.300   \n",
       "32    25          4            98         nan    2046        19.000   \n",
       "354   34          4           100         nan    2320        15.800   \n",
       "330   40          4            85         nan    1835        17.300   \n",
       "\n",
       "     model_year  origin            make_model  \n",
       "374          82       1        amc concord dl  \n",
       "126          74       1         ford maverick  \n",
       "336          80       1    ford mustang cobra  \n",
       "32           71       1            ford pinto  \n",
       "354          81       2           renault 18i  \n",
       "330          80       2  renault lecar deluxe  "
      ]
     },
     "execution_count": 30,
     "metadata": {},
     "output_type": "execute_result"
    }
   ],
   "source": [
    "df[df['horsepower'].isnull()]"
   ]
  },
  {
   "cell_type": "markdown",
   "metadata": {},
   "source": [
    "The `dropna()` function can be used to drop all rows that contain a NaN value. The parameter inplace=True can be added to do this in place, but I want perserve the original dataframe for the next example. "
   ]
  },
  {
   "cell_type": "code",
   "execution_count": 31,
   "metadata": {
    "collapsed": false
   },
   "outputs": [
    {
     "data": {
      "text/plain": [
       "392"
      ]
     },
     "execution_count": 31,
     "metadata": {},
     "output_type": "execute_result"
    }
   ],
   "source": [
    "df2 = df.dropna()\n",
    "len(df2)"
   ]
  },
  {
   "cell_type": "markdown",
   "metadata": {},
   "source": [
    "Replace NaN with 0"
   ]
  },
  {
   "cell_type": "code",
   "execution_count": 32,
   "metadata": {
    "collapsed": false
   },
   "outputs": [],
   "source": [
    "df['horsepower'].fillna(0, inplace=True)"
   ]
  },
  {
   "cell_type": "markdown",
   "metadata": {},
   "source": [
    "### Working with strings\n",
    "\n",
    "Most Python string functions are replicated in the pandas DataFrame. \n",
    "\n",
    "The example below converts the 'make_model' column to all uppercase. There is also a `lower()` to convert to lowercase and `len()` that would return the length of each value. "
   ]
  },
  {
   "cell_type": "code",
   "execution_count": 33,
   "metadata": {
    "collapsed": false
   },
   "outputs": [
    {
     "data": {
      "text/plain": [
       "96     AMC AMBASSADOR BROUGHAM\n",
       "9           AMC AMBASSADOR DPL\n",
       "66          AMC AMBASSADOR SST\n",
       "315                AMC CONCORD\n",
       "257                AMC CONCORD\n",
       "Name: make_model, dtype: object"
      ]
     },
     "execution_count": 33,
     "metadata": {},
     "output_type": "execute_result"
    }
   ],
   "source": [
    "df['make_model'].str.upper().head()"
   ]
  },
  {
   "cell_type": "markdown",
   "metadata": {},
   "source": [
    "### Applying a Function to a DataFrame\n",
    "\n",
    "Write a function to specify the region based on the numeric value of origin. Mapping: 1. American, 2. European, 3. Japanese.  Then apply this function to the current dataframe and create a new column with the newly defined values."
   ]
  },
  {
   "cell_type": "code",
   "execution_count": 34,
   "metadata": {
    "collapsed": false
   },
   "outputs": [
    {
     "data": {
      "text/html": [
       "<div>\n",
       "<table border=\"1\" class=\"dataframe\">\n",
       "  <thead>\n",
       "    <tr style=\"text-align: right;\">\n",
       "      <th></th>\n",
       "      <th>mpg</th>\n",
       "      <th>cylinders</th>\n",
       "      <th>displacement</th>\n",
       "      <th>horsepower</th>\n",
       "      <th>weight</th>\n",
       "      <th>acceleration</th>\n",
       "      <th>model_year</th>\n",
       "      <th>origin</th>\n",
       "      <th>make_model</th>\n",
       "      <th>origin_region</th>\n",
       "    </tr>\n",
       "  </thead>\n",
       "  <tbody>\n",
       "    <tr>\n",
       "      <th>96</th>\n",
       "      <td>13</td>\n",
       "      <td>8</td>\n",
       "      <td>360</td>\n",
       "      <td>175.000</td>\n",
       "      <td>3821</td>\n",
       "      <td>11.000</td>\n",
       "      <td>73</td>\n",
       "      <td>1</td>\n",
       "      <td>amc ambassador brougham</td>\n",
       "      <td>American</td>\n",
       "    </tr>\n",
       "    <tr>\n",
       "      <th>9</th>\n",
       "      <td>15</td>\n",
       "      <td>8</td>\n",
       "      <td>390</td>\n",
       "      <td>190.000</td>\n",
       "      <td>3850</td>\n",
       "      <td>8.500</td>\n",
       "      <td>70</td>\n",
       "      <td>1</td>\n",
       "      <td>amc ambassador dpl</td>\n",
       "      <td>American</td>\n",
       "    </tr>\n",
       "    <tr>\n",
       "      <th>66</th>\n",
       "      <td>17</td>\n",
       "      <td>8</td>\n",
       "      <td>304</td>\n",
       "      <td>150.000</td>\n",
       "      <td>3672</td>\n",
       "      <td>11.500</td>\n",
       "      <td>72</td>\n",
       "      <td>1</td>\n",
       "      <td>amc ambassador sst</td>\n",
       "      <td>American</td>\n",
       "    </tr>\n",
       "    <tr>\n",
       "      <th>315</th>\n",
       "      <td>24</td>\n",
       "      <td>4</td>\n",
       "      <td>151</td>\n",
       "      <td>90.000</td>\n",
       "      <td>3003</td>\n",
       "      <td>20.100</td>\n",
       "      <td>80</td>\n",
       "      <td>1</td>\n",
       "      <td>amc concord</td>\n",
       "      <td>American</td>\n",
       "    </tr>\n",
       "    <tr>\n",
       "      <th>257</th>\n",
       "      <td>19</td>\n",
       "      <td>6</td>\n",
       "      <td>232</td>\n",
       "      <td>90.000</td>\n",
       "      <td>3210</td>\n",
       "      <td>17.200</td>\n",
       "      <td>78</td>\n",
       "      <td>1</td>\n",
       "      <td>amc concord</td>\n",
       "      <td>American</td>\n",
       "    </tr>\n",
       "  </tbody>\n",
       "</table>\n",
       "</div>"
      ],
      "text/plain": [
       "     mpg  cylinders  displacement  horsepower  weight  acceleration  \\\n",
       "96    13          8           360     175.000    3821        11.000   \n",
       "9     15          8           390     190.000    3850         8.500   \n",
       "66    17          8           304     150.000    3672        11.500   \n",
       "315   24          4           151      90.000    3003        20.100   \n",
       "257   19          6           232      90.000    3210        17.200   \n",
       "\n",
       "     model_year  origin               make_model origin_region  \n",
       "96           73       1  amc ambassador brougham      American  \n",
       "9            70       1       amc ambassador dpl      American  \n",
       "66           72       1       amc ambassador sst      American  \n",
       "315          80       1              amc concord      American  \n",
       "257          78       1              amc concord      American  "
      ]
     },
     "execution_count": 34,
     "metadata": {},
     "output_type": "execute_result"
    }
   ],
   "source": [
    "def region(df):\n",
    "    if df['origin'] == 1:\n",
    "        val = 'American'\n",
    "    elif df['origin'] == 2:\n",
    "        val = 'European'\n",
    "    elif df['origin'] ==3:\n",
    "        val = 'Japanese'\n",
    "    else:\n",
    "        val = ''\n",
    "    return val\n",
    "\n",
    "df['origin_region'] = df.apply(region, axis=1)  # axis=1 applies it column-wise\n",
    "        \n",
    "df.head()"
   ]
  },
  {
   "cell_type": "markdown",
   "metadata": {},
   "source": [
    "### Value Counts\n",
    "\n",
    "The count for each distinct cylinder value"
   ]
  },
  {
   "cell_type": "code",
   "execution_count": 35,
   "metadata": {
    "collapsed": false
   },
   "outputs": [
    {
     "data": {
      "text/plain": [
       "4    204\n",
       "8    103\n",
       "6     84\n",
       "3      4\n",
       "5      3\n",
       "Name: cylinders, dtype: int64"
      ]
     },
     "execution_count": 35,
     "metadata": {},
     "output_type": "execute_result"
    }
   ],
   "source": [
    "df['cylinders'].value_counts()"
   ]
  },
  {
   "cell_type": "markdown",
   "metadata": {},
   "source": [
    "### Groupby\n",
    "\n",
    "Count the total records in each origin_region"
   ]
  },
  {
   "cell_type": "code",
   "execution_count": 36,
   "metadata": {
    "collapsed": false
   },
   "outputs": [
    {
     "data": {
      "text/plain": [
       "origin_region\n",
       "American    249\n",
       "European     70\n",
       "Japanese     79\n",
       "dtype: int64"
      ]
     },
     "execution_count": 36,
     "metadata": {},
     "output_type": "execute_result"
    }
   ],
   "source": [
    "df.groupby('origin_region').size()"
   ]
  },
  {
   "cell_type": "markdown",
   "metadata": {},
   "source": [
    "Let's calculate the average mpg and horsepower per region"
   ]
  },
  {
   "cell_type": "code",
   "execution_count": 37,
   "metadata": {
    "collapsed": false
   },
   "outputs": [
    {
     "data": {
      "text/html": [
       "<div>\n",
       "<table border=\"1\" class=\"dataframe\">\n",
       "  <thead>\n",
       "    <tr style=\"text-align: right;\">\n",
       "      <th></th>\n",
       "      <th>horsepower</th>\n",
       "      <th>mpg</th>\n",
       "    </tr>\n",
       "    <tr>\n",
       "      <th>origin_region</th>\n",
       "      <th></th>\n",
       "      <th></th>\n",
       "    </tr>\n",
       "  </thead>\n",
       "  <tbody>\n",
       "    <tr>\n",
       "      <th>American</th>\n",
       "      <td>117.137</td>\n",
       "      <td>19.928</td>\n",
       "    </tr>\n",
       "    <tr>\n",
       "      <th>European</th>\n",
       "      <td>78.257</td>\n",
       "      <td>27.743</td>\n",
       "    </tr>\n",
       "    <tr>\n",
       "      <th>Japanese</th>\n",
       "      <td>79.835</td>\n",
       "      <td>30.241</td>\n",
       "    </tr>\n",
       "  </tbody>\n",
       "</table>\n",
       "</div>"
      ],
      "text/plain": [
       "               horsepower    mpg\n",
       "origin_region                   \n",
       "American          117.137 19.928\n",
       "European           78.257 27.743\n",
       "Japanese           79.835 30.241"
      ]
     },
     "execution_count": 37,
     "metadata": {},
     "output_type": "execute_result"
    }
   ],
   "source": [
    "df_region = df.groupby(['origin_region']).agg({'mpg':np.mean, 'horsepower':np.mean})\n",
    "df_region"
   ]
  },
  {
   "cell_type": "markdown",
   "metadata": {},
   "source": [
    "To avoid the headers being offset like they are above, we can add the parameter `as_index=False` when doing the groupby"
   ]
  },
  {
   "cell_type": "code",
   "execution_count": 38,
   "metadata": {
    "collapsed": false
   },
   "outputs": [
    {
     "data": {
      "text/html": [
       "<div>\n",
       "<table border=\"1\" class=\"dataframe\">\n",
       "  <thead>\n",
       "    <tr style=\"text-align: right;\">\n",
       "      <th></th>\n",
       "      <th>origin_region</th>\n",
       "      <th>horsepower</th>\n",
       "      <th>mpg</th>\n",
       "    </tr>\n",
       "  </thead>\n",
       "  <tbody>\n",
       "    <tr>\n",
       "      <th>0</th>\n",
       "      <td>American</td>\n",
       "      <td>117.137</td>\n",
       "      <td>19.928</td>\n",
       "    </tr>\n",
       "    <tr>\n",
       "      <th>1</th>\n",
       "      <td>European</td>\n",
       "      <td>78.257</td>\n",
       "      <td>27.743</td>\n",
       "    </tr>\n",
       "    <tr>\n",
       "      <th>2</th>\n",
       "      <td>Japanese</td>\n",
       "      <td>79.835</td>\n",
       "      <td>30.241</td>\n",
       "    </tr>\n",
       "  </tbody>\n",
       "</table>\n",
       "</div>"
      ],
      "text/plain": [
       "  origin_region  horsepower    mpg\n",
       "0      American     117.137 19.928\n",
       "1      European      78.257 27.743\n",
       "2      Japanese      79.835 30.241"
      ]
     },
     "execution_count": 38,
     "metadata": {},
     "output_type": "execute_result"
    }
   ],
   "source": [
    "df_region = df.groupby(['origin_region'], as_index=False).agg({'mpg':np.mean, 'horsepower':np.mean})\n",
    "df_region"
   ]
  },
  {
   "cell_type": "markdown",
   "metadata": {},
   "source": [
    "Let's calculate the minimum and maximum acceleration per region"
   ]
  },
  {
   "cell_type": "code",
   "execution_count": 39,
   "metadata": {
    "collapsed": false
   },
   "outputs": [
    {
     "data": {
      "text/html": [
       "<div>\n",
       "<table border=\"1\" class=\"dataframe\">\n",
       "  <thead>\n",
       "    <tr>\n",
       "      <th></th>\n",
       "      <th>origin_region</th>\n",
       "      <th colspan=\"2\" halign=\"left\">mpg</th>\n",
       "    </tr>\n",
       "    <tr>\n",
       "      <th></th>\n",
       "      <th></th>\n",
       "      <th>amin</th>\n",
       "      <th>amax</th>\n",
       "    </tr>\n",
       "  </thead>\n",
       "  <tbody>\n",
       "    <tr>\n",
       "      <th>0</th>\n",
       "      <td>American</td>\n",
       "      <td>9</td>\n",
       "      <td>39</td>\n",
       "    </tr>\n",
       "    <tr>\n",
       "      <th>1</th>\n",
       "      <td>European</td>\n",
       "      <td>16</td>\n",
       "      <td>44</td>\n",
       "    </tr>\n",
       "    <tr>\n",
       "      <th>2</th>\n",
       "      <td>Japanese</td>\n",
       "      <td>18</td>\n",
       "      <td>46</td>\n",
       "    </tr>\n",
       "  </tbody>\n",
       "</table>\n",
       "</div>"
      ],
      "text/plain": [
       "  origin_region  mpg     \n",
       "                amin amax\n",
       "0      American    9   39\n",
       "1      European   16   44\n",
       "2      Japanese   18   46"
      ]
     },
     "execution_count": 39,
     "metadata": {},
     "output_type": "execute_result"
    }
   ],
   "source": [
    "df_region = df.groupby(['origin_region'], as_index=False).agg({'mpg':[np.min, np.max]})\n",
    "df_region"
   ]
  },
  {
   "cell_type": "markdown",
   "metadata": {},
   "source": [
    "Pandas aggregation created a hierarchical index, we can flatten this by doing:"
   ]
  },
  {
   "cell_type": "code",
   "execution_count": 40,
   "metadata": {
    "collapsed": false
   },
   "outputs": [
    {
     "data": {
      "text/html": [
       "<div>\n",
       "<table border=\"1\" class=\"dataframe\">\n",
       "  <thead>\n",
       "    <tr style=\"text-align: right;\">\n",
       "      <th></th>\n",
       "      <th>origin_region</th>\n",
       "      <th>mpg amin</th>\n",
       "      <th>mpg amax</th>\n",
       "    </tr>\n",
       "  </thead>\n",
       "  <tbody>\n",
       "    <tr>\n",
       "      <th>0</th>\n",
       "      <td>American</td>\n",
       "      <td>9</td>\n",
       "      <td>39</td>\n",
       "    </tr>\n",
       "    <tr>\n",
       "      <th>1</th>\n",
       "      <td>European</td>\n",
       "      <td>16</td>\n",
       "      <td>44</td>\n",
       "    </tr>\n",
       "    <tr>\n",
       "      <th>2</th>\n",
       "      <td>Japanese</td>\n",
       "      <td>18</td>\n",
       "      <td>46</td>\n",
       "    </tr>\n",
       "  </tbody>\n",
       "</table>\n",
       "</div>"
      ],
      "text/plain": [
       "  origin_region  mpg amin  mpg amax\n",
       "0      American         9        39\n",
       "1      European        16        44\n",
       "2      Japanese        18        46"
      ]
     },
     "execution_count": 40,
     "metadata": {},
     "output_type": "execute_result"
    }
   ],
   "source": [
    "df_region.columns = [' '.join(col).strip() for col in df_region.columns.values]\n",
    "df_region"
   ]
  },
  {
   "cell_type": "markdown",
   "metadata": {},
   "source": [
    "### Pivot Table\n",
    "\n",
    "Take the average of all numeric columns for each origin_region"
   ]
  },
  {
   "cell_type": "code",
   "execution_count": 41,
   "metadata": {
    "collapsed": false
   },
   "outputs": [
    {
     "data": {
      "text/html": [
       "<div>\n",
       "<table border=\"1\" class=\"dataframe\">\n",
       "  <thead>\n",
       "    <tr style=\"text-align: right;\">\n",
       "      <th></th>\n",
       "      <th>acceleration</th>\n",
       "      <th>cylinders</th>\n",
       "      <th>displacement</th>\n",
       "      <th>horsepower</th>\n",
       "      <th>model_year</th>\n",
       "      <th>mpg</th>\n",
       "      <th>origin</th>\n",
       "      <th>weight</th>\n",
       "    </tr>\n",
       "    <tr>\n",
       "      <th>origin_region</th>\n",
       "      <th></th>\n",
       "      <th></th>\n",
       "      <th></th>\n",
       "      <th></th>\n",
       "      <th></th>\n",
       "      <th></th>\n",
       "      <th></th>\n",
       "      <th></th>\n",
       "    </tr>\n",
       "  </thead>\n",
       "  <tbody>\n",
       "    <tr>\n",
       "      <th>American</th>\n",
       "      <td>15.034</td>\n",
       "      <td>6.249</td>\n",
       "      <td>245.900</td>\n",
       "      <td>117.137</td>\n",
       "      <td>75.610</td>\n",
       "      <td>19.928</td>\n",
       "      <td>1.000</td>\n",
       "      <td>3,361.932</td>\n",
       "    </tr>\n",
       "    <tr>\n",
       "      <th>European</th>\n",
       "      <td>16.787</td>\n",
       "      <td>4.157</td>\n",
       "      <td>109.143</td>\n",
       "      <td>78.257</td>\n",
       "      <td>75.814</td>\n",
       "      <td>27.743</td>\n",
       "      <td>2.000</td>\n",
       "      <td>2,423.300</td>\n",
       "    </tr>\n",
       "    <tr>\n",
       "      <th>Japanese</th>\n",
       "      <td>16.172</td>\n",
       "      <td>4.101</td>\n",
       "      <td>102.709</td>\n",
       "      <td>79.835</td>\n",
       "      <td>77.443</td>\n",
       "      <td>30.241</td>\n",
       "      <td>3.000</td>\n",
       "      <td>2,221.228</td>\n",
       "    </tr>\n",
       "  </tbody>\n",
       "</table>\n",
       "</div>"
      ],
      "text/plain": [
       "               acceleration  cylinders  displacement  horsepower  model_year  \\\n",
       "origin_region                                                                  \n",
       "American             15.034      6.249       245.900     117.137      75.610   \n",
       "European             16.787      4.157       109.143      78.257      75.814   \n",
       "Japanese             16.172      4.101       102.709      79.835      77.443   \n",
       "\n",
       "                 mpg  origin    weight  \n",
       "origin_region                           \n",
       "American      19.928   1.000 3,361.932  \n",
       "European      27.743   2.000 2,423.300  \n",
       "Japanese      30.241   3.000 2,221.228  "
      ]
     },
     "execution_count": 41,
     "metadata": {},
     "output_type": "execute_result"
    }
   ],
   "source": [
    "pd.pivot_table(df, index=['origin_region'], aggfunc='mean')"
   ]
  },
  {
   "cell_type": "markdown",
   "metadata": {},
   "source": [
    "### Transpose a DataFrame"
   ]
  },
  {
   "cell_type": "code",
   "execution_count": 42,
   "metadata": {
    "collapsed": false
   },
   "outputs": [
    {
     "data": {
      "text/html": [
       "<div>\n",
       "<table border=\"1\" class=\"dataframe\">\n",
       "  <thead>\n",
       "    <tr style=\"text-align: right;\">\n",
       "      <th></th>\n",
       "      <th>96</th>\n",
       "      <th>9</th>\n",
       "      <th>66</th>\n",
       "      <th>315</th>\n",
       "      <th>257</th>\n",
       "      <th>261</th>\n",
       "      <th>374</th>\n",
       "      <th>283</th>\n",
       "      <th>107</th>\n",
       "      <th>33</th>\n",
       "      <th>...</th>\n",
       "      <th>179</th>\n",
       "      <th>207</th>\n",
       "      <th>275</th>\n",
       "      <th>360</th>\n",
       "      <th>326</th>\n",
       "      <th>394</th>\n",
       "      <th>309</th>\n",
       "      <th>197</th>\n",
       "      <th>325</th>\n",
       "      <th>293</th>\n",
       "    </tr>\n",
       "  </thead>\n",
       "  <tbody>\n",
       "    <tr>\n",
       "      <th>mpg</th>\n",
       "      <td>13</td>\n",
       "      <td>15</td>\n",
       "      <td>17</td>\n",
       "      <td>24</td>\n",
       "      <td>19</td>\n",
       "      <td>18</td>\n",
       "      <td>23</td>\n",
       "      <td>20</td>\n",
       "      <td>18</td>\n",
       "      <td>19</td>\n",
       "      <td>...</td>\n",
       "      <td>22</td>\n",
       "      <td>20</td>\n",
       "      <td>17</td>\n",
       "      <td>30</td>\n",
       "      <td>43</td>\n",
       "      <td>44</td>\n",
       "      <td>41</td>\n",
       "      <td>29</td>\n",
       "      <td>44</td>\n",
       "      <td>31</td>\n",
       "    </tr>\n",
       "    <tr>\n",
       "      <th>cylinders</th>\n",
       "      <td>8</td>\n",
       "      <td>8</td>\n",
       "      <td>8</td>\n",
       "      <td>4</td>\n",
       "      <td>6</td>\n",
       "      <td>6</td>\n",
       "      <td>4</td>\n",
       "      <td>6</td>\n",
       "      <td>6</td>\n",
       "      <td>6</td>\n",
       "      <td>...</td>\n",
       "      <td>4</td>\n",
       "      <td>4</td>\n",
       "      <td>6</td>\n",
       "      <td>6</td>\n",
       "      <td>4</td>\n",
       "      <td>4</td>\n",
       "      <td>4</td>\n",
       "      <td>4</td>\n",
       "      <td>4</td>\n",
       "      <td>4</td>\n",
       "    </tr>\n",
       "    <tr>\n",
       "      <th>displacement</th>\n",
       "      <td>360</td>\n",
       "      <td>390</td>\n",
       "      <td>304</td>\n",
       "      <td>151</td>\n",
       "      <td>232</td>\n",
       "      <td>258</td>\n",
       "      <td>151</td>\n",
       "      <td>232</td>\n",
       "      <td>232</td>\n",
       "      <td>232</td>\n",
       "      <td>...</td>\n",
       "      <td>121</td>\n",
       "      <td>130</td>\n",
       "      <td>163</td>\n",
       "      <td>145</td>\n",
       "      <td>90</td>\n",
       "      <td>97</td>\n",
       "      <td>98</td>\n",
       "      <td>90</td>\n",
       "      <td>90</td>\n",
       "      <td>89</td>\n",
       "    </tr>\n",
       "    <tr>\n",
       "      <th>horsepower</th>\n",
       "      <td>175.000</td>\n",
       "      <td>190.000</td>\n",
       "      <td>150.000</td>\n",
       "      <td>90.000</td>\n",
       "      <td>90.000</td>\n",
       "      <td>120.000</td>\n",
       "      <td>0.000</td>\n",
       "      <td>90.000</td>\n",
       "      <td>100.000</td>\n",
       "      <td>100.000</td>\n",
       "      <td>...</td>\n",
       "      <td>98.000</td>\n",
       "      <td>102.000</td>\n",
       "      <td>125.000</td>\n",
       "      <td>76.000</td>\n",
       "      <td>48.000</td>\n",
       "      <td>52.000</td>\n",
       "      <td>76.000</td>\n",
       "      <td>70.000</td>\n",
       "      <td>48.000</td>\n",
       "      <td>71.000</td>\n",
       "    </tr>\n",
       "    <tr>\n",
       "      <th>weight</th>\n",
       "      <td>3821</td>\n",
       "      <td>3850</td>\n",
       "      <td>3672</td>\n",
       "      <td>3003</td>\n",
       "      <td>3210</td>\n",
       "      <td>3410</td>\n",
       "      <td>3035</td>\n",
       "      <td>3265</td>\n",
       "      <td>2789</td>\n",
       "      <td>2634</td>\n",
       "      <td>...</td>\n",
       "      <td>2945</td>\n",
       "      <td>3150</td>\n",
       "      <td>3140</td>\n",
       "      <td>3160</td>\n",
       "      <td>2335</td>\n",
       "      <td>2130</td>\n",
       "      <td>2144</td>\n",
       "      <td>1937</td>\n",
       "      <td>2085</td>\n",
       "      <td>1925</td>\n",
       "    </tr>\n",
       "    <tr>\n",
       "      <th>acceleration</th>\n",
       "      <td>11.000</td>\n",
       "      <td>8.500</td>\n",
       "      <td>11.500</td>\n",
       "      <td>20.100</td>\n",
       "      <td>17.200</td>\n",
       "      <td>15.100</td>\n",
       "      <td>20.500</td>\n",
       "      <td>18.200</td>\n",
       "      <td>15.000</td>\n",
       "      <td>13.000</td>\n",
       "      <td>...</td>\n",
       "      <td>14.500</td>\n",
       "      <td>15.700</td>\n",
       "      <td>13.600</td>\n",
       "      <td>19.600</td>\n",
       "      <td>23.700</td>\n",
       "      <td>24.600</td>\n",
       "      <td>14.700</td>\n",
       "      <td>14.200</td>\n",
       "      <td>21.700</td>\n",
       "      <td>14.000</td>\n",
       "    </tr>\n",
       "    <tr>\n",
       "      <th>model_year</th>\n",
       "      <td>73</td>\n",
       "      <td>70</td>\n",
       "      <td>72</td>\n",
       "      <td>80</td>\n",
       "      <td>78</td>\n",
       "      <td>78</td>\n",
       "      <td>82</td>\n",
       "      <td>79</td>\n",
       "      <td>73</td>\n",
       "      <td>71</td>\n",
       "      <td>...</td>\n",
       "      <td>75</td>\n",
       "      <td>76</td>\n",
       "      <td>78</td>\n",
       "      <td>81</td>\n",
       "      <td>80</td>\n",
       "      <td>82</td>\n",
       "      <td>80</td>\n",
       "      <td>76</td>\n",
       "      <td>80</td>\n",
       "      <td>79</td>\n",
       "    </tr>\n",
       "    <tr>\n",
       "      <th>origin</th>\n",
       "      <td>1</td>\n",
       "      <td>1</td>\n",
       "      <td>1</td>\n",
       "      <td>1</td>\n",
       "      <td>1</td>\n",
       "      <td>1</td>\n",
       "      <td>1</td>\n",
       "      <td>1</td>\n",
       "      <td>1</td>\n",
       "      <td>1</td>\n",
       "      <td>...</td>\n",
       "      <td>2</td>\n",
       "      <td>2</td>\n",
       "      <td>2</td>\n",
       "      <td>2</td>\n",
       "      <td>2</td>\n",
       "      <td>2</td>\n",
       "      <td>2</td>\n",
       "      <td>2</td>\n",
       "      <td>2</td>\n",
       "      <td>2</td>\n",
       "    </tr>\n",
       "    <tr>\n",
       "      <th>make_model</th>\n",
       "      <td>amc ambassador brougham</td>\n",
       "      <td>amc ambassador dpl</td>\n",
       "      <td>amc ambassador sst</td>\n",
       "      <td>amc concord</td>\n",
       "      <td>amc concord</td>\n",
       "      <td>amc concord d/l</td>\n",
       "      <td>amc concord dl</td>\n",
       "      <td>amc concord dl 6</td>\n",
       "      <td>amc gremlin</td>\n",
       "      <td>amc gremlin</td>\n",
       "      <td>...</td>\n",
       "      <td>volvo 244dl</td>\n",
       "      <td>volvo 245</td>\n",
       "      <td>volvo 264gl</td>\n",
       "      <td>volvo diesel</td>\n",
       "      <td>vw dasher (diesel)</td>\n",
       "      <td>vw pickup</td>\n",
       "      <td>vw rabbit</td>\n",
       "      <td>vw rabbit</td>\n",
       "      <td>vw rabbit c (diesel)</td>\n",
       "      <td>vw rabbit custom</td>\n",
       "    </tr>\n",
       "    <tr>\n",
       "      <th>origin_region</th>\n",
       "      <td>American</td>\n",
       "      <td>American</td>\n",
       "      <td>American</td>\n",
       "      <td>American</td>\n",
       "      <td>American</td>\n",
       "      <td>American</td>\n",
       "      <td>American</td>\n",
       "      <td>American</td>\n",
       "      <td>American</td>\n",
       "      <td>American</td>\n",
       "      <td>...</td>\n",
       "      <td>European</td>\n",
       "      <td>European</td>\n",
       "      <td>European</td>\n",
       "      <td>European</td>\n",
       "      <td>European</td>\n",
       "      <td>European</td>\n",
       "      <td>European</td>\n",
       "      <td>European</td>\n",
       "      <td>European</td>\n",
       "      <td>European</td>\n",
       "    </tr>\n",
       "  </tbody>\n",
       "</table>\n",
       "<p>10 rows × 398 columns</p>\n",
       "</div>"
      ],
      "text/plain": [
       "                                   96                  9    \\\n",
       "mpg                                 13                  15   \n",
       "cylinders                            8                   8   \n",
       "displacement                       360                 390   \n",
       "horsepower                     175.000             190.000   \n",
       "weight                            3821                3850   \n",
       "acceleration                    11.000               8.500   \n",
       "model_year                          73                  70   \n",
       "origin                               1                   1   \n",
       "make_model     amc ambassador brougham  amc ambassador dpl   \n",
       "origin_region                 American            American   \n",
       "\n",
       "                              66           315          257              261  \\\n",
       "mpg                            17           24           19               18   \n",
       "cylinders                       8            4            6                6   \n",
       "displacement                  304          151          232              258   \n",
       "horsepower                150.000       90.000       90.000          120.000   \n",
       "weight                       3672         3003         3210             3410   \n",
       "acceleration               11.500       20.100       17.200           15.100   \n",
       "model_year                     72           80           78               78   \n",
       "origin                          1            1            1                1   \n",
       "make_model     amc ambassador sst  amc concord  amc concord  amc concord d/l   \n",
       "origin_region            American     American     American         American   \n",
       "\n",
       "                          374               283          107          33   \\\n",
       "mpg                        23                20           18           19   \n",
       "cylinders                   4                 6            6            6   \n",
       "displacement              151               232          232          232   \n",
       "horsepower              0.000            90.000      100.000      100.000   \n",
       "weight                   3035              3265         2789         2634   \n",
       "acceleration           20.500            18.200       15.000       13.000   \n",
       "model_year                 82                79           73           71   \n",
       "origin                      1                 1            1            1   \n",
       "make_model     amc concord dl  amc concord dl 6  amc gremlin  amc gremlin   \n",
       "origin_region        American          American     American     American   \n",
       "\n",
       "                     ...                 179        207          275  \\\n",
       "mpg                  ...                  22         20           17   \n",
       "cylinders            ...                   4          4            6   \n",
       "displacement         ...                 121        130          163   \n",
       "horsepower           ...              98.000    102.000      125.000   \n",
       "weight               ...                2945       3150         3140   \n",
       "acceleration         ...              14.500     15.700       13.600   \n",
       "model_year           ...                  75         76           78   \n",
       "origin               ...                   2          2            2   \n",
       "make_model           ...         volvo 244dl  volvo 245  volvo 264gl   \n",
       "origin_region        ...            European   European     European   \n",
       "\n",
       "                        360                 326        394        309  \\\n",
       "mpg                      30                  43         44         41   \n",
       "cylinders                 6                   4          4          4   \n",
       "displacement            145                  90         97         98   \n",
       "horsepower           76.000              48.000     52.000     76.000   \n",
       "weight                 3160                2335       2130       2144   \n",
       "acceleration         19.600              23.700     24.600     14.700   \n",
       "model_year               81                  80         82         80   \n",
       "origin                    2                   2          2          2   \n",
       "make_model     volvo diesel  vw dasher (diesel)  vw pickup  vw rabbit   \n",
       "origin_region      European            European   European   European   \n",
       "\n",
       "                     197                   325               293  \n",
       "mpg                   29                    44                31  \n",
       "cylinders              4                     4                 4  \n",
       "displacement          90                    90                89  \n",
       "horsepower        70.000                48.000            71.000  \n",
       "weight              1937                  2085              1925  \n",
       "acceleration      14.200                21.700            14.000  \n",
       "model_year            76                    80                79  \n",
       "origin                 2                     2                 2  \n",
       "make_model     vw rabbit  vw rabbit c (diesel)  vw rabbit custom  \n",
       "origin_region   European              European          European  \n",
       "\n",
       "[10 rows x 398 columns]"
      ]
     },
     "execution_count": 42,
     "metadata": {},
     "output_type": "execute_result"
    }
   ],
   "source": [
    "df.transpose()"
   ]
  },
  {
   "cell_type": "markdown",
   "metadata": {},
   "source": [
    "The index becomes the column names. Remember the index is based on the data we read in and since we've sorted by the 'make_model' column the index now appears out of order.\n",
    "\n",
    "You can also add `head()` to only transpose n number of rows\n",
    "\n",
    "    df.head(1).transpose() # Transposes the dataframe keeping only the first row"
   ]
  },
  {
   "cell_type": "markdown",
   "metadata": {},
   "source": [
    "### Melt to Reshape the Data\n",
    "\n",
    "The `melt()` function 'unpivots' a DataFrame from wide format to long format. This can be usesful if you want one or more columns as identifier variables, while the other columns are considered measured variables. This can sometimes be useful in plotting."
   ]
  },
  {
   "cell_type": "code",
   "execution_count": 43,
   "metadata": {
    "collapsed": false
   },
   "outputs": [
    {
     "data": {
      "text/html": [
       "<div>\n",
       "<table border=\"1\" class=\"dataframe\">\n",
       "  <thead>\n",
       "    <tr style=\"text-align: right;\">\n",
       "      <th></th>\n",
       "      <th>origin_region</th>\n",
       "      <th>variable</th>\n",
       "      <th>value</th>\n",
       "    </tr>\n",
       "  </thead>\n",
       "  <tbody>\n",
       "    <tr>\n",
       "      <th>0</th>\n",
       "      <td>American</td>\n",
       "      <td>mpg</td>\n",
       "      <td>13</td>\n",
       "    </tr>\n",
       "    <tr>\n",
       "      <th>1</th>\n",
       "      <td>American</td>\n",
       "      <td>mpg</td>\n",
       "      <td>15</td>\n",
       "    </tr>\n",
       "    <tr>\n",
       "      <th>2</th>\n",
       "      <td>American</td>\n",
       "      <td>mpg</td>\n",
       "      <td>17</td>\n",
       "    </tr>\n",
       "    <tr>\n",
       "      <th>3</th>\n",
       "      <td>American</td>\n",
       "      <td>mpg</td>\n",
       "      <td>24</td>\n",
       "    </tr>\n",
       "    <tr>\n",
       "      <th>4</th>\n",
       "      <td>American</td>\n",
       "      <td>mpg</td>\n",
       "      <td>19</td>\n",
       "    </tr>\n",
       "  </tbody>\n",
       "</table>\n",
       "</div>"
      ],
      "text/plain": [
       "  origin_region variable  value\n",
       "0      American      mpg     13\n",
       "1      American      mpg     15\n",
       "2      American      mpg     17\n",
       "3      American      mpg     24\n",
       "4      American      mpg     19"
      ]
     },
     "execution_count": 43,
     "metadata": {},
     "output_type": "execute_result"
    }
   ],
   "source": [
    "pd.melt(df, id_vars=['origin_region'], value_vars=['mpg']).head()"
   ]
  },
  {
   "cell_type": "markdown",
   "metadata": {},
   "source": [
    "### Indexing"
   ]
  },
  {
   "cell_type": "markdown",
   "metadata": {},
   "source": [
    "#### Convert Index to a Column"
   ]
  },
  {
   "cell_type": "code",
   "execution_count": 44,
   "metadata": {
    "collapsed": false
   },
   "outputs": [
    {
     "data": {
      "text/html": [
       "<div>\n",
       "<table border=\"1\" class=\"dataframe\">\n",
       "  <thead>\n",
       "    <tr style=\"text-align: right;\">\n",
       "      <th></th>\n",
       "      <th>index</th>\n",
       "      <th>mpg</th>\n",
       "      <th>cylinders</th>\n",
       "      <th>displacement</th>\n",
       "      <th>horsepower</th>\n",
       "      <th>weight</th>\n",
       "      <th>acceleration</th>\n",
       "      <th>model_year</th>\n",
       "      <th>origin</th>\n",
       "      <th>make_model</th>\n",
       "      <th>origin_region</th>\n",
       "    </tr>\n",
       "  </thead>\n",
       "  <tbody>\n",
       "    <tr>\n",
       "      <th>0</th>\n",
       "      <td>96</td>\n",
       "      <td>13</td>\n",
       "      <td>8</td>\n",
       "      <td>360</td>\n",
       "      <td>175.000</td>\n",
       "      <td>3821</td>\n",
       "      <td>11.000</td>\n",
       "      <td>73</td>\n",
       "      <td>1</td>\n",
       "      <td>amc ambassador brougham</td>\n",
       "      <td>American</td>\n",
       "    </tr>\n",
       "    <tr>\n",
       "      <th>1</th>\n",
       "      <td>9</td>\n",
       "      <td>15</td>\n",
       "      <td>8</td>\n",
       "      <td>390</td>\n",
       "      <td>190.000</td>\n",
       "      <td>3850</td>\n",
       "      <td>8.500</td>\n",
       "      <td>70</td>\n",
       "      <td>1</td>\n",
       "      <td>amc ambassador dpl</td>\n",
       "      <td>American</td>\n",
       "    </tr>\n",
       "    <tr>\n",
       "      <th>2</th>\n",
       "      <td>66</td>\n",
       "      <td>17</td>\n",
       "      <td>8</td>\n",
       "      <td>304</td>\n",
       "      <td>150.000</td>\n",
       "      <td>3672</td>\n",
       "      <td>11.500</td>\n",
       "      <td>72</td>\n",
       "      <td>1</td>\n",
       "      <td>amc ambassador sst</td>\n",
       "      <td>American</td>\n",
       "    </tr>\n",
       "    <tr>\n",
       "      <th>3</th>\n",
       "      <td>315</td>\n",
       "      <td>24</td>\n",
       "      <td>4</td>\n",
       "      <td>151</td>\n",
       "      <td>90.000</td>\n",
       "      <td>3003</td>\n",
       "      <td>20.100</td>\n",
       "      <td>80</td>\n",
       "      <td>1</td>\n",
       "      <td>amc concord</td>\n",
       "      <td>American</td>\n",
       "    </tr>\n",
       "    <tr>\n",
       "      <th>4</th>\n",
       "      <td>257</td>\n",
       "      <td>19</td>\n",
       "      <td>6</td>\n",
       "      <td>232</td>\n",
       "      <td>90.000</td>\n",
       "      <td>3210</td>\n",
       "      <td>17.200</td>\n",
       "      <td>78</td>\n",
       "      <td>1</td>\n",
       "      <td>amc concord</td>\n",
       "      <td>American</td>\n",
       "    </tr>\n",
       "  </tbody>\n",
       "</table>\n",
       "</div>"
      ],
      "text/plain": [
       "   index  mpg  cylinders  displacement  horsepower  weight  acceleration  \\\n",
       "0     96   13          8           360     175.000    3821        11.000   \n",
       "1      9   15          8           390     190.000    3850         8.500   \n",
       "2     66   17          8           304     150.000    3672        11.500   \n",
       "3    315   24          4           151      90.000    3003        20.100   \n",
       "4    257   19          6           232      90.000    3210        17.200   \n",
       "\n",
       "   model_year  origin               make_model origin_region  \n",
       "0          73       1  amc ambassador brougham      American  \n",
       "1          70       1       amc ambassador dpl      American  \n",
       "2          72       1       amc ambassador sst      American  \n",
       "3          80       1              amc concord      American  \n",
       "4          78       1              amc concord      American  "
      ]
     },
     "execution_count": 44,
     "metadata": {},
     "output_type": "execute_result"
    }
   ],
   "source": [
    "df.reset_index(level=0).head() #The index becomes a column & the actual index is reset"
   ]
  },
  {
   "cell_type": "markdown",
   "metadata": {},
   "source": [
    "#### Set One of the Columns to be the Index\n",
    "\n",
    "I'm going to create a dummy DataFrame for this example since our DataFrame doesn't have any columns with unique values."
   ]
  },
  {
   "cell_type": "code",
   "execution_count": 45,
   "metadata": {
    "collapsed": false
   },
   "outputs": [
    {
     "data": {
      "text/html": [
       "<div>\n",
       "<table border=\"1\" class=\"dataframe\">\n",
       "  <thead>\n",
       "    <tr style=\"text-align: right;\">\n",
       "      <th></th>\n",
       "      <th>data1</th>\n",
       "      <th>data2</th>\n",
       "      <th>id</th>\n",
       "    </tr>\n",
       "  </thead>\n",
       "  <tbody>\n",
       "    <tr>\n",
       "      <th>0</th>\n",
       "      <td>-0.582</td>\n",
       "      <td>-2.121</td>\n",
       "      <td>1</td>\n",
       "    </tr>\n",
       "    <tr>\n",
       "      <th>1</th>\n",
       "      <td>0.098</td>\n",
       "      <td>-0.492</td>\n",
       "      <td>2</td>\n",
       "    </tr>\n",
       "    <tr>\n",
       "      <th>2</th>\n",
       "      <td>-0.977</td>\n",
       "      <td>-0.549</td>\n",
       "      <td>3</td>\n",
       "    </tr>\n",
       "    <tr>\n",
       "      <th>3</th>\n",
       "      <td>-0.170</td>\n",
       "      <td>-0.081</td>\n",
       "      <td>4</td>\n",
       "    </tr>\n",
       "  </tbody>\n",
       "</table>\n",
       "</div>"
      ],
      "text/plain": [
       "   data1  data2  id\n",
       "0 -0.582 -2.121   1\n",
       "1  0.098 -0.492   2\n",
       "2 -0.977 -0.549   3\n",
       "3 -0.170 -0.081   4"
      ]
     },
     "execution_count": 45,
     "metadata": {},
     "output_type": "execute_result"
    }
   ],
   "source": [
    "data = pd.DataFrame({'id': [1, 2, 3, 4],\n",
    "                     'data1' : np.random.randn(4),\n",
    "                     'data2' : np.random.randn(4)})\n",
    "data"
   ]
  },
  {
   "cell_type": "code",
   "execution_count": 46,
   "metadata": {
    "collapsed": false
   },
   "outputs": [
    {
     "data": {
      "text/html": [
       "<div>\n",
       "<table border=\"1\" class=\"dataframe\">\n",
       "  <thead>\n",
       "    <tr style=\"text-align: right;\">\n",
       "      <th></th>\n",
       "      <th>data1</th>\n",
       "      <th>data2</th>\n",
       "    </tr>\n",
       "    <tr>\n",
       "      <th>id</th>\n",
       "      <th></th>\n",
       "      <th></th>\n",
       "    </tr>\n",
       "  </thead>\n",
       "  <tbody>\n",
       "    <tr>\n",
       "      <th>1</th>\n",
       "      <td>-0.582</td>\n",
       "      <td>-2.121</td>\n",
       "    </tr>\n",
       "    <tr>\n",
       "      <th>2</th>\n",
       "      <td>0.098</td>\n",
       "      <td>-0.492</td>\n",
       "    </tr>\n",
       "    <tr>\n",
       "      <th>3</th>\n",
       "      <td>-0.977</td>\n",
       "      <td>-0.549</td>\n",
       "    </tr>\n",
       "    <tr>\n",
       "      <th>4</th>\n",
       "      <td>-0.170</td>\n",
       "      <td>-0.081</td>\n",
       "    </tr>\n",
       "  </tbody>\n",
       "</table>\n",
       "</div>"
      ],
      "text/plain": [
       "    data1  data2\n",
       "id              \n",
       "1  -0.582 -2.121\n",
       "2   0.098 -0.492\n",
       "3  -0.977 -0.549\n",
       "4  -0.170 -0.081"
      ]
     },
     "execution_count": 46,
     "metadata": {},
     "output_type": "execute_result"
    }
   ],
   "source": [
    "data = data.set_index('id')\n",
    "data"
   ]
  },
  {
   "cell_type": "markdown",
   "metadata": {},
   "source": [
    "The column label becomes the index name (\"id\"), to remove this we can do:"
   ]
  },
  {
   "cell_type": "code",
   "execution_count": 47,
   "metadata": {
    "collapsed": false
   },
   "outputs": [
    {
     "data": {
      "text/html": [
       "<div>\n",
       "<table border=\"1\" class=\"dataframe\">\n",
       "  <thead>\n",
       "    <tr style=\"text-align: right;\">\n",
       "      <th></th>\n",
       "      <th>data1</th>\n",
       "      <th>data2</th>\n",
       "    </tr>\n",
       "  </thead>\n",
       "  <tbody>\n",
       "    <tr>\n",
       "      <th>1</th>\n",
       "      <td>-0.582</td>\n",
       "      <td>-2.121</td>\n",
       "    </tr>\n",
       "    <tr>\n",
       "      <th>2</th>\n",
       "      <td>0.098</td>\n",
       "      <td>-0.492</td>\n",
       "    </tr>\n",
       "    <tr>\n",
       "      <th>3</th>\n",
       "      <td>-0.977</td>\n",
       "      <td>-0.549</td>\n",
       "    </tr>\n",
       "    <tr>\n",
       "      <th>4</th>\n",
       "      <td>-0.170</td>\n",
       "      <td>-0.081</td>\n",
       "    </tr>\n",
       "  </tbody>\n",
       "</table>\n",
       "</div>"
      ],
      "text/plain": [
       "   data1  data2\n",
       "1 -0.582 -2.121\n",
       "2  0.098 -0.492\n",
       "3 -0.977 -0.549\n",
       "4 -0.170 -0.081"
      ]
     },
     "execution_count": 47,
     "metadata": {},
     "output_type": "execute_result"
    }
   ],
   "source": [
    "data.index.name = None\n",
    "data"
   ]
  },
  {
   "cell_type": "markdown",
   "metadata": {},
   "source": [
    "#### iloc & loc\n",
    "We already saw how we can select columns, but we can also select data based on row labels. The way to retrieve data based on row labels depends on if row labels are numerical or label based.\n",
    "\n",
    "If your rows have numerical indices, then use `.iloc`.\n",
    "\n",
    "If your rows have an index of strings use `.loc`.\n",
    "\n",
    "First, let's create a dummy dataframe with age, average weight, and average height that we can use for these examples."
   ]
  },
  {
   "cell_type": "code",
   "execution_count": 48,
   "metadata": {
    "collapsed": false
   },
   "outputs": [
    {
     "data": {
      "text/html": [
       "<div>\n",
       "<table border=\"1\" class=\"dataframe\">\n",
       "  <thead>\n",
       "    <tr style=\"text-align: right;\">\n",
       "      <th></th>\n",
       "      <th>age</th>\n",
       "      <th>height</th>\n",
       "      <th>weight</th>\n",
       "    </tr>\n",
       "  </thead>\n",
       "  <tbody>\n",
       "    <tr>\n",
       "      <th>0</th>\n",
       "      <td>one</td>\n",
       "      <td>21.600</td>\n",
       "      <td>9.800</td>\n",
       "    </tr>\n",
       "    <tr>\n",
       "      <th>1</th>\n",
       "      <td>two</td>\n",
       "      <td>23.000</td>\n",
       "      <td>12.300</td>\n",
       "    </tr>\n",
       "    <tr>\n",
       "      <th>2</th>\n",
       "      <td>three</td>\n",
       "      <td>24.200</td>\n",
       "      <td>14.100</td>\n",
       "    </tr>\n",
       "    <tr>\n",
       "      <th>3</th>\n",
       "      <td>four</td>\n",
       "      <td>25.200</td>\n",
       "      <td>15.400</td>\n",
       "    </tr>\n",
       "    <tr>\n",
       "      <th>4</th>\n",
       "      <td>five</td>\n",
       "      <td>26.000</td>\n",
       "      <td>16.600</td>\n",
       "    </tr>\n",
       "  </tbody>\n",
       "</table>\n",
       "</div>"
      ],
      "text/plain": [
       "     age  height  weight\n",
       "0    one  21.600   9.800\n",
       "1    two  23.000  12.300\n",
       "2  three  24.200  14.100\n",
       "3   four  25.200  15.400\n",
       "4   five  26.000  16.600"
      ]
     },
     "execution_count": 48,
     "metadata": {},
     "output_type": "execute_result"
    }
   ],
   "source": [
    "ht_wgt = pd.DataFrame({'age': ['one', 'two', 'three', 'four', 'five'], \n",
    "                     'weight': [9.8, 12.3, 14.1, 15.4, 16.6],\n",
    "                     'height': [21.6, 23, 24.2, 25.2, 26]})\n",
    "\n",
    "ht_wgt"
   ]
  },
  {
   "cell_type": "code",
   "execution_count": 49,
   "metadata": {
    "collapsed": false
   },
   "outputs": [
    {
     "data": {
      "text/plain": [
       "age         two\n",
       "height   23.000\n",
       "weight   12.300\n",
       "Name: 1, dtype: object"
      ]
     },
     "execution_count": 49,
     "metadata": {},
     "output_type": "execute_result"
    }
   ],
   "source": [
    "ht_wgt.iloc[1] #This retrieves the second row (remember: starts at 0)"
   ]
  },
  {
   "cell_type": "markdown",
   "metadata": {},
   "source": [
    "We can set the age column to be the index. Since this is in strings, we then use `.loc` to reference the rows. "
   ]
  },
  {
   "cell_type": "code",
   "execution_count": 50,
   "metadata": {
    "collapsed": false
   },
   "outputs": [
    {
     "data": {
      "text/html": [
       "<div>\n",
       "<table border=\"1\" class=\"dataframe\">\n",
       "  <thead>\n",
       "    <tr style=\"text-align: right;\">\n",
       "      <th></th>\n",
       "      <th>height</th>\n",
       "      <th>weight</th>\n",
       "    </tr>\n",
       "    <tr>\n",
       "      <th>age</th>\n",
       "      <th></th>\n",
       "      <th></th>\n",
       "    </tr>\n",
       "  </thead>\n",
       "  <tbody>\n",
       "    <tr>\n",
       "      <th>one</th>\n",
       "      <td>21.600</td>\n",
       "      <td>9.800</td>\n",
       "    </tr>\n",
       "    <tr>\n",
       "      <th>two</th>\n",
       "      <td>23.000</td>\n",
       "      <td>12.300</td>\n",
       "    </tr>\n",
       "    <tr>\n",
       "      <th>three</th>\n",
       "      <td>24.200</td>\n",
       "      <td>14.100</td>\n",
       "    </tr>\n",
       "    <tr>\n",
       "      <th>four</th>\n",
       "      <td>25.200</td>\n",
       "      <td>15.400</td>\n",
       "    </tr>\n",
       "    <tr>\n",
       "      <th>five</th>\n",
       "      <td>26.000</td>\n",
       "      <td>16.600</td>\n",
       "    </tr>\n",
       "  </tbody>\n",
       "</table>\n",
       "</div>"
      ],
      "text/plain": [
       "       height  weight\n",
       "age                  \n",
       "one    21.600   9.800\n",
       "two    23.000  12.300\n",
       "three  24.200  14.100\n",
       "four   25.200  15.400\n",
       "five   26.000  16.600"
      ]
     },
     "execution_count": 50,
     "metadata": {},
     "output_type": "execute_result"
    }
   ],
   "source": [
    "ht_wgt = ht_wgt.set_index(['age']) # Make the age column the index\n",
    "ht_wgt"
   ]
  },
  {
   "cell_type": "code",
   "execution_count": 51,
   "metadata": {
    "collapsed": false
   },
   "outputs": [
    {
     "data": {
      "text/plain": [
       "height   24.200\n",
       "weight   14.100\n",
       "Name: three, dtype: float64"
      ]
     },
     "execution_count": 51,
     "metadata": {},
     "output_type": "execute_result"
    }
   ],
   "source": [
    "ht_wgt.loc['three'] # Retrieve the row where the index = 'three'"
   ]
  },
  {
   "cell_type": "markdown",
   "metadata": {},
   "source": [
    "### Merging & Concatenating DataFrames\n",
    "\n",
    "`merge()` and `join()` are essentially the same. They work similar to the SQL-like join operation.\n",
    "- `merge()` joins on common columns by default\n",
    "- `join()` joins on indexes by default\n",
    "\n",
    "`concat()` stacks dataframes side by side or one on top of another.\n",
    "\n",
    "First let's create two dummy DataFrames with data we can use for this example"
   ]
  },
  {
   "cell_type": "code",
   "execution_count": 52,
   "metadata": {
    "collapsed": false
   },
   "outputs": [],
   "source": [
    "demo = pd.DataFrame({'name': ['Emma', 'Sophia', 'Jacob', 'Adam'], \n",
    "                     'age': [24, 53, 35, 38], \n",
    "                     'marital_stat': ['S', 'M', 'M', 'S']})\n",
    "                               \n",
    "location = pd.DataFrame({'name': ['Emma', 'Sophia', 'Adam', 'William'], \n",
    "                         'city': ['Dallas', 'San Francisco', 'Orlando', 'San Diego']})"
   ]
  },
  {
   "cell_type": "code",
   "execution_count": 53,
   "metadata": {
    "collapsed": false
   },
   "outputs": [
    {
     "data": {
      "text/html": [
       "<div>\n",
       "<table border=\"1\" class=\"dataframe\">\n",
       "  <thead>\n",
       "    <tr style=\"text-align: right;\">\n",
       "      <th></th>\n",
       "      <th>age</th>\n",
       "      <th>marital_stat</th>\n",
       "      <th>name</th>\n",
       "    </tr>\n",
       "  </thead>\n",
       "  <tbody>\n",
       "    <tr>\n",
       "      <th>0</th>\n",
       "      <td>24</td>\n",
       "      <td>S</td>\n",
       "      <td>Emma</td>\n",
       "    </tr>\n",
       "    <tr>\n",
       "      <th>1</th>\n",
       "      <td>53</td>\n",
       "      <td>M</td>\n",
       "      <td>Sophia</td>\n",
       "    </tr>\n",
       "    <tr>\n",
       "      <th>2</th>\n",
       "      <td>35</td>\n",
       "      <td>M</td>\n",
       "      <td>Jacob</td>\n",
       "    </tr>\n",
       "    <tr>\n",
       "      <th>3</th>\n",
       "      <td>38</td>\n",
       "      <td>S</td>\n",
       "      <td>Adam</td>\n",
       "    </tr>\n",
       "  </tbody>\n",
       "</table>\n",
       "</div>"
      ],
      "text/plain": [
       "   age marital_stat    name\n",
       "0   24            S    Emma\n",
       "1   53            M  Sophia\n",
       "2   35            M   Jacob\n",
       "3   38            S    Adam"
      ]
     },
     "execution_count": 53,
     "metadata": {},
     "output_type": "execute_result"
    }
   ],
   "source": [
    "demo"
   ]
  },
  {
   "cell_type": "code",
   "execution_count": 54,
   "metadata": {
    "collapsed": false
   },
   "outputs": [
    {
     "data": {
      "text/html": [
       "<div>\n",
       "<table border=\"1\" class=\"dataframe\">\n",
       "  <thead>\n",
       "    <tr style=\"text-align: right;\">\n",
       "      <th></th>\n",
       "      <th>city</th>\n",
       "      <th>name</th>\n",
       "    </tr>\n",
       "  </thead>\n",
       "  <tbody>\n",
       "    <tr>\n",
       "      <th>0</th>\n",
       "      <td>Dallas</td>\n",
       "      <td>Emma</td>\n",
       "    </tr>\n",
       "    <tr>\n",
       "      <th>1</th>\n",
       "      <td>San Francisco</td>\n",
       "      <td>Sophia</td>\n",
       "    </tr>\n",
       "    <tr>\n",
       "      <th>2</th>\n",
       "      <td>Orlando</td>\n",
       "      <td>Adam</td>\n",
       "    </tr>\n",
       "    <tr>\n",
       "      <th>3</th>\n",
       "      <td>San Diego</td>\n",
       "      <td>William</td>\n",
       "    </tr>\n",
       "  </tbody>\n",
       "</table>\n",
       "</div>"
      ],
      "text/plain": [
       "            city     name\n",
       "0         Dallas     Emma\n",
       "1  San Francisco   Sophia\n",
       "2        Orlando     Adam\n",
       "3      San Diego  William"
      ]
     },
     "execution_count": 54,
     "metadata": {},
     "output_type": "execute_result"
    }
   ],
   "source": [
    "location"
   ]
  },
  {
   "cell_type": "markdown",
   "metadata": {},
   "source": [
    "Now let's do an inner join on these two DataFrames by “name” to only keep rows that match between the column in both DataFrames.\n",
    "\n",
    "By default `merge()` does an inner join, but you can specify 'left', 'right', or 'outer' joins."
   ]
  },
  {
   "cell_type": "code",
   "execution_count": 55,
   "metadata": {
    "collapsed": false
   },
   "outputs": [
    {
     "data": {
      "text/html": [
       "<div>\n",
       "<table border=\"1\" class=\"dataframe\">\n",
       "  <thead>\n",
       "    <tr style=\"text-align: right;\">\n",
       "      <th></th>\n",
       "      <th>age</th>\n",
       "      <th>marital_stat</th>\n",
       "      <th>name</th>\n",
       "      <th>city</th>\n",
       "    </tr>\n",
       "  </thead>\n",
       "  <tbody>\n",
       "    <tr>\n",
       "      <th>0</th>\n",
       "      <td>24</td>\n",
       "      <td>S</td>\n",
       "      <td>Emma</td>\n",
       "      <td>Dallas</td>\n",
       "    </tr>\n",
       "    <tr>\n",
       "      <th>1</th>\n",
       "      <td>53</td>\n",
       "      <td>M</td>\n",
       "      <td>Sophia</td>\n",
       "      <td>San Francisco</td>\n",
       "    </tr>\n",
       "    <tr>\n",
       "      <th>2</th>\n",
       "      <td>38</td>\n",
       "      <td>S</td>\n",
       "      <td>Adam</td>\n",
       "      <td>Orlando</td>\n",
       "    </tr>\n",
       "  </tbody>\n",
       "</table>\n",
       "</div>"
      ],
      "text/plain": [
       "   age marital_stat    name           city\n",
       "0   24            S    Emma         Dallas\n",
       "1   53            M  Sophia  San Francisco\n",
       "2   38            S    Adam        Orlando"
      ]
     },
     "execution_count": 55,
     "metadata": {},
     "output_type": "execute_result"
    }
   ],
   "source": [
    "merged_data = pd.merge(demo, location, how='inner')\n",
    "merged_data"
   ]
  },
  {
   "cell_type": "markdown",
   "metadata": {},
   "source": [
    "`concat()` function: set parameter `axis` equal to 0 for top/bottom concatenation and to 1 for left/right concatenation\n",
    "\n",
    "**Beware** in using concat, you can end up with duplicate rows or columns"
   ]
  },
  {
   "cell_type": "code",
   "execution_count": 56,
   "metadata": {
    "collapsed": false
   },
   "outputs": [
    {
     "data": {
      "text/html": [
       "<div>\n",
       "<table border=\"1\" class=\"dataframe\">\n",
       "  <thead>\n",
       "    <tr style=\"text-align: right;\">\n",
       "      <th></th>\n",
       "      <th>age</th>\n",
       "      <th>marital_stat</th>\n",
       "      <th>name</th>\n",
       "      <th>city</th>\n",
       "      <th>name</th>\n",
       "    </tr>\n",
       "  </thead>\n",
       "  <tbody>\n",
       "    <tr>\n",
       "      <th>0</th>\n",
       "      <td>24</td>\n",
       "      <td>S</td>\n",
       "      <td>Emma</td>\n",
       "      <td>Dallas</td>\n",
       "      <td>Emma</td>\n",
       "    </tr>\n",
       "    <tr>\n",
       "      <th>1</th>\n",
       "      <td>53</td>\n",
       "      <td>M</td>\n",
       "      <td>Sophia</td>\n",
       "      <td>San Francisco</td>\n",
       "      <td>Sophia</td>\n",
       "    </tr>\n",
       "    <tr>\n",
       "      <th>2</th>\n",
       "      <td>35</td>\n",
       "      <td>M</td>\n",
       "      <td>Jacob</td>\n",
       "      <td>Orlando</td>\n",
       "      <td>Adam</td>\n",
       "    </tr>\n",
       "    <tr>\n",
       "      <th>3</th>\n",
       "      <td>38</td>\n",
       "      <td>S</td>\n",
       "      <td>Adam</td>\n",
       "      <td>San Diego</td>\n",
       "      <td>William</td>\n",
       "    </tr>\n",
       "  </tbody>\n",
       "</table>\n",
       "</div>"
      ],
      "text/plain": [
       "   age marital_stat    name           city     name\n",
       "0   24            S    Emma         Dallas     Emma\n",
       "1   53            M  Sophia  San Francisco   Sophia\n",
       "2   35            M   Jacob        Orlando     Adam\n",
       "3   38            S    Adam      San Diego  William"
      ]
     },
     "execution_count": 56,
     "metadata": {},
     "output_type": "execute_result"
    }
   ],
   "source": [
    "concat_vert = pd.concat([demo, location], axis=1) #left/right\n",
    "concat_vert"
   ]
  },
  {
   "cell_type": "code",
   "execution_count": 57,
   "metadata": {
    "collapsed": false
   },
   "outputs": [
    {
     "data": {
      "text/html": [
       "<div>\n",
       "<table border=\"1\" class=\"dataframe\">\n",
       "  <thead>\n",
       "    <tr style=\"text-align: right;\">\n",
       "      <th></th>\n",
       "      <th>city</th>\n",
       "      <th>name</th>\n",
       "    </tr>\n",
       "  </thead>\n",
       "  <tbody>\n",
       "    <tr>\n",
       "      <th>0</th>\n",
       "      <td>Dallas</td>\n",
       "      <td>Emma</td>\n",
       "    </tr>\n",
       "    <tr>\n",
       "      <th>1</th>\n",
       "      <td>San Francisco</td>\n",
       "      <td>Sophia</td>\n",
       "    </tr>\n",
       "    <tr>\n",
       "      <th>2</th>\n",
       "      <td>Orlando</td>\n",
       "      <td>Adam</td>\n",
       "    </tr>\n",
       "    <tr>\n",
       "      <th>3</th>\n",
       "      <td>San Diego</td>\n",
       "      <td>William</td>\n",
       "    </tr>\n",
       "    <tr>\n",
       "      <th>0</th>\n",
       "      <td>Raleigh</td>\n",
       "      <td>Luke</td>\n",
       "    </tr>\n",
       "    <tr>\n",
       "      <th>1</th>\n",
       "      <td>New York</td>\n",
       "      <td>Peter</td>\n",
       "    </tr>\n",
       "  </tbody>\n",
       "</table>\n",
       "</div>"
      ],
      "text/plain": [
       "            city     name\n",
       "0         Dallas     Emma\n",
       "1  San Francisco   Sophia\n",
       "2        Orlando     Adam\n",
       "3      San Diego  William\n",
       "0        Raleigh     Luke\n",
       "1       New York    Peter"
      ]
     },
     "execution_count": 57,
     "metadata": {},
     "output_type": "execute_result"
    }
   ],
   "source": [
    "location2 = pd.DataFrame({'name': ['Luke', 'Peter'], \n",
    "                          'city': ['Raleigh', 'New York']})\n",
    "\n",
    "pd.concat([location, location2], axis=0) #top/bottom"
   ]
  },
  {
   "cell_type": "markdown",
   "metadata": {},
   "source": [
    "### Create a Copy of a DataFrame\n",
    "\n",
    "The pandas' `copy()` method makes a copy of the current dataframe, which will make it so that changes to one dataframe does not affect the other.\n",
    "\n",
    "*Correct way:*"
   ]
  },
  {
   "cell_type": "code",
   "execution_count": 58,
   "metadata": {
    "collapsed": false
   },
   "outputs": [
    {
     "data": {
      "text/html": [
       "<div>\n",
       "<table border=\"1\" class=\"dataframe\">\n",
       "  <thead>\n",
       "    <tr style=\"text-align: right;\">\n",
       "      <th></th>\n",
       "      <th>mpg</th>\n",
       "      <th>cylinders</th>\n",
       "      <th>displacement</th>\n",
       "      <th>horsepower</th>\n",
       "      <th>weight</th>\n",
       "      <th>acceleration</th>\n",
       "      <th>model_year</th>\n",
       "      <th>origin</th>\n",
       "      <th>make_model</th>\n",
       "      <th>origin_region</th>\n",
       "    </tr>\n",
       "  </thead>\n",
       "  <tbody>\n",
       "    <tr>\n",
       "      <th>96</th>\n",
       "      <td>13</td>\n",
       "      <td>8</td>\n",
       "      <td>360</td>\n",
       "      <td>175.000</td>\n",
       "      <td>3821</td>\n",
       "      <td>11.000</td>\n",
       "      <td>73</td>\n",
       "      <td>1</td>\n",
       "      <td>amc ambassador brougham</td>\n",
       "      <td>American</td>\n",
       "    </tr>\n",
       "    <tr>\n",
       "      <th>9</th>\n",
       "      <td>15</td>\n",
       "      <td>8</td>\n",
       "      <td>390</td>\n",
       "      <td>190.000</td>\n",
       "      <td>3850</td>\n",
       "      <td>8.500</td>\n",
       "      <td>70</td>\n",
       "      <td>1</td>\n",
       "      <td>amc ambassador dpl</td>\n",
       "      <td>American</td>\n",
       "    </tr>\n",
       "    <tr>\n",
       "      <th>66</th>\n",
       "      <td>17</td>\n",
       "      <td>8</td>\n",
       "      <td>304</td>\n",
       "      <td>150.000</td>\n",
       "      <td>3672</td>\n",
       "      <td>11.500</td>\n",
       "      <td>72</td>\n",
       "      <td>1</td>\n",
       "      <td>amc ambassador sst</td>\n",
       "      <td>American</td>\n",
       "    </tr>\n",
       "    <tr>\n",
       "      <th>315</th>\n",
       "      <td>24</td>\n",
       "      <td>4</td>\n",
       "      <td>151</td>\n",
       "      <td>90.000</td>\n",
       "      <td>3003</td>\n",
       "      <td>20.100</td>\n",
       "      <td>80</td>\n",
       "      <td>1</td>\n",
       "      <td>amc concord</td>\n",
       "      <td>American</td>\n",
       "    </tr>\n",
       "    <tr>\n",
       "      <th>257</th>\n",
       "      <td>19</td>\n",
       "      <td>6</td>\n",
       "      <td>232</td>\n",
       "      <td>90.000</td>\n",
       "      <td>3210</td>\n",
       "      <td>17.200</td>\n",
       "      <td>78</td>\n",
       "      <td>1</td>\n",
       "      <td>amc concord</td>\n",
       "      <td>American</td>\n",
       "    </tr>\n",
       "  </tbody>\n",
       "</table>\n",
       "</div>"
      ],
      "text/plain": [
       "     mpg  cylinders  displacement  horsepower  weight  acceleration  \\\n",
       "96    13          8           360     175.000    3821        11.000   \n",
       "9     15          8           390     190.000    3850         8.500   \n",
       "66    17          8           304     150.000    3672        11.500   \n",
       "315   24          4           151      90.000    3003        20.100   \n",
       "257   19          6           232      90.000    3210        17.200   \n",
       "\n",
       "     model_year  origin               make_model origin_region  \n",
       "96           73       1  amc ambassador brougham      American  \n",
       "9            70       1       amc ambassador dpl      American  \n",
       "66           72       1       amc ambassador sst      American  \n",
       "315          80       1              amc concord      American  \n",
       "257          78       1              amc concord      American  "
      ]
     },
     "execution_count": 58,
     "metadata": {},
     "output_type": "execute_result"
    }
   ],
   "source": [
    "df2 = df.copy()\n",
    "df2.head()"
   ]
  },
  {
   "cell_type": "code",
   "execution_count": 59,
   "metadata": {
    "collapsed": false
   },
   "outputs": [
    {
     "data": {
      "text/html": [
       "<div>\n",
       "<table border=\"1\" class=\"dataframe\">\n",
       "  <thead>\n",
       "    <tr style=\"text-align: right;\">\n",
       "      <th></th>\n",
       "      <th>mpg</th>\n",
       "      <th>cylinders</th>\n",
       "      <th>displacement</th>\n",
       "      <th>horsepower</th>\n",
       "      <th>weight</th>\n",
       "      <th>acceleration</th>\n",
       "      <th>model_year</th>\n",
       "      <th>origin</th>\n",
       "      <th>make_model</th>\n",
       "      <th>origin_region</th>\n",
       "      <th>test</th>\n",
       "    </tr>\n",
       "  </thead>\n",
       "  <tbody>\n",
       "    <tr>\n",
       "      <th>96</th>\n",
       "      <td>13</td>\n",
       "      <td>8</td>\n",
       "      <td>360</td>\n",
       "      <td>175.000</td>\n",
       "      <td>3821</td>\n",
       "      <td>11.000</td>\n",
       "      <td>73</td>\n",
       "      <td>1</td>\n",
       "      <td>amc ambassador brougham</td>\n",
       "      <td>American</td>\n",
       "      <td>1</td>\n",
       "    </tr>\n",
       "    <tr>\n",
       "      <th>9</th>\n",
       "      <td>15</td>\n",
       "      <td>8</td>\n",
       "      <td>390</td>\n",
       "      <td>190.000</td>\n",
       "      <td>3850</td>\n",
       "      <td>8.500</td>\n",
       "      <td>70</td>\n",
       "      <td>1</td>\n",
       "      <td>amc ambassador dpl</td>\n",
       "      <td>American</td>\n",
       "      <td>1</td>\n",
       "    </tr>\n",
       "    <tr>\n",
       "      <th>66</th>\n",
       "      <td>17</td>\n",
       "      <td>8</td>\n",
       "      <td>304</td>\n",
       "      <td>150.000</td>\n",
       "      <td>3672</td>\n",
       "      <td>11.500</td>\n",
       "      <td>72</td>\n",
       "      <td>1</td>\n",
       "      <td>amc ambassador sst</td>\n",
       "      <td>American</td>\n",
       "      <td>1</td>\n",
       "    </tr>\n",
       "    <tr>\n",
       "      <th>315</th>\n",
       "      <td>24</td>\n",
       "      <td>4</td>\n",
       "      <td>151</td>\n",
       "      <td>90.000</td>\n",
       "      <td>3003</td>\n",
       "      <td>20.100</td>\n",
       "      <td>80</td>\n",
       "      <td>1</td>\n",
       "      <td>amc concord</td>\n",
       "      <td>American</td>\n",
       "      <td>1</td>\n",
       "    </tr>\n",
       "    <tr>\n",
       "      <th>257</th>\n",
       "      <td>19</td>\n",
       "      <td>6</td>\n",
       "      <td>232</td>\n",
       "      <td>90.000</td>\n",
       "      <td>3210</td>\n",
       "      <td>17.200</td>\n",
       "      <td>78</td>\n",
       "      <td>1</td>\n",
       "      <td>amc concord</td>\n",
       "      <td>American</td>\n",
       "      <td>1</td>\n",
       "    </tr>\n",
       "  </tbody>\n",
       "</table>\n",
       "</div>"
      ],
      "text/plain": [
       "     mpg  cylinders  displacement  horsepower  weight  acceleration  \\\n",
       "96    13          8           360     175.000    3821        11.000   \n",
       "9     15          8           390     190.000    3850         8.500   \n",
       "66    17          8           304     150.000    3672        11.500   \n",
       "315   24          4           151      90.000    3003        20.100   \n",
       "257   19          6           232      90.000    3210        17.200   \n",
       "\n",
       "     model_year  origin               make_model origin_region  test  \n",
       "96           73       1  amc ambassador brougham      American     1  \n",
       "9            70       1       amc ambassador dpl      American     1  \n",
       "66           72       1       amc ambassador sst      American     1  \n",
       "315          80       1              amc concord      American     1  \n",
       "257          78       1              amc concord      American     1  "
      ]
     },
     "execution_count": 59,
     "metadata": {},
     "output_type": "execute_result"
    }
   ],
   "source": [
    "df['test'] = 1   # Add a new column to the original dataframe\n",
    "df.head()  # Verify it was changed"
   ]
  },
  {
   "cell_type": "code",
   "execution_count": 60,
   "metadata": {
    "collapsed": false
   },
   "outputs": [
    {
     "data": {
      "text/html": [
       "<div>\n",
       "<table border=\"1\" class=\"dataframe\">\n",
       "  <thead>\n",
       "    <tr style=\"text-align: right;\">\n",
       "      <th></th>\n",
       "      <th>mpg</th>\n",
       "      <th>cylinders</th>\n",
       "      <th>displacement</th>\n",
       "      <th>horsepower</th>\n",
       "      <th>weight</th>\n",
       "      <th>acceleration</th>\n",
       "      <th>model_year</th>\n",
       "      <th>origin</th>\n",
       "      <th>make_model</th>\n",
       "      <th>origin_region</th>\n",
       "    </tr>\n",
       "  </thead>\n",
       "  <tbody>\n",
       "    <tr>\n",
       "      <th>96</th>\n",
       "      <td>13</td>\n",
       "      <td>8</td>\n",
       "      <td>360</td>\n",
       "      <td>175.000</td>\n",
       "      <td>3821</td>\n",
       "      <td>11.000</td>\n",
       "      <td>73</td>\n",
       "      <td>1</td>\n",
       "      <td>amc ambassador brougham</td>\n",
       "      <td>American</td>\n",
       "    </tr>\n",
       "    <tr>\n",
       "      <th>9</th>\n",
       "      <td>15</td>\n",
       "      <td>8</td>\n",
       "      <td>390</td>\n",
       "      <td>190.000</td>\n",
       "      <td>3850</td>\n",
       "      <td>8.500</td>\n",
       "      <td>70</td>\n",
       "      <td>1</td>\n",
       "      <td>amc ambassador dpl</td>\n",
       "      <td>American</td>\n",
       "    </tr>\n",
       "    <tr>\n",
       "      <th>66</th>\n",
       "      <td>17</td>\n",
       "      <td>8</td>\n",
       "      <td>304</td>\n",
       "      <td>150.000</td>\n",
       "      <td>3672</td>\n",
       "      <td>11.500</td>\n",
       "      <td>72</td>\n",
       "      <td>1</td>\n",
       "      <td>amc ambassador sst</td>\n",
       "      <td>American</td>\n",
       "    </tr>\n",
       "    <tr>\n",
       "      <th>315</th>\n",
       "      <td>24</td>\n",
       "      <td>4</td>\n",
       "      <td>151</td>\n",
       "      <td>90.000</td>\n",
       "      <td>3003</td>\n",
       "      <td>20.100</td>\n",
       "      <td>80</td>\n",
       "      <td>1</td>\n",
       "      <td>amc concord</td>\n",
       "      <td>American</td>\n",
       "    </tr>\n",
       "    <tr>\n",
       "      <th>257</th>\n",
       "      <td>19</td>\n",
       "      <td>6</td>\n",
       "      <td>232</td>\n",
       "      <td>90.000</td>\n",
       "      <td>3210</td>\n",
       "      <td>17.200</td>\n",
       "      <td>78</td>\n",
       "      <td>1</td>\n",
       "      <td>amc concord</td>\n",
       "      <td>American</td>\n",
       "    </tr>\n",
       "  </tbody>\n",
       "</table>\n",
       "</div>"
      ],
      "text/plain": [
       "     mpg  cylinders  displacement  horsepower  weight  acceleration  \\\n",
       "96    13          8           360     175.000    3821        11.000   \n",
       "9     15          8           390     190.000    3850         8.500   \n",
       "66    17          8           304     150.000    3672        11.500   \n",
       "315   24          4           151      90.000    3003        20.100   \n",
       "257   19          6           232      90.000    3210        17.200   \n",
       "\n",
       "     model_year  origin               make_model origin_region  \n",
       "96           73       1  amc ambassador brougham      American  \n",
       "9            70       1       amc ambassador dpl      American  \n",
       "66           72       1       amc ambassador sst      American  \n",
       "315          80       1              amc concord      American  \n",
       "257          78       1              amc concord      American  "
      ]
     },
     "execution_count": 60,
     "metadata": {},
     "output_type": "execute_result"
    }
   ],
   "source": [
    "df2.head() # The new dataframe was not affected by the new column being added to the original dataframe"
   ]
  },
  {
   "cell_type": "markdown",
   "metadata": {},
   "source": [
    "*Wrong Way:*"
   ]
  },
  {
   "cell_type": "code",
   "execution_count": 61,
   "metadata": {
    "collapsed": false
   },
   "outputs": [
    {
     "data": {
      "text/html": [
       "<div>\n",
       "<table border=\"1\" class=\"dataframe\">\n",
       "  <thead>\n",
       "    <tr style=\"text-align: right;\">\n",
       "      <th></th>\n",
       "      <th>mpg</th>\n",
       "      <th>cylinders</th>\n",
       "      <th>displacement</th>\n",
       "      <th>horsepower</th>\n",
       "      <th>weight</th>\n",
       "      <th>acceleration</th>\n",
       "      <th>model_year</th>\n",
       "      <th>origin</th>\n",
       "      <th>make_model</th>\n",
       "      <th>origin_region</th>\n",
       "      <th>test</th>\n",
       "    </tr>\n",
       "  </thead>\n",
       "  <tbody>\n",
       "    <tr>\n",
       "      <th>96</th>\n",
       "      <td>13</td>\n",
       "      <td>8</td>\n",
       "      <td>360</td>\n",
       "      <td>175.000</td>\n",
       "      <td>3821</td>\n",
       "      <td>11.000</td>\n",
       "      <td>73</td>\n",
       "      <td>1</td>\n",
       "      <td>amc ambassador brougham</td>\n",
       "      <td>American</td>\n",
       "      <td>1</td>\n",
       "    </tr>\n",
       "    <tr>\n",
       "      <th>9</th>\n",
       "      <td>15</td>\n",
       "      <td>8</td>\n",
       "      <td>390</td>\n",
       "      <td>190.000</td>\n",
       "      <td>3850</td>\n",
       "      <td>8.500</td>\n",
       "      <td>70</td>\n",
       "      <td>1</td>\n",
       "      <td>amc ambassador dpl</td>\n",
       "      <td>American</td>\n",
       "      <td>1</td>\n",
       "    </tr>\n",
       "    <tr>\n",
       "      <th>66</th>\n",
       "      <td>17</td>\n",
       "      <td>8</td>\n",
       "      <td>304</td>\n",
       "      <td>150.000</td>\n",
       "      <td>3672</td>\n",
       "      <td>11.500</td>\n",
       "      <td>72</td>\n",
       "      <td>1</td>\n",
       "      <td>amc ambassador sst</td>\n",
       "      <td>American</td>\n",
       "      <td>1</td>\n",
       "    </tr>\n",
       "    <tr>\n",
       "      <th>315</th>\n",
       "      <td>24</td>\n",
       "      <td>4</td>\n",
       "      <td>151</td>\n",
       "      <td>90.000</td>\n",
       "      <td>3003</td>\n",
       "      <td>20.100</td>\n",
       "      <td>80</td>\n",
       "      <td>1</td>\n",
       "      <td>amc concord</td>\n",
       "      <td>American</td>\n",
       "      <td>1</td>\n",
       "    </tr>\n",
       "    <tr>\n",
       "      <th>257</th>\n",
       "      <td>19</td>\n",
       "      <td>6</td>\n",
       "      <td>232</td>\n",
       "      <td>90.000</td>\n",
       "      <td>3210</td>\n",
       "      <td>17.200</td>\n",
       "      <td>78</td>\n",
       "      <td>1</td>\n",
       "      <td>amc concord</td>\n",
       "      <td>American</td>\n",
       "      <td>1</td>\n",
       "    </tr>\n",
       "  </tbody>\n",
       "</table>\n",
       "</div>"
      ],
      "text/plain": [
       "     mpg  cylinders  displacement  horsepower  weight  acceleration  \\\n",
       "96    13          8           360     175.000    3821        11.000   \n",
       "9     15          8           390     190.000    3850         8.500   \n",
       "66    17          8           304     150.000    3672        11.500   \n",
       "315   24          4           151      90.000    3003        20.100   \n",
       "257   19          6           232      90.000    3210        17.200   \n",
       "\n",
       "     model_year  origin               make_model origin_region  test  \n",
       "96           73       1  amc ambassador brougham      American     1  \n",
       "9            70       1       amc ambassador dpl      American     1  \n",
       "66           72       1       amc ambassador sst      American     1  \n",
       "315          80       1              amc concord      American     1  \n",
       "257          78       1              amc concord      American     1  "
      ]
     },
     "execution_count": 61,
     "metadata": {},
     "output_type": "execute_result"
    }
   ],
   "source": [
    "df.drop('test', axis=1, inplace=True) # Remove the 'test' column to revert df back to how it was before the last example\n",
    "df2 = df  # This creates a new dataframe from the original, but's not a copy so changes to one dataframe will affect the other \n",
    "df['test'] = 1   # Add a new column to the original dataframe\n",
    "df2.head()   # The newly added column in the original dataframe is also added to the newer dataframe"
   ]
  }
 ],
 "metadata": {
  "anaconda-cloud": {},
  "kernelspec": {
   "display_name": "Python [Root]",
   "language": "python",
   "name": "Python [Root]"
  },
  "language_info": {
   "codemirror_mode": {
    "name": "ipython",
    "version": 2
   },
   "file_extension": ".py",
   "mimetype": "text/x-python",
   "name": "python",
   "nbconvert_exporter": "python",
   "pygments_lexer": "ipython2",
   "version": "2.7.12"
  }
 },
 "nbformat": 4,
 "nbformat_minor": 0
}

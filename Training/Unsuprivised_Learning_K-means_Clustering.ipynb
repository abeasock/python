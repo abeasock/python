{
 "cells": [
  {
   "cell_type": "markdown",
   "metadata": {},
   "source": [
    "<br>\n",
    "# Unsupervised Learning: K-means clustering using scikit-learn in Python\n",
    "\n",
    "### <span style=\"color:red\">This notebook was created using Python 2.7.12 | Anaconda 4.1.1 (64-bit) | Jupyter 4.2.1</span>\n",
    "<br>\n",
    "There are several clustering algorithms available in `sci-kit learn`. The simplest and most widely used algorithm is K-means. K-means groups (or clusters) data points that have similar properties into a user-specified number (k) of clusters. The algorithm finds the nearest cluster center (centroid) for each data point and assigns the data points closest to that cluster. Once all the data points have been assigned to clusters, the cluster centers are recomputed. This is repeated until most data points stick to the same cluster."
   ]
  },
  {
   "cell_type": "code",
   "execution_count": 2,
   "metadata": {
    "collapsed": true
   },
   "outputs": [],
   "source": [
    "# show plots in the notebook\n",
    "%matplotlib inline\n",
    "\n",
    "import pandas as pd\n",
    "import numpy as np\n",
    "from sklearn.cluster import KMeans\n",
    "import matplotlib.pyplot as plt"
   ]
  },
  {
   "cell_type": "markdown",
   "metadata": {},
   "source": [
    "### Data\n",
    "\n",
    "To explain K-means I will use a simple example. The `adult_baby.csv` is a fictitious dataset I created to compare adults and babies. There are 20 observations in the data, each with a height and weight. The group variable represents whether the record belongs to an adult or baby (0=baby, 1=adult)."
   ]
  },
  {
   "cell_type": "code",
   "execution_count": 3,
   "metadata": {
    "collapsed": false
   },
   "outputs": [],
   "source": [
    "data = pd.read_csv('/Users/abeasock/Documents/Data/adult_baby.csv')"
   ]
  },
  {
   "cell_type": "code",
   "execution_count": 4,
   "metadata": {
    "collapsed": false
   },
   "outputs": [
    {
     "data": {
      "text/html": [
       "<div>\n",
       "<table border=\"1\" class=\"dataframe\">\n",
       "  <thead>\n",
       "    <tr style=\"text-align: right;\">\n",
       "      <th></th>\n",
       "      <th>group</th>\n",
       "      <th>height</th>\n",
       "      <th>weight</th>\n",
       "    </tr>\n",
       "  </thead>\n",
       "  <tbody>\n",
       "    <tr>\n",
       "      <th>0</th>\n",
       "      <td>0</td>\n",
       "      <td>22.8</td>\n",
       "      <td>12.3</td>\n",
       "    </tr>\n",
       "    <tr>\n",
       "      <th>1</th>\n",
       "      <td>0</td>\n",
       "      <td>28.0</td>\n",
       "      <td>19.2</td>\n",
       "    </tr>\n",
       "    <tr>\n",
       "      <th>2</th>\n",
       "      <td>1</td>\n",
       "      <td>68.3</td>\n",
       "      <td>134.0</td>\n",
       "    </tr>\n",
       "    <tr>\n",
       "      <th>3</th>\n",
       "      <td>0</td>\n",
       "      <td>21.4</td>\n",
       "      <td>7.6</td>\n",
       "    </tr>\n",
       "    <tr>\n",
       "      <th>4</th>\n",
       "      <td>1</td>\n",
       "      <td>64.2</td>\n",
       "      <td>125.8</td>\n",
       "    </tr>\n",
       "  </tbody>\n",
       "</table>\n",
       "</div>"
      ],
      "text/plain": [
       "   group  height  weight\n",
       "0      0    22.8    12.3\n",
       "1      0    28.0    19.2\n",
       "2      1    68.3   134.0\n",
       "3      0    21.4     7.6\n",
       "4      1    64.2   125.8"
      ]
     },
     "execution_count": 4,
     "metadata": {},
     "output_type": "execute_result"
    }
   ],
   "source": [
    "data.head()"
   ]
  },
  {
   "cell_type": "markdown",
   "metadata": {},
   "source": [
    "`X_data` is our data with the attributes for clustering. `y_data` is our target. Generally unsupervised learning is used on unlabeled data (when a target is not known). However, for demonstration purposes I have included a target variable to show how well K-means performs on our data."
   ]
  },
  {
   "cell_type": "code",
   "execution_count": 4,
   "metadata": {
    "collapsed": true
   },
   "outputs": [],
   "source": [
    "X_data = data.drop(['group'], axis=1)\n",
    "y_data = data['group']"
   ]
  },
  {
   "cell_type": "markdown",
   "metadata": {},
   "source": [
    "### Selecting the optimal number of clusters\n",
    "\n",
    "The algorithm it clusters the data into k clusters, even if k is not the right number of clusters to use. So when using k-Means users need some way to determine whether they are using the right number of clusters. One method is called the elbow method. \n",
    "\n",
    "This method runs k-mean clustering on the data for a range of values of k. For example, below K-means is run on 1-10 clusters. Then look for elbow to pick the number of clusters, anything before the elbow the distances are too great and everything after the elbow the distances are too small between clusters."
   ]
  },
  {
   "cell_type": "code",
   "execution_count": 5,
   "metadata": {
    "collapsed": false
   },
   "outputs": [
    {
     "data": {
      "text/plain": [
       "<matplotlib.text.Text at 0x118424d50>"
      ]
     },
     "execution_count": 5,
     "metadata": {},
     "output_type": "execute_result"
    },
    {
     "data": {
      "image/png": "[encoded data removed]",
      "text/plain": [
       "<matplotlib.figure.Figure at 0x104ad8050>"
      ]
     },
     "metadata": {},
     "output_type": "display_data"
    }
   ],
   "source": [
    "from scipy.spatial.distance import cdist\n",
    "clusters=range(1,11)\n",
    "meandist=[]\n",
    "\n",
    "# loop through each cluster and fit the model to the train set\n",
    "# generate the predicted cluster assignment and append the mean distance my \n",
    "# taking the sum divided by the shape\n",
    "for k in clusters:\n",
    "    model=KMeans(n_clusters=k)\n",
    "    model.fit(X_data)\n",
    "    clusassign=model.predict(X_data)\n",
    "    meandist.append(sum(np.min(cdist(X_data, model.cluster_centers_, 'euclidean'), axis=1))\n",
    "    / X_data.shape[0])\n",
    "    \n",
    "\"\"\"\n",
    "Plot average distance from observations from the cluster centroid\n",
    "to use the Elbow Method to identify number of clusters to choose\n",
    "\"\"\"\n",
    "plt.plot(clusters, meandist)\n",
    "plt.xlabel('Number of clusters')\n",
    "plt.ylabel('Average distance')\n",
    "plt.title('Selecting k with the Elbow Method')\n",
    "# pick the fewest number of clusters that reduces the average distance"
   ]
  },
  {
   "cell_type": "markdown",
   "metadata": {},
   "source": [
    "We see a pretty clear elbow at k=3, indicating 3 is the best number of clusters. We know that this dataset only has two groups, but let's try using k=3 to see what it will give us."
   ]
  },
  {
   "cell_type": "markdown",
   "metadata": {},
   "source": [
    "### K-means clustering"
   ]
  },
  {
   "cell_type": "code",
   "execution_count": 24,
   "metadata": {
    "collapsed": false
   },
   "outputs": [],
   "source": [
    "np.random.seed(4352)\n",
    "\n",
    "kmeans = KMeans(n_clusters=3)\n",
    "kmeans.fit(X_data)\n",
    "labels = kmeans.labels_\n",
    "centroids = kmeans.cluster_centers_"
   ]
  },
  {
   "cell_type": "markdown",
   "metadata": {},
   "source": [
    "Because our data has a variable with groups we can check to see how well our K-means algorithm did at correctly labeling the groups. Being able to do a check like this is unusual because most of the time you will be working with unlabeled data."
   ]
  },
  {
   "cell_type": "code",
   "execution_count": 25,
   "metadata": {
    "collapsed": false
   },
   "outputs": [
    {
     "name": "stdout",
     "output_type": "stream",
     "text": [
      "Result: 17 out of 20 samples were correctly labeled.\n"
     ]
    }
   ],
   "source": [
    "# check how many of the samples were correctly labeled\n",
    "correct_labels = sum(y_data == labels)\n",
    "\n",
    "print(\"Result: %d out of %d samples were correctly labeled.\" % (correct_labels, y_data.size))"
   ]
  },
  {
   "cell_type": "markdown",
   "metadata": {},
   "source": [
    "### Scatter plot of clusters\n",
    "\n",
    "Again since we know the real groups in the data we can plot this and compare it to the predicted clusters."
   ]
  },
  {
   "cell_type": "code",
   "execution_count": 23,
   "metadata": {
    "collapsed": false
   },
   "outputs": [
    {
     "data": {
      "text/plain": [
       "<matplotlib.text.Text at 0x119ed7b90>"
      ]
     },
     "execution_count": 23,
     "metadata": {},
     "output_type": "execute_result"
    },
    {
     "data": {
      "image/png": "[encoded data removed]",
      "text/plain": [
       "<matplotlib.figure.Figure at 0x119c274d0>"
      ]
     },
     "metadata": {},
     "output_type": "display_data"
    }
   ],
   "source": [
    "# View the results\n",
    "# Set the size of the plot\n",
    "plt.figure(figsize=(14,7))\n",
    " \n",
    "# Create a colormap\n",
    "colormap = np.array(['red', 'blue', 'green'])\n",
    " \n",
    "# Plot Orginal\n",
    "plt.subplot(1, 2, 1)\n",
    "plt.scatter(data.height, data.weight, c=colormap[data.group], s=40)\n",
    "plt.xlabel('Height (inches)')\n",
    "plt.ylabel('Weight (pounds)')\n",
    "plt.title('Real Classification')\n",
    " \n",
    "# Plot Predicted with corrected values\n",
    "plt.subplot(1, 2, 2)\n",
    "plt.scatter(X_data.height, X_data.weight, c=colormap[labels], s=40)\n",
    "plt.scatter(centroids[:, 0], centroids[:, 1], c='yellow', s=100)\n",
    "plt.xlabel('Height (inches)')\n",
    "plt.ylabel('Weight (pounds)')\n",
    "plt.title('K Mean Classification')"
   ]
  },
  {
   "cell_type": "markdown",
   "metadata": {},
   "source": [
    "#### Change it to k=2"
   ]
  },
  {
   "cell_type": "code",
   "execution_count": 26,
   "metadata": {
    "collapsed": true
   },
   "outputs": [],
   "source": [
    "kmeans = KMeans(n_clusters=2)\n",
    "kmeans.fit(X_data)\n",
    "labels = kmeans.labels_\n",
    "centroids = kmeans.cluster_centers_"
   ]
  },
  {
   "cell_type": "code",
   "execution_count": 27,
   "metadata": {
    "collapsed": false
   },
   "outputs": [
    {
     "name": "stdout",
     "output_type": "stream",
     "text": [
      "Result: 20 out of 20 samples were correctly labeled.\n"
     ]
    }
   ],
   "source": [
    "# check how many of the samples were correctly labeled\n",
    "correct_labels = sum(y_data == labels)\n",
    "\n",
    "print(\"Result: %d out of %d samples were correctly labeled.\" % (correct_labels, y_data.size))"
   ]
  },
  {
   "cell_type": "code",
   "execution_count": 29,
   "metadata": {
    "collapsed": false
   },
   "outputs": [
    {
     "data": {
      "text/plain": [
       "<matplotlib.text.Text at 0x11a8b9290>"
      ]
     },
     "execution_count": 29,
     "metadata": {},
     "output_type": "execute_result"
    },
    {
     "data": {
      "image/png": "[encoded data removed]",
      "text/plain": [
       "<matplotlib.figure.Figure at 0x119c65650>"
      ]
     },
     "metadata": {},
     "output_type": "display_data"
    }
   ],
   "source": [
    "# View the results\n",
    "\n",
    "# Plot Predicted with corrected values\n",
    "plt.scatter(X_data.height, X_data.weight, c=colormap[labels], s=40)\n",
    "plt.scatter(centroids[:, 0], centroids[:, 1], c='yellow', s=100)\n",
    "plt.xlabel('Height (inches)')\n",
    "plt.ylabel('Weight (pounds)')\n",
    "plt.title('K Mean Classification')"
   ]
  }
 ],
 "metadata": {
  "anaconda-cloud": {},
  "kernelspec": {
   "display_name": "Python [Root]",
   "language": "python",
   "name": "Python [Root]"
  },
  "language_info": {
   "codemirror_mode": {
    "name": "ipython",
    "version": 2
   },
   "file_extension": ".py",
   "mimetype": "text/x-python",
   "name": "python",
   "nbconvert_exporter": "python",
   "pygments_lexer": "ipython2",
   "version": "2.7.12"
  }
 },
 "nbformat": 4,
 "nbformat_minor": 0
}
